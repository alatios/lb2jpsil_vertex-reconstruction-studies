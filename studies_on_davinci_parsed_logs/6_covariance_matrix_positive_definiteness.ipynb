{
 "cells": [
  {
   "cell_type": "markdown",
   "id": "91c96492",
   "metadata": {},
   "source": [
    "This analyzes the **output of the data parser**, i.e. the MC DST(s) read directly from the log."
   ]
  },
  {
   "cell_type": "code",
   "execution_count": 1,
   "id": "eb5e0131",
   "metadata": {},
   "outputs": [],
   "source": [
    "import pandas as pd\n",
    "import numpy as np\n",
    "from numpy import linalg\n",
    "from matplotlib import pyplot as plt"
   ]
  },
  {
   "cell_type": "markdown",
   "id": "5d8bddc1",
   "metadata": {},
   "source": [
    "# Import MC data"
   ]
  },
  {
   "cell_type": "code",
   "execution_count": 2,
   "id": "e88cfe69",
   "metadata": {},
   "outputs": [],
   "source": [
    "inputFile = '~/data/parsedDaVinciLog.h5'\n",
    "df_events = pd.read_hdf(inputFile, key='LHCbMC_Lb')"
   ]
  },
  {
   "cell_type": "code",
   "execution_count": 3,
   "id": "efc3c201",
   "metadata": {},
   "outputs": [
    {
     "data": {
      "text/html": [
       "<div>\n",
       "<style scoped>\n",
       "    .dataframe tbody tr th:only-of-type {\n",
       "        vertical-align: middle;\n",
       "    }\n",
       "\n",
       "    .dataframe tbody tr th {\n",
       "        vertical-align: top;\n",
       "    }\n",
       "\n",
       "    .dataframe thead th {\n",
       "        text-align: right;\n",
       "    }\n",
       "</style>\n",
       "<table border=\"1\" class=\"dataframe\">\n",
       "  <thead>\n",
       "    <tr style=\"text-align: right;\">\n",
       "      <th></th>\n",
       "      <th>seed_vtx</th>\n",
       "      <th>seed_chi2</th>\n",
       "      <th>seed_ci</th>\n",
       "      <th>p_refPoint</th>\n",
       "      <th>p_momentum</th>\n",
       "      <th>p_energy</th>\n",
       "      <th>p_posMomCovMatrix</th>\n",
       "      <th>pim_refPoint</th>\n",
       "      <th>pim_momentum</th>\n",
       "      <th>pim_energy</th>\n",
       "      <th>pim_posMomCovMatrix</th>\n",
       "      <th>numberOfIterations</th>\n",
       "      <th>iter_currentVertices</th>\n",
       "      <th>iter_previousVertices</th>\n",
       "      <th>iter_covMatrices</th>\n",
       "      <th>iter_chi2s</th>\n",
       "      <th>iter_deltaVertices</th>\n",
       "      <th>iter_deltaDistances</th>\n",
       "      <th>iter_deltaChi2s</th>\n",
       "      <th>status</th>\n",
       "    </tr>\n",
       "  </thead>\n",
       "  <tbody>\n",
       "    <tr>\n",
       "      <th>0</th>\n",
       "      <td>(147.985, 102.425, 5813.65)</td>\n",
       "      <td>0.0</td>\n",
       "      <td>[[0.155613, -0.00059156, -0.0018908], [-0.0005...</td>\n",
       "      <td>(137.247, 128.359, 7755.84)</td>\n",
       "      <td>(-138.28, 365.041, 25017.9)</td>\n",
       "      <td>25038.50</td>\n",
       "      <td>[[0.00543169, 0.0153676, 0.0, -1.88666, -0.435...</td>\n",
       "      <td>(429.459, 173.613, 7862.59)</td>\n",
       "      <td>(835.081, 166.117, 6084.36)</td>\n",
       "      <td>6145.24</td>\n",
       "      <td>[[0.00543169, 0.0153676, 0.0, -1.88666, -0.435...</td>\n",
       "      <td>10</td>\n",
       "      <td>[(128.156, 86.9709, 4871.29), (113.514, 77.478...</td>\n",
       "      <td>[(147.985, 102.425, 5813.65), (128.156, 86.970...</td>\n",
       "      <td>[[[0.659589, -0.034261, -0.00900721], [-0.0342...</td>\n",
       "      <td>[3.08255, 3.50117, 1.73936, 4.06577, 2.75733, ...</td>\n",
       "      <td>[(-19.8295, -15.4544, -942.357), (-14.6421, -9...</td>\n",
       "      <td>[942.692, 573.933, 438.001, 278.849, 253.93, 2...</td>\n",
       "      <td>[245.489, 4.36432, 2.09498, 0.739273, 0.616799...</td>\n",
       "      <td>NonConverged</td>\n",
       "    </tr>\n",
       "    <tr>\n",
       "      <th>1</th>\n",
       "      <td>(-146.168, 17.7867, 5942.26)</td>\n",
       "      <td>0.0</td>\n",
       "      <td>[[0.118983, 8.69493e-05, 0.0132291], [8.69493e...</td>\n",
       "      <td>(-338.922, 27.3306, 7668.24)</td>\n",
       "      <td>(-1036.51, 54.3145, 9281.18)</td>\n",
       "      <td>9386.05</td>\n",
       "      <td>[[1.64763, -2.50882, 0.0, -236.134, -17.4607, ...</td>\n",
       "      <td>(1431.68, 344.288, 7987.89)</td>\n",
       "      <td>(1562.49, 152.803, 2014.65)</td>\n",
       "      <td>2557.93</td>\n",
       "      <td>[[1.64763, -2.50882, 0.0, -236.134, -17.4607, ...</td>\n",
       "      <td>5</td>\n",
       "      <td>[(-127.834, 14.3138, 5384.84), (-121.396, 13.2...</td>\n",
       "      <td>[(-146.168, 17.7867, 5942.26), (-127.834, 14.3...</td>\n",
       "      <td>[[[0.286808, -0.0155054, 0.0219773], [-0.01550...</td>\n",
       "      <td>[38.6035, 24.0006, 20.9086, 20.0475, 19.788]</td>\n",
       "      <td>[(18.3332, -3.47288, -557.426), (6.43798, -1.1...</td>\n",
       "      <td>[557.738, 182.288, 58.0447, 18.2384, 5.70686]</td>\n",
       "      <td>[261.972, 4.86756, 0.247885, 0.0207951, 0.0019...</td>\n",
       "      <td>Converged</td>\n",
       "    </tr>\n",
       "    <tr>\n",
       "      <th>2</th>\n",
       "      <td>(-707.805, 67.6195, 7060.87)</td>\n",
       "      <td>0.0</td>\n",
       "      <td>[[0.0203782, -0.000126861, 0.00277254], [-0.00...</td>\n",
       "      <td>(-677.459, -145.048, 7853.69)</td>\n",
       "      <td>(233.939, -99.447, 5815.13)</td>\n",
       "      <td>5895.82</td>\n",
       "      <td>[[0.0278222, 0.00205764, 0.0, -5.51889, 0.0711...</td>\n",
       "      <td>(-1476.38, 944.228, 7862.48)</td>\n",
       "      <td>(-1074.93, 36.0767, 1119.98)</td>\n",
       "      <td>1559.04</td>\n",
       "      <td>[[0.0278222, 0.00205764, 0.0, -5.51889, 0.0711...</td>\n",
       "      <td>6</td>\n",
       "      <td>[(-715.67, -52.001, 6263.48), (-696.752, -71.0...</td>\n",
       "      <td>[(-707.805, 67.6195, 7060.87), (-715.67, -52.0...</td>\n",
       "      <td>[[[1.24177, -0.118863, 0.0170006], [-0.118863,...</td>\n",
       "      <td>[23757.3, 4100.97, 513.884, 3.95342, 0.436837,...</td>\n",
       "      <td>[(-7.86515, -119.621, -797.394), (18.9179, -19...</td>\n",
       "      <td>[806.354, 1239.01, 2163.63, 3058.61, 69.2146, ...</td>\n",
       "      <td>[28185.9, 5359.6, 1521.69, 277.699, 0.0655407,...</td>\n",
       "      <td>Converged</td>\n",
       "    </tr>\n",
       "    <tr>\n",
       "      <th>3</th>\n",
       "      <td>(-510.435, -58.8328, 7346.39)</td>\n",
       "      <td>0.0</td>\n",
       "      <td>[[0.259843, -0.000363629, 0.0170464], [-0.0003...</td>\n",
       "      <td>(-533.746, -59.9612, 7668.24)</td>\n",
       "      <td>(-2631.76, -251.121, 36328.0)</td>\n",
       "      <td>36436.10</td>\n",
       "      <td>[[0.00076176, 0.000191707, 0.0, 0.0938744, 0.0...</td>\n",
       "      <td>(-529.408, -64.6333, 7668.24)</td>\n",
       "      <td>(-456.258, -113.784, 7741.62)</td>\n",
       "      <td>7757.15</td>\n",
       "      <td>[[0.00076176, 0.000191707, 0.0, 0.0938744, 0.0...</td>\n",
       "      <td>4</td>\n",
       "      <td>[(-502.054, -57.5205, 7226.71), (-499.733, -57...</td>\n",
       "      <td>[(-510.435, -58.8328, 7346.39), (-502.054, -57...</td>\n",
       "      <td>[[[383.128, -0.189655, 25.9738], [-0.189655, 7...</td>\n",
       "      <td>[3.03136, 1.67087, 1.5105, 1.49432]</td>\n",
       "      <td>[(8.38128, 1.31236, -119.687), (2.32073, 0.360...</td>\n",
       "      <td>[119.988, 33.2847, 5.48213, 0.657721]</td>\n",
       "      <td>[109.583, 2.01083, 0.0308117, 0.000382704]</td>\n",
       "      <td>Converged</td>\n",
       "    </tr>\n",
       "    <tr>\n",
       "      <th>4</th>\n",
       "      <td>(-12.3806, 92.5885, 5801.55)</td>\n",
       "      <td>0.0</td>\n",
       "      <td>[[0.262182, -0.000739441, 0.00767508], [-0.000...</td>\n",
       "      <td>(0.3891, 123.46, 7755.84)</td>\n",
       "      <td>(604.198, 1520.0, 92425.2)</td>\n",
       "      <td>92444.50</td>\n",
       "      <td>[[0.00077284, 0.000184163, 0.0, -0.575792, 0.1...</td>\n",
       "      <td>(-141.191, 126.382, 7755.84)</td>\n",
       "      <td>(-903.316, 226.483, 13704.8)</td>\n",
       "      <td>13737.10</td>\n",
       "      <td>[[0.00077284, 0.000184163, 0.0, -0.575792, 0.1...</td>\n",
       "      <td>3</td>\n",
       "      <td>[(-10.7259, 82.9239, 5218.85), (-10.3121, 80.5...</td>\n",
       "      <td>[(-12.3806, 92.5885, 5801.55), (-10.7259, 82.9...</td>\n",
       "      <td>[[[1.31809, -0.0459506, 0.0091716], [-0.045950...</td>\n",
       "      <td>[2.29967, 1.51361, 1.38683]</td>\n",
       "      <td>[(1.65477, -9.66463, -582.702), (0.413816, -2....</td>\n",
       "      <td>[582.784, 143.588, 11.9994]</td>\n",
       "      <td>[140.593, 1.22127, 0.00501794]</td>\n",
       "      <td>Converged</td>\n",
       "    </tr>\n",
       "    <tr>\n",
       "      <th>...</th>\n",
       "      <td>...</td>\n",
       "      <td>...</td>\n",
       "      <td>...</td>\n",
       "      <td>...</td>\n",
       "      <td>...</td>\n",
       "      <td>...</td>\n",
       "      <td>...</td>\n",
       "      <td>...</td>\n",
       "      <td>...</td>\n",
       "      <td>...</td>\n",
       "      <td>...</td>\n",
       "      <td>...</td>\n",
       "      <td>...</td>\n",
       "      <td>...</td>\n",
       "      <td>...</td>\n",
       "      <td>...</td>\n",
       "      <td>...</td>\n",
       "      <td>...</td>\n",
       "      <td>...</td>\n",
       "      <td>...</td>\n",
       "    </tr>\n",
       "    <tr>\n",
       "      <th>1085</th>\n",
       "      <td>(-869.552, -85.4424, 10409.1)</td>\n",
       "      <td>0.0</td>\n",
       "      <td>[[0.122858, -0.000871916, 0.0172491], [-0.0008...</td>\n",
       "      <td>(-783.797, -42.3525, 7853.69)</td>\n",
       "      <td>(-347.049, -69.6395, 10360.5)</td>\n",
       "      <td>10408.90</td>\n",
       "      <td>[[0.000961, 0.00151887, 0.0, -1.2709, -0.02359...</td>\n",
       "      <td>(-436.343, -76.9904, 7672.24)</td>\n",
       "      <td>(-1109.36, -38.3318, 7007.87)</td>\n",
       "      <td>7096.61</td>\n",
       "      <td>[[0.000961, 0.00151887, 0.0, -1.2709, -0.02359...</td>\n",
       "      <td>3</td>\n",
       "      <td>[(-847.033, -65.421, 10120.3), (-846.99, -64.9...</td>\n",
       "      <td>[(-869.552, -85.4424, 10409.1), (-847.033, -65...</td>\n",
       "      <td>[[[8.28967, -0.0261719, 0.553699], [-0.0261719...</td>\n",
       "      <td>[74.2682, 96.1596, 96.3151]</td>\n",
       "      <td>[(22.5189, 20.0214, -288.802), (0.0423759, 0.4...</td>\n",
       "      <td>[290.37, 1.75959, 0.00762202]</td>\n",
       "      <td>[3606.63, 0.421589, 1.34646e-05]</td>\n",
       "      <td>Converged</td>\n",
       "    </tr>\n",
       "    <tr>\n",
       "      <th>1086</th>\n",
       "      <td>(-6.33693, 47.8751, 4840.09)</td>\n",
       "      <td>0.0</td>\n",
       "      <td>[[0.213575, 0.00248458, -0.00607877], [0.00248...</td>\n",
       "      <td>(-230.828, 117.343, 7751.84)</td>\n",
       "      <td>(-1287.91, 274.412, 16700.1)</td>\n",
       "      <td>16778.20</td>\n",
       "      <td>[[0.00159201, -0.0155357, 0.0, -0.888802, 0.13...</td>\n",
       "      <td>(484.395, 2.332, 7672.29)</td>\n",
       "      <td>(1285.45, 31.9525, 7445.99)</td>\n",
       "      <td>7557.49</td>\n",
       "      <td>[[0.00159201, -0.0155357, 0.0, -0.888802, 0.13...</td>\n",
       "      <td>5</td>\n",
       "      <td>[(-2.98968, 28.5927, 3453.31), (-6.53087, -4.1...</td>\n",
       "      <td>[(-6.33693, 47.8751, 4840.09), (-2.98968, 28.5...</td>\n",
       "      <td>[[[0.0412808, 0.00956795, -0.000385316], [0.00...</td>\n",
       "      <td>[188.658, 39.9437, 3.45855, 1.60207, 1.53739]</td>\n",
       "      <td>[(3.34724, -19.2824, -1386.78), (-3.54119, -32...</td>\n",
       "      <td>[1386.91, 2580.25, 1981.56, 132.435, 4.65559]</td>\n",
       "      <td>[301.349, 50.7064, 6.47518, 0.0175542, 2.12254...</td>\n",
       "      <td>Converged</td>\n",
       "    </tr>\n",
       "    <tr>\n",
       "      <th>1087</th>\n",
       "      <td>(-2.77537, -19.2735, 4848.62)</td>\n",
       "      <td>0.0</td>\n",
       "      <td>[[0.213945, 0.00222587, -0.0108378], [0.002225...</td>\n",
       "      <td>(-111.448, -38.3212, 7672.24)</td>\n",
       "      <td>(-1101.28, -160.999, 28618.0)</td>\n",
       "      <td>28655.00</td>\n",
       "      <td>[[0.00159201, -0.0155357, 0.0, -0.888802, 0.13...</td>\n",
       "      <td>(484.395, 2.332, 7672.29)</td>\n",
       "      <td>(1285.45, 31.9525, 7445.99)</td>\n",
       "      <td>7557.49</td>\n",
       "      <td>[[0.00159201, -0.0155357, 0.0, -0.888802, 0.13...</td>\n",
       "      <td>4</td>\n",
       "      <td>[(-8.5721, -15.4629, 3625.76), (-12.8632, -13....</td>\n",
       "      <td>[(-2.77537, -19.2735, 4848.62), (-8.5721, -15....</td>\n",
       "      <td>[[[0.148786, -0.00985489, 0.000870163], [-0.00...</td>\n",
       "      <td>[0.455797, 1.09364, 0.956296, 1.04055]</td>\n",
       "      <td>[(-5.79673, 3.81059, -1222.86), (-4.2911, 2.40...</td>\n",
       "      <td>[1222.88, 575.041, 111.157, 35.1279]</td>\n",
       "      <td>[246.57, 3.22212, 0.0494256, 0.00493449]</td>\n",
       "      <td>Converged</td>\n",
       "    </tr>\n",
       "    <tr>\n",
       "      <th>1088</th>\n",
       "      <td>(161.568, -80.815, 5788.54)</td>\n",
       "      <td>0.0</td>\n",
       "      <td>[[0.104436, 0.00260099, -0.015545], [0.0026009...</td>\n",
       "      <td>(151.481, -291.649, 7858.86)</td>\n",
       "      <td>(-119.887, -1066.72, 29982.5)</td>\n",
       "      <td>30016.30</td>\n",
       "      <td>[[0.00159201, -0.0155357, 0.0, -0.888802, 0.13...</td>\n",
       "      <td>(484.395, 2.332, 7672.29)</td>\n",
       "      <td>(1285.45, 31.9525, 7445.99)</td>\n",
       "      <td>7557.49</td>\n",
       "      <td>[[0.00159201, -0.0155357, 0.0, -0.888802, 0.13...</td>\n",
       "      <td>4</td>\n",
       "      <td>[(111.327, -97.996, 4735.77), (-17.9353, -58.4...</td>\n",
       "      <td>[(161.568, -80.815, 5788.54), (111.327, -97.99...</td>\n",
       "      <td>[[[0.165085, -0.0188863, -0.0121858], [-0.0188...</td>\n",
       "      <td>[2194.61, 466.424, 1.2325, 0.481157]</td>\n",
       "      <td>[(-50.2405, -17.1811, -1052.77), (-129.263, 39...</td>\n",
       "      <td>[1054.1, 2724.01, 1604.04, 8.49156]</td>\n",
       "      <td>[1019.87, 530.185, 49.2371, 0.00174364]</td>\n",
       "      <td>Converged</td>\n",
       "    </tr>\n",
       "    <tr>\n",
       "      <th>1089</th>\n",
       "      <td>(689.097, -108.652, 1102.05)</td>\n",
       "      <td>0.0</td>\n",
       "      <td>[[0.022292, -0.000317487, 0.00548155], [-0.000...</td>\n",
       "      <td>(-1818.29, -1211.3, 7853.69)</td>\n",
       "      <td>(-3053.02, -1244.97, 8221.3)</td>\n",
       "      <td>8907.36</td>\n",
       "      <td>[[0.00978121, 0.027774, 0.0, -3.98129, -1.26, ...</td>\n",
       "      <td>(-118.288, -332.279, 7853.36)</td>\n",
       "      <td>(-833.04, -244.019, 6963.32)</td>\n",
       "      <td>7018.61</td>\n",
       "      <td>[[0.00978121, 0.027774, 0.0, -3.98129, -1.26, ...</td>\n",
       "      <td>3</td>\n",
       "      <td>[(210.972, -100.613, 900.632), (209.877, -98.4...</td>\n",
       "      <td>[(689.097, -108.652, 1102.05), (210.972, -100....</td>\n",
       "      <td>[[[0.000254081, -8.59738e-05, -3.31063e-06], [...</td>\n",
       "      <td>[80.7083, 74.6691, 73.3663]</td>\n",
       "      <td>[(-478.125, 8.03926, -201.415), (-1.09526, 2.1...</td>\n",
       "      <td>[518.879, 51.7522, 10.9686]</td>\n",
       "      <td>[59.9031, 0.106144, 0.00494273]</td>\n",
       "      <td>Converged</td>\n",
       "    </tr>\n",
       "  </tbody>\n",
       "</table>\n",
       "<p>1090 rows × 20 columns</p>\n",
       "</div>"
      ],
      "text/plain": [
       "                           seed_vtx  seed_chi2  \\\n",
       "0       (147.985, 102.425, 5813.65)        0.0   \n",
       "1      (-146.168, 17.7867, 5942.26)        0.0   \n",
       "2      (-707.805, 67.6195, 7060.87)        0.0   \n",
       "3     (-510.435, -58.8328, 7346.39)        0.0   \n",
       "4      (-12.3806, 92.5885, 5801.55)        0.0   \n",
       "...                             ...        ...   \n",
       "1085  (-869.552, -85.4424, 10409.1)        0.0   \n",
       "1086   (-6.33693, 47.8751, 4840.09)        0.0   \n",
       "1087  (-2.77537, -19.2735, 4848.62)        0.0   \n",
       "1088    (161.568, -80.815, 5788.54)        0.0   \n",
       "1089   (689.097, -108.652, 1102.05)        0.0   \n",
       "\n",
       "                                                seed_ci  \\\n",
       "0     [[0.155613, -0.00059156, -0.0018908], [-0.0005...   \n",
       "1     [[0.118983, 8.69493e-05, 0.0132291], [8.69493e...   \n",
       "2     [[0.0203782, -0.000126861, 0.00277254], [-0.00...   \n",
       "3     [[0.259843, -0.000363629, 0.0170464], [-0.0003...   \n",
       "4     [[0.262182, -0.000739441, 0.00767508], [-0.000...   \n",
       "...                                                 ...   \n",
       "1085  [[0.122858, -0.000871916, 0.0172491], [-0.0008...   \n",
       "1086  [[0.213575, 0.00248458, -0.00607877], [0.00248...   \n",
       "1087  [[0.213945, 0.00222587, -0.0108378], [0.002225...   \n",
       "1088  [[0.104436, 0.00260099, -0.015545], [0.0026009...   \n",
       "1089  [[0.022292, -0.000317487, 0.00548155], [-0.000...   \n",
       "\n",
       "                         p_refPoint                     p_momentum  p_energy  \\\n",
       "0       (137.247, 128.359, 7755.84)    (-138.28, 365.041, 25017.9)  25038.50   \n",
       "1      (-338.922, 27.3306, 7668.24)   (-1036.51, 54.3145, 9281.18)   9386.05   \n",
       "2     (-677.459, -145.048, 7853.69)    (233.939, -99.447, 5815.13)   5895.82   \n",
       "3     (-533.746, -59.9612, 7668.24)  (-2631.76, -251.121, 36328.0)  36436.10   \n",
       "4         (0.3891, 123.46, 7755.84)     (604.198, 1520.0, 92425.2)  92444.50   \n",
       "...                             ...                            ...       ...   \n",
       "1085  (-783.797, -42.3525, 7853.69)  (-347.049, -69.6395, 10360.5)  10408.90   \n",
       "1086   (-230.828, 117.343, 7751.84)   (-1287.91, 274.412, 16700.1)  16778.20   \n",
       "1087  (-111.448, -38.3212, 7672.24)  (-1101.28, -160.999, 28618.0)  28655.00   \n",
       "1088   (151.481, -291.649, 7858.86)  (-119.887, -1066.72, 29982.5)  30016.30   \n",
       "1089   (-1818.29, -1211.3, 7853.69)   (-3053.02, -1244.97, 8221.3)   8907.36   \n",
       "\n",
       "                                      p_posMomCovMatrix  \\\n",
       "0     [[0.00543169, 0.0153676, 0.0, -1.88666, -0.435...   \n",
       "1     [[1.64763, -2.50882, 0.0, -236.134, -17.4607, ...   \n",
       "2     [[0.0278222, 0.00205764, 0.0, -5.51889, 0.0711...   \n",
       "3     [[0.00076176, 0.000191707, 0.0, 0.0938744, 0.0...   \n",
       "4     [[0.00077284, 0.000184163, 0.0, -0.575792, 0.1...   \n",
       "...                                                 ...   \n",
       "1085  [[0.000961, 0.00151887, 0.0, -1.2709, -0.02359...   \n",
       "1086  [[0.00159201, -0.0155357, 0.0, -0.888802, 0.13...   \n",
       "1087  [[0.00159201, -0.0155357, 0.0, -0.888802, 0.13...   \n",
       "1088  [[0.00159201, -0.0155357, 0.0, -0.888802, 0.13...   \n",
       "1089  [[0.00978121, 0.027774, 0.0, -3.98129, -1.26, ...   \n",
       "\n",
       "                       pim_refPoint                   pim_momentum  \\\n",
       "0       (429.459, 173.613, 7862.59)    (835.081, 166.117, 6084.36)   \n",
       "1       (1431.68, 344.288, 7987.89)    (1562.49, 152.803, 2014.65)   \n",
       "2      (-1476.38, 944.228, 7862.48)   (-1074.93, 36.0767, 1119.98)   \n",
       "3     (-529.408, -64.6333, 7668.24)  (-456.258, -113.784, 7741.62)   \n",
       "4      (-141.191, 126.382, 7755.84)   (-903.316, 226.483, 13704.8)   \n",
       "...                             ...                            ...   \n",
       "1085  (-436.343, -76.9904, 7672.24)  (-1109.36, -38.3318, 7007.87)   \n",
       "1086      (484.395, 2.332, 7672.29)    (1285.45, 31.9525, 7445.99)   \n",
       "1087      (484.395, 2.332, 7672.29)    (1285.45, 31.9525, 7445.99)   \n",
       "1088      (484.395, 2.332, 7672.29)    (1285.45, 31.9525, 7445.99)   \n",
       "1089  (-118.288, -332.279, 7853.36)   (-833.04, -244.019, 6963.32)   \n",
       "\n",
       "      pim_energy                                pim_posMomCovMatrix  \\\n",
       "0        6145.24  [[0.00543169, 0.0153676, 0.0, -1.88666, -0.435...   \n",
       "1        2557.93  [[1.64763, -2.50882, 0.0, -236.134, -17.4607, ...   \n",
       "2        1559.04  [[0.0278222, 0.00205764, 0.0, -5.51889, 0.0711...   \n",
       "3        7757.15  [[0.00076176, 0.000191707, 0.0, 0.0938744, 0.0...   \n",
       "4       13737.10  [[0.00077284, 0.000184163, 0.0, -0.575792, 0.1...   \n",
       "...          ...                                                ...   \n",
       "1085     7096.61  [[0.000961, 0.00151887, 0.0, -1.2709, -0.02359...   \n",
       "1086     7557.49  [[0.00159201, -0.0155357, 0.0, -0.888802, 0.13...   \n",
       "1087     7557.49  [[0.00159201, -0.0155357, 0.0, -0.888802, 0.13...   \n",
       "1088     7557.49  [[0.00159201, -0.0155357, 0.0, -0.888802, 0.13...   \n",
       "1089     7018.61  [[0.00978121, 0.027774, 0.0, -3.98129, -1.26, ...   \n",
       "\n",
       "      numberOfIterations                               iter_currentVertices  \\\n",
       "0                     10  [(128.156, 86.9709, 4871.29), (113.514, 77.478...   \n",
       "1                      5  [(-127.834, 14.3138, 5384.84), (-121.396, 13.2...   \n",
       "2                      6  [(-715.67, -52.001, 6263.48), (-696.752, -71.0...   \n",
       "3                      4  [(-502.054, -57.5205, 7226.71), (-499.733, -57...   \n",
       "4                      3  [(-10.7259, 82.9239, 5218.85), (-10.3121, 80.5...   \n",
       "...                  ...                                                ...   \n",
       "1085                   3  [(-847.033, -65.421, 10120.3), (-846.99, -64.9...   \n",
       "1086                   5  [(-2.98968, 28.5927, 3453.31), (-6.53087, -4.1...   \n",
       "1087                   4  [(-8.5721, -15.4629, 3625.76), (-12.8632, -13....   \n",
       "1088                   4  [(111.327, -97.996, 4735.77), (-17.9353, -58.4...   \n",
       "1089                   3  [(210.972, -100.613, 900.632), (209.877, -98.4...   \n",
       "\n",
       "                                  iter_previousVertices  \\\n",
       "0     [(147.985, 102.425, 5813.65), (128.156, 86.970...   \n",
       "1     [(-146.168, 17.7867, 5942.26), (-127.834, 14.3...   \n",
       "2     [(-707.805, 67.6195, 7060.87), (-715.67, -52.0...   \n",
       "3     [(-510.435, -58.8328, 7346.39), (-502.054, -57...   \n",
       "4     [(-12.3806, 92.5885, 5801.55), (-10.7259, 82.9...   \n",
       "...                                                 ...   \n",
       "1085  [(-869.552, -85.4424, 10409.1), (-847.033, -65...   \n",
       "1086  [(-6.33693, 47.8751, 4840.09), (-2.98968, 28.5...   \n",
       "1087  [(-2.77537, -19.2735, 4848.62), (-8.5721, -15....   \n",
       "1088  [(161.568, -80.815, 5788.54), (111.327, -97.99...   \n",
       "1089  [(689.097, -108.652, 1102.05), (210.972, -100....   \n",
       "\n",
       "                                       iter_covMatrices  \\\n",
       "0     [[[0.659589, -0.034261, -0.00900721], [-0.0342...   \n",
       "1     [[[0.286808, -0.0155054, 0.0219773], [-0.01550...   \n",
       "2     [[[1.24177, -0.118863, 0.0170006], [-0.118863,...   \n",
       "3     [[[383.128, -0.189655, 25.9738], [-0.189655, 7...   \n",
       "4     [[[1.31809, -0.0459506, 0.0091716], [-0.045950...   \n",
       "...                                                 ...   \n",
       "1085  [[[8.28967, -0.0261719, 0.553699], [-0.0261719...   \n",
       "1086  [[[0.0412808, 0.00956795, -0.000385316], [0.00...   \n",
       "1087  [[[0.148786, -0.00985489, 0.000870163], [-0.00...   \n",
       "1088  [[[0.165085, -0.0188863, -0.0121858], [-0.0188...   \n",
       "1089  [[[0.000254081, -8.59738e-05, -3.31063e-06], [...   \n",
       "\n",
       "                                             iter_chi2s  \\\n",
       "0     [3.08255, 3.50117, 1.73936, 4.06577, 2.75733, ...   \n",
       "1          [38.6035, 24.0006, 20.9086, 20.0475, 19.788]   \n",
       "2     [23757.3, 4100.97, 513.884, 3.95342, 0.436837,...   \n",
       "3                   [3.03136, 1.67087, 1.5105, 1.49432]   \n",
       "4                           [2.29967, 1.51361, 1.38683]   \n",
       "...                                                 ...   \n",
       "1085                        [74.2682, 96.1596, 96.3151]   \n",
       "1086      [188.658, 39.9437, 3.45855, 1.60207, 1.53739]   \n",
       "1087             [0.455797, 1.09364, 0.956296, 1.04055]   \n",
       "1088               [2194.61, 466.424, 1.2325, 0.481157]   \n",
       "1089                        [80.7083, 74.6691, 73.3663]   \n",
       "\n",
       "                                     iter_deltaVertices  \\\n",
       "0     [(-19.8295, -15.4544, -942.357), (-14.6421, -9...   \n",
       "1     [(18.3332, -3.47288, -557.426), (6.43798, -1.1...   \n",
       "2     [(-7.86515, -119.621, -797.394), (18.9179, -19...   \n",
       "3     [(8.38128, 1.31236, -119.687), (2.32073, 0.360...   \n",
       "4     [(1.65477, -9.66463, -582.702), (0.413816, -2....   \n",
       "...                                                 ...   \n",
       "1085  [(22.5189, 20.0214, -288.802), (0.0423759, 0.4...   \n",
       "1086  [(3.34724, -19.2824, -1386.78), (-3.54119, -32...   \n",
       "1087  [(-5.79673, 3.81059, -1222.86), (-4.2911, 2.40...   \n",
       "1088  [(-50.2405, -17.1811, -1052.77), (-129.263, 39...   \n",
       "1089  [(-478.125, 8.03926, -201.415), (-1.09526, 2.1...   \n",
       "\n",
       "                                    iter_deltaDistances  \\\n",
       "0     [942.692, 573.933, 438.001, 278.849, 253.93, 2...   \n",
       "1         [557.738, 182.288, 58.0447, 18.2384, 5.70686]   \n",
       "2     [806.354, 1239.01, 2163.63, 3058.61, 69.2146, ...   \n",
       "3                 [119.988, 33.2847, 5.48213, 0.657721]   \n",
       "4                           [582.784, 143.588, 11.9994]   \n",
       "...                                                 ...   \n",
       "1085                      [290.37, 1.75959, 0.00762202]   \n",
       "1086      [1386.91, 2580.25, 1981.56, 132.435, 4.65559]   \n",
       "1087               [1222.88, 575.041, 111.157, 35.1279]   \n",
       "1088                [1054.1, 2724.01, 1604.04, 8.49156]   \n",
       "1089                        [518.879, 51.7522, 10.9686]   \n",
       "\n",
       "                                        iter_deltaChi2s        status  \n",
       "0     [245.489, 4.36432, 2.09498, 0.739273, 0.616799...  NonConverged  \n",
       "1     [261.972, 4.86756, 0.247885, 0.0207951, 0.0019...     Converged  \n",
       "2     [28185.9, 5359.6, 1521.69, 277.699, 0.0655407,...     Converged  \n",
       "3            [109.583, 2.01083, 0.0308117, 0.000382704]     Converged  \n",
       "4                        [140.593, 1.22127, 0.00501794]     Converged  \n",
       "...                                                 ...           ...  \n",
       "1085                   [3606.63, 0.421589, 1.34646e-05]     Converged  \n",
       "1086  [301.349, 50.7064, 6.47518, 0.0175542, 2.12254...     Converged  \n",
       "1087           [246.57, 3.22212, 0.0494256, 0.00493449]     Converged  \n",
       "1088            [1019.87, 530.185, 49.2371, 0.00174364]     Converged  \n",
       "1089                    [59.9031, 0.106144, 0.00494273]     Converged  \n",
       "\n",
       "[1090 rows x 20 columns]"
      ]
     },
     "execution_count": 3,
     "metadata": {},
     "output_type": "execute_result"
    }
   ],
   "source": [
    "df_events"
   ]
  },
  {
   "cell_type": "markdown",
   "id": "9bffa489",
   "metadata": {},
   "source": [
    "# Helper functions\n",
    "## Feature component functions\n",
    "We use nested information (lists within the DataFrame), which make it a bit hard to single out individual components. These functions help with that."
   ]
  },
  {
   "cell_type": "code",
   "execution_count": 4,
   "id": "f361c65e",
   "metadata": {},
   "outputs": [],
   "source": [
    "## Use 1,2,3 instead of 0,1,2. Trust me, it's easier.\n",
    "def Feature1DComponent(series, component):\n",
    "    return series.map(lambda x: x[component-1])"
   ]
  },
  {
   "cell_type": "code",
   "execution_count": 5,
   "id": "c6b8ed2d",
   "metadata": {},
   "outputs": [],
   "source": [
    "def Feature2DComponent(series, row, column):\n",
    "    return series.map(lambda x: x[row-1][column-1])"
   ]
  },
  {
   "cell_type": "code",
   "execution_count": 6,
   "id": "4cd7d6cd",
   "metadata": {},
   "outputs": [],
   "source": [
    "def FeatureCoordinate(series, coordinate):  \n",
    "    coordToComponent = {'x': 1, 'y': 2, 'z': 3}\n",
    "    return Feature1DComponent(series, coordToComponent[coordinate])"
   ]
  },
  {
   "cell_type": "markdown",
   "id": "34a645ea",
   "metadata": {},
   "source": [
    "# Are covariance matrices positive-definite?\n",
    "If they are not, `linalg.cholesky` will throw a tantrum."
   ]
  },
  {
   "cell_type": "code",
   "execution_count": 7,
   "id": "62e0e602",
   "metadata": {},
   "outputs": [],
   "source": [
    "def IsPositiveDefinite(matrix, verbose=False):\n",
    "    try:\n",
    "        linalg.cholesky(np.array(matrix))\n",
    "    except linalg.LinAlgError as e:\n",
    "        if verbose:\n",
    "            print(str(e))\n",
    "        return False\n",
    "    return True"
   ]
  },
  {
   "cell_type": "markdown",
   "id": "6fc2a935",
   "metadata": {},
   "source": [
    "## Are the seed inverted covariance matrices PD?"
   ]
  },
  {
   "cell_type": "code",
   "execution_count": 8,
   "id": "f802e2c3",
   "metadata": {},
   "outputs": [
    {
     "name": "stdout",
     "output_type": "stream",
     "text": [
      "All clear.\n"
     ]
    }
   ],
   "source": [
    "pdCounter = 0\n",
    "\n",
    "for ci in df_events['seed_ci']:\n",
    "    pdCounter += not IsPositiveDefinite(ci)\n",
    "\n",
    "if not pdCounter:\n",
    "    print(\"All clear.\")\n",
    "else:\n",
    "    print(\"No,\", pdCounter, \"are not.\")"
   ]
  },
  {
   "cell_type": "markdown",
   "id": "8f2bdaa7",
   "metadata": {},
   "source": [
    "## Are the inverted covariance matrices within an iteration PD?"
   ]
  },
  {
   "cell_type": "code",
   "execution_count": 9,
   "id": "b389826e",
   "metadata": {},
   "outputs": [
    {
     "name": "stdout",
     "output_type": "stream",
     "text": [
      "All clear.\n"
     ]
    }
   ],
   "source": [
    "pdCounter = 0\n",
    "\n",
    "for ciList in df_events[\"iter_covMatrices\"]:\n",
    "    for ci in ciList:\n",
    "        pdCounter += not IsPositiveDefinite(ci)\n",
    "\n",
    "if not pdCounter:\n",
    "    print(\"All clear.\")\n",
    "else:\n",
    "    print(\"No,\", pdCounter, \"are not.\")"
   ]
  },
  {
   "cell_type": "markdown",
   "id": "a5b1c162",
   "metadata": {},
   "source": [
    "## What if we invert them?"
   ]
  },
  {
   "cell_type": "code",
   "execution_count": 10,
   "id": "1bc65763",
   "metadata": {},
   "outputs": [
    {
     "name": "stdout",
     "output_type": "stream",
     "text": [
      "All clear.\n"
     ]
    }
   ],
   "source": [
    "pdCounter = 0\n",
    "\n",
    "for ci in df_events['seed_ci']:\n",
    "    c = linalg.inv(ci)\n",
    "    pdCounter += not IsPositiveDefinite(c)\n",
    "\n",
    "if not pdCounter:\n",
    "    print(\"All clear.\")\n",
    "else:\n",
    "    print(\"No,\", pdCounter, \"are not.\")"
   ]
  },
  {
   "cell_type": "code",
   "execution_count": 11,
   "id": "d0463635",
   "metadata": {},
   "outputs": [
    {
     "name": "stdout",
     "output_type": "stream",
     "text": [
      "All clear.\n"
     ]
    }
   ],
   "source": [
    "pdCounter = 0\n",
    "\n",
    "for ciList in df_events[\"iter_covMatrices\"]:\n",
    "    for ci in ciList:\n",
    "        c = linalg.inv(ci)\n",
    "        pdCounter += not IsPositiveDefinite(c)\n",
    "\n",
    "if not pdCounter:\n",
    "    print(\"All clear.\")\n",
    "else:\n",
    "    print(\"No,\", pdCounter, \"are not.\")"
   ]
  },
  {
   "cell_type": "markdown",
   "id": "f0627805",
   "metadata": {},
   "source": [
    "## Okay, okay, but what about the position-momentum covariance matrices of the proto-particles?\n",
    "Well, here we run into a bit of a problem. See, the `posMomCovMatrix` has a row and column of zeros corresponding to the $z$ coordinate, which is measured. Moreover, I suspect the measurement of energy (7th row/column) is not always independent from that of momentum."
   ]
  },
  {
   "cell_type": "code",
   "execution_count": 12,
   "id": "bb3c4b4e",
   "metadata": {},
   "outputs": [],
   "source": [
    "## Flip the switch for the proton/pion analysis\n",
    "particleToStudy = 'pion'\n",
    "\n",
    "if particleToStudy == 'proton':\n",
    "    pmcFeature = 'p_posMomCovMatrix'\n",
    "elif particleToStudy == 'pion':\n",
    "    pmcFeature = 'pim_posMomCovMatrix'\n",
    "else:\n",
    "    raise NameError(\"Particle not recognized.\")"
   ]
  },
  {
   "cell_type": "markdown",
   "id": "e6fdeb74",
   "metadata": {},
   "source": [
    "### Full 7D matrix"
   ]
  },
  {
   "cell_type": "code",
   "execution_count": 13,
   "id": "2f0baf02",
   "metadata": {},
   "outputs": [
    {
     "name": "stdout",
     "output_type": "stream",
     "text": [
      "No, 1090 are not.\n"
     ]
    }
   ],
   "source": [
    "pdCounter = 0\n",
    "\n",
    "for pmc in df_events[pmcFeature]:\n",
    "    pdCounter += not IsPositiveDefinite(pmc)\n",
    "\n",
    "if not pdCounter:\n",
    "    print(\"All clear.\")\n",
    "else:\n",
    "    print(\"No,\", pdCounter, \"are not.\")"
   ]
  },
  {
   "cell_type": "markdown",
   "id": "860f792a",
   "metadata": {},
   "source": [
    "### 3D reference point covariance matrix"
   ]
  },
  {
   "cell_type": "code",
   "execution_count": 14,
   "id": "721b2a2c",
   "metadata": {},
   "outputs": [
    {
     "name": "stdout",
     "output_type": "stream",
     "text": [
      "No, 1090 are not.\n"
     ]
    }
   ],
   "source": [
    "pdCounter = 0\n",
    "\n",
    "for pmc in df_events[pmcFeature]:\n",
    "    pc = np.array(pmc)[np.ix_([0,1,2],[0,1,2])]\n",
    "    pdCounter += not IsPositiveDefinite(pc)\n",
    "\n",
    "if not pdCounter:\n",
    "    print(\"All clear.\")\n",
    "else:\n",
    "    print(\"No,\", pdCounter, \"are not.\")"
   ]
  },
  {
   "cell_type": "markdown",
   "id": "1d9b1d0f",
   "metadata": {},
   "source": [
    "### 2D reference point covariance matrix ($z$ omissis)"
   ]
  },
  {
   "cell_type": "code",
   "execution_count": 15,
   "id": "2cc0eaa8",
   "metadata": {},
   "outputs": [
    {
     "name": "stdout",
     "output_type": "stream",
     "text": [
      "All clear.\n"
     ]
    }
   ],
   "source": [
    "pdCounter = 0\n",
    "\n",
    "for pmc in df_events[pmcFeature]:\n",
    "    pc2d = np.array(pmc)[np.ix_([0,1],[0,1])]\n",
    "    pdCounter += not IsPositiveDefinite(pc2d)\n",
    "\n",
    "if not pdCounter:\n",
    "    print(\"All clear.\")\n",
    "else:\n",
    "    print(\"No,\", pdCounter, \"are not.\")"
   ]
  },
  {
   "cell_type": "markdown",
   "id": "4658e793",
   "metadata": {},
   "source": [
    "### 4D momentum-energy covariance matrix"
   ]
  },
  {
   "cell_type": "code",
   "execution_count": 16,
   "id": "e39b6177",
   "metadata": {},
   "outputs": [
    {
     "name": "stdout",
     "output_type": "stream",
     "text": [
      "No, 624 are not.\n"
     ]
    }
   ],
   "source": [
    "pdCounter = 0\n",
    "\n",
    "for pmc in df_events[pmcFeature]:\n",
    "    pc2d = np.array(pmc)[np.ix_([3,4,5,6],[3,4,5,6])]\n",
    "    pdCounter += not IsPositiveDefinite(pc2d)\n",
    "\n",
    "if not pdCounter:\n",
    "    print(\"All clear.\")\n",
    "else:\n",
    "    print(\"No,\", pdCounter, \"are not.\")"
   ]
  },
  {
   "cell_type": "markdown",
   "id": "e8ee8846",
   "metadata": {},
   "source": [
    "This warrants a deeper look."
   ]
  },
  {
   "cell_type": "markdown",
   "id": "82c344b6",
   "metadata": {},
   "source": [
    "#### Only converged fits"
   ]
  },
  {
   "cell_type": "code",
   "execution_count": 17,
   "id": "b9d09f3a",
   "metadata": {},
   "outputs": [
    {
     "name": "stdout",
     "output_type": "stream",
     "text": [
      "No, 503 (57%) are not.\n"
     ]
    }
   ],
   "source": [
    "pdCounter = 0\n",
    "status = 'Converged'\n",
    "\n",
    "for pmc in df_events.loc[df_events['status'] == status][pmcFeature]:\n",
    "    pc2d = np.array(pmc)[np.ix_([3,4,5,6],[3,4,5,6])]\n",
    "    pdCounter += not IsPositiveDefinite(pc2d)\n",
    "\n",
    "if not pdCounter:\n",
    "    print(\"All clear.\")\n",
    "else:\n",
    "    percentage = \"{:.0%}\".format(pdCounter / sum(df_events['status'] == status))\n",
    "    print(\"No,\", pdCounter, \"(\" + percentage + \") are not.\")"
   ]
  },
  {
   "cell_type": "markdown",
   "id": "19d1fbbe",
   "metadata": {},
   "source": [
    "#### Only failed fits"
   ]
  },
  {
   "cell_type": "code",
   "execution_count": 18,
   "id": "b71d6895",
   "metadata": {},
   "outputs": [
    {
     "name": "stdout",
     "output_type": "stream",
     "text": [
      "No, 121 (59%) are not.\n"
     ]
    }
   ],
   "source": [
    "pdCounter = 0\n",
    "status = 'NonConverged'\n",
    "\n",
    "for pmc in df_events.loc[df_events['status'] == status][pmcFeature]:\n",
    "    pc2d = np.array(pmc)[np.ix_([3,4,5,6],[3,4,5,6])]\n",
    "    pdCounter += not IsPositiveDefinite(pc2d)\n",
    "\n",
    "if not pdCounter:\n",
    "    print(\"All clear.\")\n",
    "else:\n",
    "    percentage = \"{:.0%}\".format(pdCounter / sum(df_events['status'] == status))\n",
    "    print(\"No,\", pdCounter, \"(\" + percentage + \") are not.\")"
   ]
  },
  {
   "cell_type": "markdown",
   "id": "7e7d090a",
   "metadata": {},
   "source": [
    "Same percentage, nothing to see here folks."
   ]
  },
  {
   "cell_type": "markdown",
   "id": "34d3a8a3",
   "metadata": {},
   "source": [
    "### 3D momentum covariance matrix"
   ]
  },
  {
   "cell_type": "code",
   "execution_count": 19,
   "id": "7fe51f8c",
   "metadata": {},
   "outputs": [
    {
     "name": "stdout",
     "output_type": "stream",
     "text": [
      "No, 5 are not.\n"
     ]
    }
   ],
   "source": [
    "pdCounter = 0\n",
    "\n",
    "for pmc in df_events[pmcFeature]:\n",
    "    pc2d = np.array(pmc)[np.ix_([3,4,5],[3,4,5])]\n",
    "    pdCounter += not IsPositiveDefinite(pc2d)\n",
    "\n",
    "if not pdCounter:\n",
    "    print(\"All clear.\")\n",
    "else:\n",
    "    print(\"No,\", pdCounter, \"are not.\")"
   ]
  },
  {
   "cell_type": "markdown",
   "id": "6a91bc49",
   "metadata": {},
   "source": [
    "Well, that's just mean. Probably something fucked up in particle reconstruction."
   ]
  },
  {
   "cell_type": "markdown",
   "id": "0885a18b",
   "metadata": {},
   "source": [
    "### 6D hybrid covariance matrix ($z$ omissis)"
   ]
  },
  {
   "cell_type": "code",
   "execution_count": 20,
   "id": "76e26e67",
   "metadata": {},
   "outputs": [
    {
     "name": "stdout",
     "output_type": "stream",
     "text": [
      "No, 625 are not.\n"
     ]
    }
   ],
   "source": [
    "pdCounter = 0\n",
    "toKeep = [0,1,3,4,5,6]\n",
    "\n",
    "for pmc in df_events[pmcFeature]:\n",
    "    pc2d = np.array(pmc)[np.ix_(toKeep, toKeep)]\n",
    "    pdCounter += not IsPositiveDefinite(pc2d)\n",
    "\n",
    "if not pdCounter:\n",
    "    print(\"All clear.\")\n",
    "else:\n",
    "    print(\"No,\", pdCounter, \"are not.\")"
   ]
  },
  {
   "cell_type": "markdown",
   "id": "756b1240",
   "metadata": {},
   "source": [
    "Probably all due to the energy problem."
   ]
  },
  {
   "cell_type": "markdown",
   "id": "75cd91ca",
   "metadata": {},
   "source": [
    "### 6D hybrid covariance matrix ($E$ omissis)"
   ]
  },
  {
   "cell_type": "code",
   "execution_count": 21,
   "id": "c844bfb1",
   "metadata": {},
   "outputs": [
    {
     "name": "stdout",
     "output_type": "stream",
     "text": [
      "No, 1090 are not.\n"
     ]
    }
   ],
   "source": [
    "pdCounter = 0\n",
    "toKeep = [0,1,2,3,4,5]\n",
    "\n",
    "for pmc in df_events[pmcFeature]:\n",
    "    pc2d = np.array(pmc)[np.ix_(toKeep, toKeep)]\n",
    "    pdCounter += not IsPositiveDefinite(pc2d)\n",
    "\n",
    "if not pdCounter:\n",
    "    print(\"All clear.\")\n",
    "else:\n",
    "    print(\"No,\", pdCounter, \"are not.\")"
   ]
  },
  {
   "cell_type": "markdown",
   "id": "3bcd832f",
   "metadata": {},
   "source": [
    "### 5D hybrid covariance matrix ($E$, $z$ omissis)"
   ]
  },
  {
   "cell_type": "code",
   "execution_count": 22,
   "id": "870bff1d",
   "metadata": {},
   "outputs": [
    {
     "name": "stdout",
     "output_type": "stream",
     "text": [
      "No, 6 are not.\n"
     ]
    }
   ],
   "source": [
    "pdCounter = 0\n",
    "toKeep = [0,1,3,4,5]\n",
    "\n",
    "for pmc in df_events[pmcFeature]:\n",
    "    pc2d = np.array(pmc)[np.ix_(toKeep, toKeep)]\n",
    "    pdCounter += not IsPositiveDefinite(pc2d)\n",
    "\n",
    "if not pdCounter:\n",
    "    print(\"All clear.\")\n",
    "else:\n",
    "    print(\"No,\", pdCounter, \"are not.\")"
   ]
  }
 ],
 "metadata": {
  "kernelspec": {
   "display_name": "Python 3",
   "language": "python",
   "name": "python3"
  },
  "language_info": {
   "codemirror_mode": {
    "name": "ipython",
    "version": 3
   },
   "file_extension": ".py",
   "mimetype": "text/x-python",
   "name": "python",
   "nbconvert_exporter": "python",
   "pygments_lexer": "ipython3",
   "version": "3.6.8"
  }
 },
 "nbformat": 4,
 "nbformat_minor": 5
}
