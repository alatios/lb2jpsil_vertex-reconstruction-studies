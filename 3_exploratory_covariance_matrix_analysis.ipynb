{
 "cells": [
  {
   "cell_type": "code",
   "execution_count": 1,
   "id": "fc1f03cf",
   "metadata": {},
   "outputs": [],
   "source": [
    "import pandas as pd\n",
    "import uproot3\n",
    "from functools import reduce\n",
    "import struct\n",
    "from matplotlib import pyplot as plt\n",
    "from matplotlib import colors as mcolors\n",
    "\n",
    "## Requires lbtools,\n",
    "#from lb2jpsil import categorize_reconstructed"
   ]
  },
  {
   "cell_type": "markdown",
   "id": "f4e52fe5",
   "metadata": {},
   "source": [
    "# Functions for importing"
   ]
  },
  {
   "cell_type": "code",
   "execution_count": 2,
   "id": "47f43272",
   "metadata": {},
   "outputs": [],
   "source": [
    "def get_final_state():\n",
    "    final_state = {\n",
    "        'L'      : ['p', 'pim'],\n",
    "        'Lb'     : ['p', 'pim', 'mum', 'mup'],\n",
    "        'KS0'    : ['pip', 'pim'],\n",
    "        'B0'     : ['pip', 'pim', 'mum', 'mup'],\n",
    "        }\n",
    "    return final_state\n",
    "\n",
    "\n",
    "def generate_MCTRUTH_mapping(mother):\n",
    "    final_state = get_final_state()\n",
    "    intermediate = { \n",
    "        'L'     : [],\n",
    "        'KS0'   : [],\n",
    "        'Lb'    : ['L'],\n",
    "        'B0'    : ['KS0'],\n",
    "        }\n",
    "    mapper = {}\n",
    "    mapper.update({ part + '_TRUEENDVERTEX_' + coord : 'MCTRUTH_' + part + '_ENDVERTEX_' + coord for part in [mother] + intermediate[mother] for coord in ['X', 'Y', 'Z'] })\n",
    "    mapper.update({ part + '_TRUEP_' + coord  : 'MCTRUTH_' + part + '_P' + coord for part in final_state[mother] for coord in ['X', 'Y', 'Z'] })\n",
    "    if intermediate[mother]:\n",
    "        mapper[f'{intermediate[mother][0]}_MC_MOTHER_ID'] = f'MCTRUTH_{mother}_ID'\n",
    "        mapper['pim_MC_MOTHER_ID'] = f'MCTRUTH_{intermediate[mother][0]}_ID'\n",
    "    else:\n",
    "        mapper[f'{final_state[mother]}_MC_MOTHER_ID'] = f'MCTRUTH_{mother}_ID'\n",
    "    return mapper"
   ]
  },
  {
   "cell_type": "code",
   "execution_count": 3,
   "id": "dd81105e",
   "metadata": {},
   "outputs": [],
   "source": [
    "def GetRecoTree(inputMC):\n",
    "    df_reco_list = []\n",
    "\n",
    "    with uproot3.open(inputMC) as MCFile:\n",
    "        tree_reco = MCFile['Lb_T/DecayTree']\n",
    "        branches = [k.decode('utf-8') for k in tree_reco.keys()]\n",
    "\n",
    "    #    for particle in ['mum', 'mup', 'p', 'pim']:\n",
    "    #        df_reco_list.append(tree_reco.pandas.df(particle + \"_PP_POSMOMCOV*\", flatten=True))\n",
    "\n",
    "    #    df_reco_list.append(tree_reco.pandas.df([\"*_Reconstructible\", \"*_Reconstructed\"] + list(generate_MCTRUTH_mapping('Lb').keys()), flatten=True))\n",
    "        df_reco_list.append(tree_reco.pandas.df(list(generate_MCTRUTH_mapping('Lb').keys()), flatten=True))\n",
    "\n",
    "    df_reco = reduce(lambda left,right: pd.merge(left, right, left_index=True, right_index=True), df_reco_list)\n",
    "    del(df_reco_list)\n",
    "\n",
    "    #df_reco.reset_index(level=1, drop=True, inplace=True)\n",
    "    df_reco['TrackType'] = 'T'\n",
    "    \n",
    "    return df_reco\n",
    "\n",
    "def GetTruthTree(inputMC):\n",
    "    df_truth_list = []\n",
    "\n",
    "    with uproot3.open(inputMC) as MCFile:\n",
    "        tree_truth = MCFile['Lb_MC/MCDecayTree']\n",
    "        branches = [k.decode('utf-8') for k in tree_truth.keys()]\n",
    "\n",
    "        for particle in ['mum', 'mup', 'p', 'pim']:\n",
    "            df_truth_list.append(tree_truth.pandas.df(particle + \"_PP_POSMOMCOV*\", flatten=True))\n",
    "\n",
    "        df_truth_list.append(tree_truth.pandas.df([\"*_Reconstructible\", \"*_Reconstructed\"] + list(generate_MCTRUTH_mapping('Lb').keys()), flatten=True))\n",
    "\n",
    "\n",
    "    df_truth = reduce(lambda left,right: pd.merge(left, right, left_index=True, right_index=True), df_truth_list)\n",
    "    del(df_truth_list)\n",
    "\n",
    "    df_truth.reset_index(level=1, drop=True, inplace=True)\n",
    "    return df_truth"
   ]
  },
  {
   "cell_type": "code",
   "execution_count": 4,
   "id": "5a6a51bd",
   "metadata": {},
   "outputs": [],
   "source": [
    "def MergeRecoTruth(df_reco, df_truth):\n",
    "    MCTRUTH_mapping = generate_MCTRUTH_mapping('Lb')\n",
    "    columns_for_long_key = [b for b in MCTRUTH_mapping.keys() if 'TRUEID' not in b]\n",
    "    \n",
    "    df_reco['MC_longkey'] = df_reco.loc[:, columns_for_long_key].agg(lambda x : struct.pack('f' * len(columns_for_long_key), *x), axis='columns')\n",
    "    df_truth['MC_longkey'] = df_truth.loc[:, columns_for_long_key].agg(lambda x : struct.pack('f' * len(columns_for_long_key), *x), axis='columns')\n",
    "    \n",
    "    df_truth['MC_key'] = df_truth.index\n",
    "    df_reco['Rec_key'] = df_reco.index\n",
    "    \n",
    "    df_reco = pd.merge(df_reco, df_truth.loc[:, ['MC_longkey', 'MC_key']], on='MC_longkey', how='left')\n",
    "    df_reco_grouped = df_reco.loc[:, ['MC_longkey', 'Rec_key', 'TrackType']].groupby('MC_longkey').agg({'Rec_key' : ['min', 'count'], 'TrackType' : ['first']}).reset_index()\n",
    "    df_reco_grouped.columns = ['MC_longkey', 'Rec_key', 'N_rec_matches', 'TrackType']\n",
    "    \n",
    "    df_truth = pd.merge(df_truth, df_reco_grouped, on='MC_longkey', how='left')\n",
    "    \n",
    "    df_reco.drop('MC_longkey', inplace=True, axis='columns')\n",
    "    df_truth.drop('MC_longkey', inplace=True, axis='columns')\n",
    "    \n",
    "    frac_reco_match_gen = (~df_reco['MC_key'].isna()).sum() / len(df_reco) * 100\n",
    "    #print(f'The fraction of the reconstructed candidates with full match in the generated sample is {frac_reco_match_gen:.2f}%')\n",
    "\n",
    "    frac_gen_match_reco = (~df_truth['Rec_key'].isna()).sum() / len(df_truth) * 100\n",
    "    #print(f'The fraction of the generated signal events with full match in the reconstructed sample is {frac_gen_match_reco:.2f}%')\n",
    "    \n",
    "    df_reco.index.name = 'Rec_key'\n",
    "    df_reco.drop('Rec_key', inplace=True, axis='columns')\n",
    "    df_truth.index.name = 'MC_key'\n",
    "    df_truth.drop('MC_key', inplace=True, axis='columns')\n",
    "    \n",
    "    df_reco['MC_key'] = pd.to_numeric(df_reco['MC_key'].fillna(-1), downcast='signed')\n",
    "    df_truth['Rec_key'] = pd.to_numeric(df_truth['Rec_key'].fillna(-1), downcast='signed')\n",
    "    df_truth['N_rec_matches'] = pd.to_numeric(df_truth['N_rec_matches'].fillna(0), downcast='unsigned')\n",
    "    \n",
    "    df_reco.drop(columns=MCTRUTH_mapping.keys(), inplace=True)\n",
    "    df_truth.rename(columns=MCTRUTH_mapping, inplace=True)\n",
    "    \n",
    "    df_MC = pd.merge(df_truth, df_reco.loc[df_reco['MC_key'] >= 0, :].drop('TrackType', axis='columns').groupby('MC_key').first(), how='left', on='MC_key')\n",
    "    \n",
    "    return df_MC"
   ]
  },
  {
   "cell_type": "markdown",
   "id": "8f87ebde",
   "metadata": {},
   "source": [
    "# Import Monte Carlo data"
   ]
  },
  {
   "cell_type": "code",
   "execution_count": 5,
   "id": "c5a48d15",
   "metadata": {},
   "outputs": [],
   "source": [
    "fileList = [\n",
    "    '~/data/raw_MC/0/output/Lb2JPsiL_Run2_Sim_2016_MagUp_v12.root',\n",
    "    '~/data/raw_MC/1/output/Lb2JPsiL_Run2_Sim_2016_MagUp_v12.root',\n",
    "    '~/data/raw_MC/2/output/Lb2JPsiL_Run2_Sim_2016_MagUp_v12.root',\n",
    "    '~/data/raw_MC/3/output/Lb2JPsiL_Run2_Sim_2016_MagUp_v12.root',\n",
    "    '~/data/raw_MC/4/output/Lb2JPsiL_Run2_Sim_2016_MagUp_v12.root',\n",
    "    '~/data/raw_MC/5/output/Lb2JPsiL_Run2_Sim_2016_MagUp_v12.root',\n",
    "]"
   ]
  },
  {
   "cell_type": "code",
   "execution_count": 6,
   "id": "ec79a560",
   "metadata": {},
   "outputs": [],
   "source": [
    "dfList = []\n",
    "\n",
    "for inputFile in fileList:\n",
    "    df_reco = GetRecoTree(inputFile)\n",
    "    df_truth = GetTruthTree(inputFile)\n",
    "    df_MC_temp = MergeRecoTruth(df_reco, df_truth)\n",
    "    dfList.append(df_MC_temp)"
   ]
  },
  {
   "cell_type": "code",
   "execution_count": 7,
   "id": "c0756a77",
   "metadata": {},
   "outputs": [
    {
     "data": {
      "text/html": [
       "<div>\n",
       "<style scoped>\n",
       "    .dataframe tbody tr th:only-of-type {\n",
       "        vertical-align: middle;\n",
       "    }\n",
       "\n",
       "    .dataframe tbody tr th {\n",
       "        vertical-align: top;\n",
       "    }\n",
       "\n",
       "    .dataframe thead th {\n",
       "        text-align: right;\n",
       "    }\n",
       "</style>\n",
       "<table border=\"1\" class=\"dataframe\">\n",
       "  <thead>\n",
       "    <tr style=\"text-align: right;\">\n",
       "      <th></th>\n",
       "      <th>mum_PP_POSMOMCOV_0_0</th>\n",
       "      <th>mum_PP_POSMOMCOV_0_1</th>\n",
       "      <th>mum_PP_POSMOMCOV_0_2</th>\n",
       "      <th>mum_PP_POSMOMCOV_0_3</th>\n",
       "      <th>mum_PP_POSMOMCOV_0_4</th>\n",
       "      <th>mum_PP_POSMOMCOV_0_5</th>\n",
       "      <th>mum_PP_POSMOMCOV_1_1</th>\n",
       "      <th>mum_PP_POSMOMCOV_1_2</th>\n",
       "      <th>mum_PP_POSMOMCOV_1_3</th>\n",
       "      <th>mum_PP_POSMOMCOV_1_4</th>\n",
       "      <th>...</th>\n",
       "      <th>MCTRUTH_mum_PY</th>\n",
       "      <th>MCTRUTH_mum_PZ</th>\n",
       "      <th>MCTRUTH_mup_PX</th>\n",
       "      <th>MCTRUTH_mup_PY</th>\n",
       "      <th>MCTRUTH_mup_PZ</th>\n",
       "      <th>MCTRUTH_Lb_ID</th>\n",
       "      <th>MCTRUTH_L_ID</th>\n",
       "      <th>Rec_key</th>\n",
       "      <th>N_rec_matches</th>\n",
       "      <th>TrackType</th>\n",
       "    </tr>\n",
       "  </thead>\n",
       "  <tbody>\n",
       "    <tr>\n",
       "      <th>0</th>\n",
       "      <td>0.000185</td>\n",
       "      <td>-0.000017</td>\n",
       "      <td>0.0</td>\n",
       "      <td>-0.057006</td>\n",
       "      <td>0.009210</td>\n",
       "      <td>0.249718</td>\n",
       "      <td>0.000207</td>\n",
       "      <td>0.0</td>\n",
       "      <td>0.004200</td>\n",
       "      <td>-0.066786</td>\n",
       "      <td>...</td>\n",
       "      <td>3295.77</td>\n",
       "      <td>121322.63</td>\n",
       "      <td>46.26</td>\n",
       "      <td>4219.05</td>\n",
       "      <td>126773.57</td>\n",
       "      <td>5122</td>\n",
       "      <td>3122</td>\n",
       "      <td>-1</td>\n",
       "      <td>0</td>\n",
       "      <td>NaN</td>\n",
       "    </tr>\n",
       "    <tr>\n",
       "      <th>1</th>\n",
       "      <td>0.000098</td>\n",
       "      <td>-0.000011</td>\n",
       "      <td>0.0</td>\n",
       "      <td>-0.015949</td>\n",
       "      <td>0.010074</td>\n",
       "      <td>-0.297316</td>\n",
       "      <td>0.000182</td>\n",
       "      <td>0.0</td>\n",
       "      <td>0.005180</td>\n",
       "      <td>-0.058945</td>\n",
       "      <td>...</td>\n",
       "      <td>-1719.47</td>\n",
       "      <td>64839.86</td>\n",
       "      <td>-1006.43</td>\n",
       "      <td>1048.71</td>\n",
       "      <td>13460.90</td>\n",
       "      <td>-5122</td>\n",
       "      <td>-3122</td>\n",
       "      <td>-1</td>\n",
       "      <td>0</td>\n",
       "      <td>NaN</td>\n",
       "    </tr>\n",
       "    <tr>\n",
       "      <th>2</th>\n",
       "      <td>0.000918</td>\n",
       "      <td>-0.000022</td>\n",
       "      <td>0.0</td>\n",
       "      <td>-0.151425</td>\n",
       "      <td>0.004700</td>\n",
       "      <td>0.463885</td>\n",
       "      <td>0.001318</td>\n",
       "      <td>0.0</td>\n",
       "      <td>0.002874</td>\n",
       "      <td>-0.178156</td>\n",
       "      <td>...</td>\n",
       "      <td>329.50</td>\n",
       "      <td>68329.80</td>\n",
       "      <td>-656.73</td>\n",
       "      <td>-485.16</td>\n",
       "      <td>3983.97</td>\n",
       "      <td>5122</td>\n",
       "      <td>3122</td>\n",
       "      <td>-1</td>\n",
       "      <td>0</td>\n",
       "      <td>NaN</td>\n",
       "    </tr>\n",
       "    <tr>\n",
       "      <th>3</th>\n",
       "      <td>0.000524</td>\n",
       "      <td>0.000104</td>\n",
       "      <td>0.0</td>\n",
       "      <td>-0.059531</td>\n",
       "      <td>-0.007951</td>\n",
       "      <td>0.003216</td>\n",
       "      <td>0.000762</td>\n",
       "      <td>0.0</td>\n",
       "      <td>-0.008632</td>\n",
       "      <td>-0.077396</td>\n",
       "      <td>...</td>\n",
       "      <td>844.31</td>\n",
       "      <td>10923.25</td>\n",
       "      <td>-2187.71</td>\n",
       "      <td>507.83</td>\n",
       "      <td>9360.80</td>\n",
       "      <td>5122</td>\n",
       "      <td>3122</td>\n",
       "      <td>-1</td>\n",
       "      <td>0</td>\n",
       "      <td>NaN</td>\n",
       "    </tr>\n",
       "    <tr>\n",
       "      <th>4</th>\n",
       "      <td>0.000042</td>\n",
       "      <td>-0.000020</td>\n",
       "      <td>0.0</td>\n",
       "      <td>-0.034502</td>\n",
       "      <td>0.002811</td>\n",
       "      <td>0.077907</td>\n",
       "      <td>0.000185</td>\n",
       "      <td>0.0</td>\n",
       "      <td>0.004179</td>\n",
       "      <td>-0.058524</td>\n",
       "      <td>...</td>\n",
       "      <td>-1376.62</td>\n",
       "      <td>37327.74</td>\n",
       "      <td>-4584.07</td>\n",
       "      <td>932.89</td>\n",
       "      <td>32034.93</td>\n",
       "      <td>5122</td>\n",
       "      <td>3122</td>\n",
       "      <td>-1</td>\n",
       "      <td>0</td>\n",
       "      <td>NaN</td>\n",
       "    </tr>\n",
       "    <tr>\n",
       "      <th>...</th>\n",
       "      <td>...</td>\n",
       "      <td>...</td>\n",
       "      <td>...</td>\n",
       "      <td>...</td>\n",
       "      <td>...</td>\n",
       "      <td>...</td>\n",
       "      <td>...</td>\n",
       "      <td>...</td>\n",
       "      <td>...</td>\n",
       "      <td>...</td>\n",
       "      <td>...</td>\n",
       "      <td>...</td>\n",
       "      <td>...</td>\n",
       "      <td>...</td>\n",
       "      <td>...</td>\n",
       "      <td>...</td>\n",
       "      <td>...</td>\n",
       "      <td>...</td>\n",
       "      <td>...</td>\n",
       "      <td>...</td>\n",
       "      <td>...</td>\n",
       "    </tr>\n",
       "    <tr>\n",
       "      <th>35137</th>\n",
       "      <td>0.000061</td>\n",
       "      <td>0.000044</td>\n",
       "      <td>0.0</td>\n",
       "      <td>-0.001924</td>\n",
       "      <td>-0.029341</td>\n",
       "      <td>-0.176299</td>\n",
       "      <td>0.000081</td>\n",
       "      <td>0.0</td>\n",
       "      <td>0.005021</td>\n",
       "      <td>-0.044602</td>\n",
       "      <td>...</td>\n",
       "      <td>4594.00</td>\n",
       "      <td>49107.63</td>\n",
       "      <td>-4371.02</td>\n",
       "      <td>5817.24</td>\n",
       "      <td>34339.96</td>\n",
       "      <td>-5122</td>\n",
       "      <td>-3122</td>\n",
       "      <td>-1</td>\n",
       "      <td>0</td>\n",
       "      <td>NaN</td>\n",
       "    </tr>\n",
       "    <tr>\n",
       "      <th>35138</th>\n",
       "      <td>0.000458</td>\n",
       "      <td>-0.000069</td>\n",
       "      <td>0.0</td>\n",
       "      <td>-0.069419</td>\n",
       "      <td>0.011842</td>\n",
       "      <td>-0.060762</td>\n",
       "      <td>0.000365</td>\n",
       "      <td>0.0</td>\n",
       "      <td>0.006588</td>\n",
       "      <td>-0.063279</td>\n",
       "      <td>...</td>\n",
       "      <td>-1794.64</td>\n",
       "      <td>18689.80</td>\n",
       "      <td>-2440.48</td>\n",
       "      <td>375.71</td>\n",
       "      <td>46844.85</td>\n",
       "      <td>-5122</td>\n",
       "      <td>-3122</td>\n",
       "      <td>870</td>\n",
       "      <td>1</td>\n",
       "      <td>T</td>\n",
       "    </tr>\n",
       "    <tr>\n",
       "      <th>35139</th>\n",
       "      <td>0.000692</td>\n",
       "      <td>-0.000011</td>\n",
       "      <td>0.0</td>\n",
       "      <td>-0.109358</td>\n",
       "      <td>0.000684</td>\n",
       "      <td>-0.001695</td>\n",
       "      <td>0.000625</td>\n",
       "      <td>0.0</td>\n",
       "      <td>0.001083</td>\n",
       "      <td>-0.102180</td>\n",
       "      <td>...</td>\n",
       "      <td>1062.17</td>\n",
       "      <td>32083.30</td>\n",
       "      <td>-1809.09</td>\n",
       "      <td>-19.87</td>\n",
       "      <td>35898.80</td>\n",
       "      <td>5122</td>\n",
       "      <td>3122</td>\n",
       "      <td>-1</td>\n",
       "      <td>0</td>\n",
       "      <td>NaN</td>\n",
       "    </tr>\n",
       "    <tr>\n",
       "      <th>35140</th>\n",
       "      <td>0.000079</td>\n",
       "      <td>-0.000001</td>\n",
       "      <td>0.0</td>\n",
       "      <td>-0.021009</td>\n",
       "      <td>0.000256</td>\n",
       "      <td>-0.001427</td>\n",
       "      <td>0.000276</td>\n",
       "      <td>0.0</td>\n",
       "      <td>-0.000009</td>\n",
       "      <td>-0.042616</td>\n",
       "      <td>...</td>\n",
       "      <td>2668.04</td>\n",
       "      <td>11132.70</td>\n",
       "      <td>623.76</td>\n",
       "      <td>474.84</td>\n",
       "      <td>18029.96</td>\n",
       "      <td>-5122</td>\n",
       "      <td>-3122</td>\n",
       "      <td>-1</td>\n",
       "      <td>0</td>\n",
       "      <td>NaN</td>\n",
       "    </tr>\n",
       "    <tr>\n",
       "      <th>35141</th>\n",
       "      <td>0.000067</td>\n",
       "      <td>0.000016</td>\n",
       "      <td>0.0</td>\n",
       "      <td>-0.015931</td>\n",
       "      <td>-0.002728</td>\n",
       "      <td>0.024318</td>\n",
       "      <td>0.000228</td>\n",
       "      <td>0.0</td>\n",
       "      <td>0.003511</td>\n",
       "      <td>-0.045578</td>\n",
       "      <td>...</td>\n",
       "      <td>-312.95</td>\n",
       "      <td>21929.79</td>\n",
       "      <td>-228.08</td>\n",
       "      <td>-914.42</td>\n",
       "      <td>8197.29</td>\n",
       "      <td>5122</td>\n",
       "      <td>3122</td>\n",
       "      <td>-1</td>\n",
       "      <td>0</td>\n",
       "      <td>NaN</td>\n",
       "    </tr>\n",
       "  </tbody>\n",
       "</table>\n",
       "<p>35142 rows × 121 columns</p>\n",
       "</div>"
      ],
      "text/plain": [
       "       mum_PP_POSMOMCOV_0_0  mum_PP_POSMOMCOV_0_1  mum_PP_POSMOMCOV_0_2  \\\n",
       "0                  0.000185             -0.000017                   0.0   \n",
       "1                  0.000098             -0.000011                   0.0   \n",
       "2                  0.000918             -0.000022                   0.0   \n",
       "3                  0.000524              0.000104                   0.0   \n",
       "4                  0.000042             -0.000020                   0.0   \n",
       "...                     ...                   ...                   ...   \n",
       "35137              0.000061              0.000044                   0.0   \n",
       "35138              0.000458             -0.000069                   0.0   \n",
       "35139              0.000692             -0.000011                   0.0   \n",
       "35140              0.000079             -0.000001                   0.0   \n",
       "35141              0.000067              0.000016                   0.0   \n",
       "\n",
       "       mum_PP_POSMOMCOV_0_3  mum_PP_POSMOMCOV_0_4  mum_PP_POSMOMCOV_0_5  \\\n",
       "0                 -0.057006              0.009210              0.249718   \n",
       "1                 -0.015949              0.010074             -0.297316   \n",
       "2                 -0.151425              0.004700              0.463885   \n",
       "3                 -0.059531             -0.007951              0.003216   \n",
       "4                 -0.034502              0.002811              0.077907   \n",
       "...                     ...                   ...                   ...   \n",
       "35137             -0.001924             -0.029341             -0.176299   \n",
       "35138             -0.069419              0.011842             -0.060762   \n",
       "35139             -0.109358              0.000684             -0.001695   \n",
       "35140             -0.021009              0.000256             -0.001427   \n",
       "35141             -0.015931             -0.002728              0.024318   \n",
       "\n",
       "       mum_PP_POSMOMCOV_1_1  mum_PP_POSMOMCOV_1_2  mum_PP_POSMOMCOV_1_3  \\\n",
       "0                  0.000207                   0.0              0.004200   \n",
       "1                  0.000182                   0.0              0.005180   \n",
       "2                  0.001318                   0.0              0.002874   \n",
       "3                  0.000762                   0.0             -0.008632   \n",
       "4                  0.000185                   0.0              0.004179   \n",
       "...                     ...                   ...                   ...   \n",
       "35137              0.000081                   0.0              0.005021   \n",
       "35138              0.000365                   0.0              0.006588   \n",
       "35139              0.000625                   0.0              0.001083   \n",
       "35140              0.000276                   0.0             -0.000009   \n",
       "35141              0.000228                   0.0              0.003511   \n",
       "\n",
       "       mum_PP_POSMOMCOV_1_4  ...  MCTRUTH_mum_PY  MCTRUTH_mum_PZ  \\\n",
       "0                 -0.066786  ...         3295.77       121322.63   \n",
       "1                 -0.058945  ...        -1719.47        64839.86   \n",
       "2                 -0.178156  ...          329.50        68329.80   \n",
       "3                 -0.077396  ...          844.31        10923.25   \n",
       "4                 -0.058524  ...        -1376.62        37327.74   \n",
       "...                     ...  ...             ...             ...   \n",
       "35137             -0.044602  ...         4594.00        49107.63   \n",
       "35138             -0.063279  ...        -1794.64        18689.80   \n",
       "35139             -0.102180  ...         1062.17        32083.30   \n",
       "35140             -0.042616  ...         2668.04        11132.70   \n",
       "35141             -0.045578  ...         -312.95        21929.79   \n",
       "\n",
       "       MCTRUTH_mup_PX  MCTRUTH_mup_PY  MCTRUTH_mup_PZ  MCTRUTH_Lb_ID  \\\n",
       "0               46.26         4219.05       126773.57           5122   \n",
       "1            -1006.43         1048.71        13460.90          -5122   \n",
       "2             -656.73         -485.16         3983.97           5122   \n",
       "3            -2187.71          507.83         9360.80           5122   \n",
       "4            -4584.07          932.89        32034.93           5122   \n",
       "...               ...             ...             ...            ...   \n",
       "35137        -4371.02         5817.24        34339.96          -5122   \n",
       "35138        -2440.48          375.71        46844.85          -5122   \n",
       "35139        -1809.09          -19.87        35898.80           5122   \n",
       "35140          623.76          474.84        18029.96          -5122   \n",
       "35141         -228.08         -914.42         8197.29           5122   \n",
       "\n",
       "       MCTRUTH_L_ID  Rec_key  N_rec_matches  TrackType  \n",
       "0              3122       -1              0        NaN  \n",
       "1             -3122       -1              0        NaN  \n",
       "2              3122       -1              0        NaN  \n",
       "3              3122       -1              0        NaN  \n",
       "4              3122       -1              0        NaN  \n",
       "...             ...      ...            ...        ...  \n",
       "35137         -3122       -1              0        NaN  \n",
       "35138         -3122      870              1          T  \n",
       "35139          3122       -1              0        NaN  \n",
       "35140         -3122       -1              0        NaN  \n",
       "35141          3122       -1              0        NaN  \n",
       "\n",
       "[35142 rows x 121 columns]"
      ]
     },
     "execution_count": 7,
     "metadata": {},
     "output_type": "execute_result"
    }
   ],
   "source": [
    "df_MC = pd.concat(dfList, ignore_index=True)\n",
    "df_MC"
   ]
  },
  {
   "cell_type": "markdown",
   "id": "509ba71d",
   "metadata": {},
   "source": [
    "# Select events"
   ]
  },
  {
   "cell_type": "code",
   "execution_count": 8,
   "id": "ee57cc15",
   "metadata": {},
   "outputs": [
    {
     "data": {
      "text/html": [
       "<div>\n",
       "<style scoped>\n",
       "    .dataframe tbody tr th:only-of-type {\n",
       "        vertical-align: middle;\n",
       "    }\n",
       "\n",
       "    .dataframe tbody tr th {\n",
       "        vertical-align: top;\n",
       "    }\n",
       "\n",
       "    .dataframe thead th {\n",
       "        text-align: right;\n",
       "    }\n",
       "</style>\n",
       "<table border=\"1\" class=\"dataframe\">\n",
       "  <thead>\n",
       "    <tr style=\"text-align: right;\">\n",
       "      <th></th>\n",
       "      <th>mum_PP_POSMOMCOV_0_0</th>\n",
       "      <th>mum_PP_POSMOMCOV_0_1</th>\n",
       "      <th>mum_PP_POSMOMCOV_0_2</th>\n",
       "      <th>mum_PP_POSMOMCOV_0_3</th>\n",
       "      <th>mum_PP_POSMOMCOV_0_4</th>\n",
       "      <th>mum_PP_POSMOMCOV_0_5</th>\n",
       "      <th>mum_PP_POSMOMCOV_1_1</th>\n",
       "      <th>mum_PP_POSMOMCOV_1_2</th>\n",
       "      <th>mum_PP_POSMOMCOV_1_3</th>\n",
       "      <th>mum_PP_POSMOMCOV_1_4</th>\n",
       "      <th>...</th>\n",
       "      <th>MCTRUTH_mum_PY</th>\n",
       "      <th>MCTRUTH_mum_PZ</th>\n",
       "      <th>MCTRUTH_mup_PX</th>\n",
       "      <th>MCTRUTH_mup_PY</th>\n",
       "      <th>MCTRUTH_mup_PZ</th>\n",
       "      <th>MCTRUTH_Lb_ID</th>\n",
       "      <th>MCTRUTH_L_ID</th>\n",
       "      <th>Rec_key</th>\n",
       "      <th>N_rec_matches</th>\n",
       "      <th>TrackType</th>\n",
       "    </tr>\n",
       "  </thead>\n",
       "  <tbody>\n",
       "    <tr>\n",
       "      <th>30</th>\n",
       "      <td>0.001884</td>\n",
       "      <td>-0.000092</td>\n",
       "      <td>0.0</td>\n",
       "      <td>-0.156333</td>\n",
       "      <td>0.006242</td>\n",
       "      <td>0.005120</td>\n",
       "      <td>0.001149</td>\n",
       "      <td>0.0</td>\n",
       "      <td>0.005627</td>\n",
       "      <td>-0.111822</td>\n",
       "      <td>...</td>\n",
       "      <td>1224.62</td>\n",
       "      <td>7558.94</td>\n",
       "      <td>157.21</td>\n",
       "      <td>-1826.34</td>\n",
       "      <td>18441.10</td>\n",
       "      <td>5122</td>\n",
       "      <td>3122</td>\n",
       "      <td>5</td>\n",
       "      <td>1</td>\n",
       "      <td>T</td>\n",
       "    </tr>\n",
       "    <tr>\n",
       "      <th>64</th>\n",
       "      <td>0.012950</td>\n",
       "      <td>-0.000725</td>\n",
       "      <td>0.0</td>\n",
       "      <td>-0.645602</td>\n",
       "      <td>0.029547</td>\n",
       "      <td>0.008736</td>\n",
       "      <td>0.013317</td>\n",
       "      <td>0.0</td>\n",
       "      <td>0.030507</td>\n",
       "      <td>-0.657701</td>\n",
       "      <td>...</td>\n",
       "      <td>-315.80</td>\n",
       "      <td>25010.68</td>\n",
       "      <td>1091.00</td>\n",
       "      <td>1273.52</td>\n",
       "      <td>8619.81</td>\n",
       "      <td>-5122</td>\n",
       "      <td>-3122</td>\n",
       "      <td>-1</td>\n",
       "      <td>0</td>\n",
       "      <td>NaN</td>\n",
       "    </tr>\n",
       "    <tr>\n",
       "      <th>82</th>\n",
       "      <td>0.000196</td>\n",
       "      <td>0.000024</td>\n",
       "      <td>0.0</td>\n",
       "      <td>-0.068897</td>\n",
       "      <td>0.010399</td>\n",
       "      <td>-0.358099</td>\n",
       "      <td>0.000225</td>\n",
       "      <td>0.0</td>\n",
       "      <td>-0.007530</td>\n",
       "      <td>-0.052325</td>\n",
       "      <td>...</td>\n",
       "      <td>-2289.14</td>\n",
       "      <td>62984.27</td>\n",
       "      <td>-520.56</td>\n",
       "      <td>-68.83</td>\n",
       "      <td>8442.28</td>\n",
       "      <td>5122</td>\n",
       "      <td>3122</td>\n",
       "      <td>-1</td>\n",
       "      <td>0</td>\n",
       "      <td>NaN</td>\n",
       "    </tr>\n",
       "    <tr>\n",
       "      <th>89</th>\n",
       "      <td>0.000066</td>\n",
       "      <td>0.000041</td>\n",
       "      <td>0.0</td>\n",
       "      <td>-0.056080</td>\n",
       "      <td>0.003661</td>\n",
       "      <td>-0.187501</td>\n",
       "      <td>0.000159</td>\n",
       "      <td>0.0</td>\n",
       "      <td>-0.028973</td>\n",
       "      <td>-0.043380</td>\n",
       "      <td>...</td>\n",
       "      <td>-3663.58</td>\n",
       "      <td>48192.72</td>\n",
       "      <td>6760.74</td>\n",
       "      <td>-590.33</td>\n",
       "      <td>32861.71</td>\n",
       "      <td>-5122</td>\n",
       "      <td>-3122</td>\n",
       "      <td>-1</td>\n",
       "      <td>0</td>\n",
       "      <td>NaN</td>\n",
       "    </tr>\n",
       "    <tr>\n",
       "      <th>111</th>\n",
       "      <td>0.000088</td>\n",
       "      <td>-0.000055</td>\n",
       "      <td>0.0</td>\n",
       "      <td>-0.044077</td>\n",
       "      <td>0.005964</td>\n",
       "      <td>-0.111934</td>\n",
       "      <td>0.000199</td>\n",
       "      <td>0.0</td>\n",
       "      <td>0.023476</td>\n",
       "      <td>-0.048936</td>\n",
       "      <td>...</td>\n",
       "      <td>2111.98</td>\n",
       "      <td>40664.44</td>\n",
       "      <td>3039.69</td>\n",
       "      <td>-916.47</td>\n",
       "      <td>24703.88</td>\n",
       "      <td>-5122</td>\n",
       "      <td>-3122</td>\n",
       "      <td>-1</td>\n",
       "      <td>0</td>\n",
       "      <td>NaN</td>\n",
       "    </tr>\n",
       "    <tr>\n",
       "      <th>...</th>\n",
       "      <td>...</td>\n",
       "      <td>...</td>\n",
       "      <td>...</td>\n",
       "      <td>...</td>\n",
       "      <td>...</td>\n",
       "      <td>...</td>\n",
       "      <td>...</td>\n",
       "      <td>...</td>\n",
       "      <td>...</td>\n",
       "      <td>...</td>\n",
       "      <td>...</td>\n",
       "      <td>...</td>\n",
       "      <td>...</td>\n",
       "      <td>...</td>\n",
       "      <td>...</td>\n",
       "      <td>...</td>\n",
       "      <td>...</td>\n",
       "      <td>...</td>\n",
       "      <td>...</td>\n",
       "      <td>...</td>\n",
       "      <td>...</td>\n",
       "    </tr>\n",
       "    <tr>\n",
       "      <th>35037</th>\n",
       "      <td>0.001362</td>\n",
       "      <td>0.000064</td>\n",
       "      <td>0.0</td>\n",
       "      <td>-0.191489</td>\n",
       "      <td>-0.004405</td>\n",
       "      <td>-0.000740</td>\n",
       "      <td>0.001429</td>\n",
       "      <td>0.0</td>\n",
       "      <td>-0.004102</td>\n",
       "      <td>-0.196166</td>\n",
       "      <td>...</td>\n",
       "      <td>-1191.64</td>\n",
       "      <td>36953.87</td>\n",
       "      <td>188.43</td>\n",
       "      <td>1594.50</td>\n",
       "      <td>118155.25</td>\n",
       "      <td>-5122</td>\n",
       "      <td>-3122</td>\n",
       "      <td>-1</td>\n",
       "      <td>0</td>\n",
       "      <td>NaN</td>\n",
       "    </tr>\n",
       "    <tr>\n",
       "      <th>35040</th>\n",
       "      <td>0.000339</td>\n",
       "      <td>-0.000029</td>\n",
       "      <td>0.0</td>\n",
       "      <td>-0.074902</td>\n",
       "      <td>0.001239</td>\n",
       "      <td>-0.073109</td>\n",
       "      <td>0.000350</td>\n",
       "      <td>0.0</td>\n",
       "      <td>0.003947</td>\n",
       "      <td>-0.070922</td>\n",
       "      <td>...</td>\n",
       "      <td>1041.30</td>\n",
       "      <td>40164.82</td>\n",
       "      <td>596.82</td>\n",
       "      <td>-945.69</td>\n",
       "      <td>7691.32</td>\n",
       "      <td>-5122</td>\n",
       "      <td>-3122</td>\n",
       "      <td>-1</td>\n",
       "      <td>0</td>\n",
       "      <td>NaN</td>\n",
       "    </tr>\n",
       "    <tr>\n",
       "      <th>35051</th>\n",
       "      <td>0.001332</td>\n",
       "      <td>-0.000044</td>\n",
       "      <td>0.0</td>\n",
       "      <td>-0.142271</td>\n",
       "      <td>0.002901</td>\n",
       "      <td>-0.015798</td>\n",
       "      <td>0.001340</td>\n",
       "      <td>0.0</td>\n",
       "      <td>0.003175</td>\n",
       "      <td>-0.142207</td>\n",
       "      <td>...</td>\n",
       "      <td>-116.25</td>\n",
       "      <td>26510.66</td>\n",
       "      <td>1109.68</td>\n",
       "      <td>948.86</td>\n",
       "      <td>7859.16</td>\n",
       "      <td>5122</td>\n",
       "      <td>3122</td>\n",
       "      <td>-1</td>\n",
       "      <td>0</td>\n",
       "      <td>NaN</td>\n",
       "    </tr>\n",
       "    <tr>\n",
       "      <th>35116</th>\n",
       "      <td>0.001030</td>\n",
       "      <td>-0.000041</td>\n",
       "      <td>0.0</td>\n",
       "      <td>-0.128194</td>\n",
       "      <td>0.051459</td>\n",
       "      <td>-2.900302</td>\n",
       "      <td>0.000824</td>\n",
       "      <td>0.0</td>\n",
       "      <td>0.002750</td>\n",
       "      <td>-0.145161</td>\n",
       "      <td>...</td>\n",
       "      <td>-1140.23</td>\n",
       "      <td>73615.57</td>\n",
       "      <td>353.66</td>\n",
       "      <td>1548.59</td>\n",
       "      <td>46951.75</td>\n",
       "      <td>5122</td>\n",
       "      <td>3122</td>\n",
       "      <td>-1</td>\n",
       "      <td>0</td>\n",
       "      <td>NaN</td>\n",
       "    </tr>\n",
       "    <tr>\n",
       "      <th>35138</th>\n",
       "      <td>0.000458</td>\n",
       "      <td>-0.000069</td>\n",
       "      <td>0.0</td>\n",
       "      <td>-0.069419</td>\n",
       "      <td>0.011842</td>\n",
       "      <td>-0.060762</td>\n",
       "      <td>0.000365</td>\n",
       "      <td>0.0</td>\n",
       "      <td>0.006588</td>\n",
       "      <td>-0.063279</td>\n",
       "      <td>...</td>\n",
       "      <td>-1794.64</td>\n",
       "      <td>18689.80</td>\n",
       "      <td>-2440.48</td>\n",
       "      <td>375.71</td>\n",
       "      <td>46844.85</td>\n",
       "      <td>-5122</td>\n",
       "      <td>-3122</td>\n",
       "      <td>870</td>\n",
       "      <td>1</td>\n",
       "      <td>T</td>\n",
       "    </tr>\n",
       "  </tbody>\n",
       "</table>\n",
       "<p>2987 rows × 121 columns</p>\n",
       "</div>"
      ],
      "text/plain": [
       "       mum_PP_POSMOMCOV_0_0  mum_PP_POSMOMCOV_0_1  mum_PP_POSMOMCOV_0_2  \\\n",
       "30                 0.001884             -0.000092                   0.0   \n",
       "64                 0.012950             -0.000725                   0.0   \n",
       "82                 0.000196              0.000024                   0.0   \n",
       "89                 0.000066              0.000041                   0.0   \n",
       "111                0.000088             -0.000055                   0.0   \n",
       "...                     ...                   ...                   ...   \n",
       "35037              0.001362              0.000064                   0.0   \n",
       "35040              0.000339             -0.000029                   0.0   \n",
       "35051              0.001332             -0.000044                   0.0   \n",
       "35116              0.001030             -0.000041                   0.0   \n",
       "35138              0.000458             -0.000069                   0.0   \n",
       "\n",
       "       mum_PP_POSMOMCOV_0_3  mum_PP_POSMOMCOV_0_4  mum_PP_POSMOMCOV_0_5  \\\n",
       "30                -0.156333              0.006242              0.005120   \n",
       "64                -0.645602              0.029547              0.008736   \n",
       "82                -0.068897              0.010399             -0.358099   \n",
       "89                -0.056080              0.003661             -0.187501   \n",
       "111               -0.044077              0.005964             -0.111934   \n",
       "...                     ...                   ...                   ...   \n",
       "35037             -0.191489             -0.004405             -0.000740   \n",
       "35040             -0.074902              0.001239             -0.073109   \n",
       "35051             -0.142271              0.002901             -0.015798   \n",
       "35116             -0.128194              0.051459             -2.900302   \n",
       "35138             -0.069419              0.011842             -0.060762   \n",
       "\n",
       "       mum_PP_POSMOMCOV_1_1  mum_PP_POSMOMCOV_1_2  mum_PP_POSMOMCOV_1_3  \\\n",
       "30                 0.001149                   0.0              0.005627   \n",
       "64                 0.013317                   0.0              0.030507   \n",
       "82                 0.000225                   0.0             -0.007530   \n",
       "89                 0.000159                   0.0             -0.028973   \n",
       "111                0.000199                   0.0              0.023476   \n",
       "...                     ...                   ...                   ...   \n",
       "35037              0.001429                   0.0             -0.004102   \n",
       "35040              0.000350                   0.0              0.003947   \n",
       "35051              0.001340                   0.0              0.003175   \n",
       "35116              0.000824                   0.0              0.002750   \n",
       "35138              0.000365                   0.0              0.006588   \n",
       "\n",
       "       mum_PP_POSMOMCOV_1_4  ...  MCTRUTH_mum_PY  MCTRUTH_mum_PZ  \\\n",
       "30                -0.111822  ...         1224.62         7558.94   \n",
       "64                -0.657701  ...         -315.80        25010.68   \n",
       "82                -0.052325  ...        -2289.14        62984.27   \n",
       "89                -0.043380  ...        -3663.58        48192.72   \n",
       "111               -0.048936  ...         2111.98        40664.44   \n",
       "...                     ...  ...             ...             ...   \n",
       "35037             -0.196166  ...        -1191.64        36953.87   \n",
       "35040             -0.070922  ...         1041.30        40164.82   \n",
       "35051             -0.142207  ...         -116.25        26510.66   \n",
       "35116             -0.145161  ...        -1140.23        73615.57   \n",
       "35138             -0.063279  ...        -1794.64        18689.80   \n",
       "\n",
       "       MCTRUTH_mup_PX  MCTRUTH_mup_PY  MCTRUTH_mup_PZ  MCTRUTH_Lb_ID  \\\n",
       "30             157.21        -1826.34        18441.10           5122   \n",
       "64            1091.00         1273.52         8619.81          -5122   \n",
       "82            -520.56          -68.83         8442.28           5122   \n",
       "89            6760.74         -590.33        32861.71          -5122   \n",
       "111           3039.69         -916.47        24703.88          -5122   \n",
       "...               ...             ...             ...            ...   \n",
       "35037          188.43         1594.50       118155.25          -5122   \n",
       "35040          596.82         -945.69         7691.32          -5122   \n",
       "35051         1109.68          948.86         7859.16           5122   \n",
       "35116          353.66         1548.59        46951.75           5122   \n",
       "35138        -2440.48          375.71        46844.85          -5122   \n",
       "\n",
       "       MCTRUTH_L_ID  Rec_key  N_rec_matches  TrackType  \n",
       "30             3122        5              1          T  \n",
       "64            -3122       -1              0        NaN  \n",
       "82             3122       -1              0        NaN  \n",
       "89            -3122       -1              0        NaN  \n",
       "111           -3122       -1              0        NaN  \n",
       "...             ...      ...            ...        ...  \n",
       "35037         -3122       -1              0        NaN  \n",
       "35040         -3122       -1              0        NaN  \n",
       "35051          3122       -1              0        NaN  \n",
       "35116          3122       -1              0        NaN  \n",
       "35138         -3122      870              1          T  \n",
       "\n",
       "[2987 rows x 121 columns]"
      ]
     },
     "execution_count": 8,
     "metadata": {},
     "output_type": "execute_result"
    }
   ],
   "source": [
    "## Cut on true Lambda decay vertex. 8000 is the maximum to have events,\n",
    "## no Lambda in the MC decays farther than that.\n",
    "LambdaZVertexLowerBound = 5500\n",
    "LambdaZVertexUpperBound = 8000\n",
    "df_MC = df_MC[(df_MC['MCTRUTH_L_ENDVERTEX_Z'] > LambdaZVertexLowerBound) & (df_MC['MCTRUTH_L_ENDVERTEX_Z'] < LambdaZVertexUpperBound)]\n",
    "df_MC"
   ]
  },
  {
   "cell_type": "markdown",
   "id": "53cbfcc0",
   "metadata": {},
   "source": [
    "# Assign reconstruction categories"
   ]
  },
  {
   "cell_type": "code",
   "execution_count": 9,
   "id": "3d22356b",
   "metadata": {},
   "outputs": [],
   "source": [
    "def categorize_reconstructed(df):\n",
    "    reconstructible_categories = { -1  : 'NoClassification'  , # No MC classification possible (e.g. NO MC)\n",
    "                                    0  : 'OutsideAcceptance' , # Outside detector acceptance\n",
    "                                    1  : 'NotReconstructible', # In acceptance but not reconstructible\n",
    "                                    2  : 'ChargedLong'       , # Reconstructible as a Long charged track\n",
    "                                    3  : 'ChargedDownstream' , # Reconstructible as a Downstream charged track\n",
    "                                    4  : 'ChargedUpstream'   , # Reconstructible as an Upstream charged track\n",
    "                                    5  : 'ChargedTtrack'     , # Reconstructible as a T charged track\n",
    "                                    6  : 'ChargedVelo'       , # Reconstructible as a VELO charged track\n",
    "                                    50 : 'Neutral'           } # Reconstructible as a Neutral particle (To Be Extended)\n",
    "\n",
    "    reconstructed_categories = { -1  : 'NoClassification' , # No MC classification possible (e.g. NO MC)\n",
    "                                  0  : 'NotReconstructed' , # Not reconstructed\n",
    "                                  1  : 'ChargedLong'      , # Reconstructed as a Long charged track\n",
    "                                  2  : 'ChargedDownstream', # Reconstructed as a Downstream charged track\n",
    "                                  3  : 'ChargedUpstream'  , # Reconstructed as an Upstream charged track\n",
    "                                  4  : 'ChargedTtrack'    , # Reconstructed as a T charged track\n",
    "                                  5  : 'ChargedVelo'      , # Reconstructed as a VELO charged track\n",
    "                                  6  : 'ChargedVeloR'     , # Reconstructed as a 2D Velo track\n",
    "                                  7  : 'ChargedMuon'      , # Reconstructed as a Muon track\n",
    "                                  50 : 'Neutral'          , # Reconstructed as a Neutral particle\n",
    "                                  51 : 'NeutralMergedPi0' , # Reconstructed as a merged pi0\n",
    "                                  52 : 'CatUnknown'       } # Reconstructed as a type that doesn't fit other categories\n",
    "    for c in df.columns:\n",
    "        if c.endswith('Reconstructible'):\n",
    "            df[c] = df[c].astype(dtype='category')\n",
    "            df[c].cat.rename_categories(reconstructible_categories, inplace=True)\n",
    "        elif c.endswith('Reconstructed'):\n",
    "            df[c] = df[c].astype(dtype='category')\n",
    "            df[c].cat.rename_categories(reconstructed_categories, inplace=True)"
   ]
  },
  {
   "cell_type": "code",
   "execution_count": 10,
   "id": "1017420a",
   "metadata": {},
   "outputs": [
    {
     "name": "stderr",
     "output_type": "stream",
     "text": [
      "/home/adegenna/apollo/lib/python3.6/site-packages/ipykernel_launcher.py:26: SettingWithCopyWarning: \n",
      "A value is trying to be set on a copy of a slice from a DataFrame.\n",
      "Try using .loc[row_indexer,col_indexer] = value instead\n",
      "\n",
      "See the caveats in the documentation: https://pandas.pydata.org/pandas-docs/stable/user_guide/indexing.html#returning-a-view-versus-a-copy\n",
      "/home/adegenna/apollo/lib/python3.6/site-packages/ipykernel_launcher.py:29: SettingWithCopyWarning: \n",
      "A value is trying to be set on a copy of a slice from a DataFrame.\n",
      "Try using .loc[row_indexer,col_indexer] = value instead\n",
      "\n",
      "See the caveats in the documentation: https://pandas.pydata.org/pandas-docs/stable/user_guide/indexing.html#returning-a-view-versus-a-copy\n"
     ]
    }
   ],
   "source": [
    "categorize_reconstructed(df_MC)"
   ]
  },
  {
   "cell_type": "code",
   "execution_count": 11,
   "id": "5b553256",
   "metadata": {},
   "outputs": [],
   "source": [
    "## Select reconstructed muons. There is a very small (~4500) number of reconstructed events\n",
    "## where the 'PID_Reconstructed' variables do not match the corresponding 'PID_Reconstructible'.\n",
    "reconstructibleMuons = (df_MC['mum_Reconstructible']=='ChargedLong') & (df_MC['mup_Reconstructible']=='ChargedLong')\n",
    "reconstructedMuons = (df_MC['mum_Reconstructed']=='ChargedLong') & (df_MC['mup_Reconstructed']=='ChargedLong')\n",
    "\n",
    "## The mismatched events here are a bit more (~11k). I suppose this could be because of particles\n",
    "## potentially reconstructible as something \"better\" than TTRACKS (e.g. LONG) that get a degreaded result.\n",
    "reconstructibleTTracks = (df_MC['pim_Reconstructible']=='ChargedTtrack') & (df_MC['p_Reconstructible']=='ChargedTtrack')\n",
    "reconstructedTTracks = (df_MC['pim_Reconstructed']=='ChargedTtrack') & (df_MC['p_Reconstructed']=='ChargedTtrack')\n",
    "\n",
    "## This selects all events actually reconstructed in the MC_reco. Since we have constrained reconstruction\n",
    "## of muons, protons and pions, the deficit must be due to Lambda and/or Lambdab reconstrution failure.\n",
    "## (Or J/psi, sure, but we assume that two LONG muons are tracked much better than two TTRACKS proton and pions.)\n",
    "allReconstructedEvents = ((df_MC['Rec_key'] >= 0) & (df_MC['TrackType'] == 'T'))"
   ]
  },
  {
   "cell_type": "code",
   "execution_count": 12,
   "id": "4efe60b8",
   "metadata": {},
   "outputs": [],
   "source": [
    "selectionCandidates = (\n",
    "    reconstructibleMuons & reconstructedMuons\n",
    "    & reconstructibleTTracks & reconstructedTTracks\n",
    ")\n",
    "\n",
    "selectionPassed = selectionCandidates & allReconstructedEvents"
   ]
  },
  {
   "cell_type": "code",
   "execution_count": 13,
   "id": "c72afcef",
   "metadata": {},
   "outputs": [],
   "source": [
    "df_MC_Reconstructed = df_MC[selectionPassed]\n",
    "df_MC_Failed = df_MC[selectionCandidates & ~selectionPassed]"
   ]
  },
  {
   "cell_type": "markdown",
   "id": "da1283d8",
   "metadata": {},
   "source": [
    "# Covariance matrix comparison"
   ]
  },
  {
   "cell_type": "code",
   "execution_count": 14,
   "id": "c32edc80",
   "metadata": {
    "scrolled": false
   },
   "outputs": [
    {
     "data": {
      "text/plain": [
       "['mum_PP_POSMOMCOV_0_0',\n",
       " 'mum_PP_POSMOMCOV_0_1',\n",
       " 'mum_PP_POSMOMCOV_0_2',\n",
       " 'mum_PP_POSMOMCOV_0_3',\n",
       " 'mum_PP_POSMOMCOV_0_4',\n",
       " 'mum_PP_POSMOMCOV_0_5',\n",
       " 'mum_PP_POSMOMCOV_1_1',\n",
       " 'mum_PP_POSMOMCOV_1_2',\n",
       " 'mum_PP_POSMOMCOV_1_3',\n",
       " 'mum_PP_POSMOMCOV_1_4',\n",
       " 'mum_PP_POSMOMCOV_1_5',\n",
       " 'mum_PP_POSMOMCOV_2_2',\n",
       " 'mum_PP_POSMOMCOV_2_3',\n",
       " 'mum_PP_POSMOMCOV_2_4',\n",
       " 'mum_PP_POSMOMCOV_2_5',\n",
       " 'mum_PP_POSMOMCOV_3_3',\n",
       " 'mum_PP_POSMOMCOV_3_4',\n",
       " 'mum_PP_POSMOMCOV_3_5',\n",
       " 'mum_PP_POSMOMCOV_4_4',\n",
       " 'mum_PP_POSMOMCOV_4_5',\n",
       " 'mum_PP_POSMOMCOV_5_5',\n",
       " 'mup_PP_POSMOMCOV_0_0',\n",
       " 'mup_PP_POSMOMCOV_0_1',\n",
       " 'mup_PP_POSMOMCOV_0_2',\n",
       " 'mup_PP_POSMOMCOV_0_3',\n",
       " 'mup_PP_POSMOMCOV_0_4',\n",
       " 'mup_PP_POSMOMCOV_0_5',\n",
       " 'mup_PP_POSMOMCOV_1_1',\n",
       " 'mup_PP_POSMOMCOV_1_2',\n",
       " 'mup_PP_POSMOMCOV_1_3',\n",
       " 'mup_PP_POSMOMCOV_1_4',\n",
       " 'mup_PP_POSMOMCOV_1_5',\n",
       " 'mup_PP_POSMOMCOV_2_2',\n",
       " 'mup_PP_POSMOMCOV_2_3',\n",
       " 'mup_PP_POSMOMCOV_2_4',\n",
       " 'mup_PP_POSMOMCOV_2_5',\n",
       " 'mup_PP_POSMOMCOV_3_3',\n",
       " 'mup_PP_POSMOMCOV_3_4',\n",
       " 'mup_PP_POSMOMCOV_3_5',\n",
       " 'mup_PP_POSMOMCOV_4_4',\n",
       " 'mup_PP_POSMOMCOV_4_5',\n",
       " 'mup_PP_POSMOMCOV_5_5',\n",
       " 'p_PP_POSMOMCOV_0_0',\n",
       " 'p_PP_POSMOMCOV_0_1',\n",
       " 'p_PP_POSMOMCOV_0_2',\n",
       " 'p_PP_POSMOMCOV_0_3',\n",
       " 'p_PP_POSMOMCOV_0_4',\n",
       " 'p_PP_POSMOMCOV_0_5',\n",
       " 'p_PP_POSMOMCOV_1_1',\n",
       " 'p_PP_POSMOMCOV_1_2',\n",
       " 'p_PP_POSMOMCOV_1_3',\n",
       " 'p_PP_POSMOMCOV_1_4',\n",
       " 'p_PP_POSMOMCOV_1_5',\n",
       " 'p_PP_POSMOMCOV_2_2',\n",
       " 'p_PP_POSMOMCOV_2_3',\n",
       " 'p_PP_POSMOMCOV_2_4',\n",
       " 'p_PP_POSMOMCOV_2_5',\n",
       " 'p_PP_POSMOMCOV_3_3',\n",
       " 'p_PP_POSMOMCOV_3_4',\n",
       " 'p_PP_POSMOMCOV_3_5',\n",
       " 'p_PP_POSMOMCOV_4_4',\n",
       " 'p_PP_POSMOMCOV_4_5',\n",
       " 'p_PP_POSMOMCOV_5_5',\n",
       " 'pim_PP_POSMOMCOV_0_0',\n",
       " 'pim_PP_POSMOMCOV_0_1',\n",
       " 'pim_PP_POSMOMCOV_0_2',\n",
       " 'pim_PP_POSMOMCOV_0_3',\n",
       " 'pim_PP_POSMOMCOV_0_4',\n",
       " 'pim_PP_POSMOMCOV_0_5',\n",
       " 'pim_PP_POSMOMCOV_1_1',\n",
       " 'pim_PP_POSMOMCOV_1_2',\n",
       " 'pim_PP_POSMOMCOV_1_3',\n",
       " 'pim_PP_POSMOMCOV_1_4',\n",
       " 'pim_PP_POSMOMCOV_1_5',\n",
       " 'pim_PP_POSMOMCOV_2_2',\n",
       " 'pim_PP_POSMOMCOV_2_3',\n",
       " 'pim_PP_POSMOMCOV_2_4',\n",
       " 'pim_PP_POSMOMCOV_2_5',\n",
       " 'pim_PP_POSMOMCOV_3_3',\n",
       " 'pim_PP_POSMOMCOV_3_4',\n",
       " 'pim_PP_POSMOMCOV_3_5',\n",
       " 'pim_PP_POSMOMCOV_4_4',\n",
       " 'pim_PP_POSMOMCOV_4_5',\n",
       " 'pim_PP_POSMOMCOV_5_5',\n",
       " 'Lb_Reconstructible',\n",
       " 'L_Reconstructible',\n",
       " 'p_Reconstructible',\n",
       " 'pim_Reconstructible',\n",
       " 'Jpsi_Reconstructible',\n",
       " 'mup_Reconstructible',\n",
       " 'mum_Reconstructible',\n",
       " 'Lb_Reconstructed',\n",
       " 'L_Reconstructed',\n",
       " 'p_Reconstructed',\n",
       " 'pim_Reconstructed',\n",
       " 'Jpsi_Reconstructed',\n",
       " 'mup_Reconstructed',\n",
       " 'mum_Reconstructed',\n",
       " 'MCTRUTH_Lb_ENDVERTEX_X',\n",
       " 'MCTRUTH_Lb_ENDVERTEX_Y',\n",
       " 'MCTRUTH_Lb_ENDVERTEX_Z',\n",
       " 'MCTRUTH_L_ENDVERTEX_X',\n",
       " 'MCTRUTH_L_ENDVERTEX_Y',\n",
       " 'MCTRUTH_L_ENDVERTEX_Z',\n",
       " 'MCTRUTH_p_PX',\n",
       " 'MCTRUTH_p_PY',\n",
       " 'MCTRUTH_p_PZ',\n",
       " 'MCTRUTH_pim_PX',\n",
       " 'MCTRUTH_pim_PY',\n",
       " 'MCTRUTH_pim_PZ',\n",
       " 'MCTRUTH_mum_PX',\n",
       " 'MCTRUTH_mum_PY',\n",
       " 'MCTRUTH_mum_PZ',\n",
       " 'MCTRUTH_mup_PX',\n",
       " 'MCTRUTH_mup_PY',\n",
       " 'MCTRUTH_mup_PZ',\n",
       " 'MCTRUTH_Lb_ID',\n",
       " 'MCTRUTH_L_ID',\n",
       " 'Rec_key',\n",
       " 'N_rec_matches',\n",
       " 'TrackType']"
      ]
     },
     "execution_count": 14,
     "metadata": {},
     "output_type": "execute_result"
    }
   ],
   "source": [
    "list(df_MC_Failed)"
   ]
  },
  {
   "cell_type": "markdown",
   "id": "83da57df",
   "metadata": {},
   "source": [
    "# $\\mu^-$"
   ]
  },
  {
   "cell_type": "code",
   "execution_count": 15,
   "id": "1e19f6a5",
   "metadata": {},
   "outputs": [
    {
     "data": {
      "image/png": "[encoded data removed]",
      "text/plain": [
       "<Figure size 432x288 with 1 Axes>"
      ]
     },
     "metadata": {
      "needs_background": "light"
     },
     "output_type": "display_data"
    }
   ],
   "source": [
    "featureToPlot = 'mum_PP_POSMOMCOV_0_0'\n",
    "featureLabel = 'mum_PP_POSMOMCOV_0_0'\n",
    "featureTitle = 'mum_PP_POSMOMCOV_0_0'\n",
    "binNumber = 100\n",
    "boundaries = (0,.005)\n",
    "yscale = 'linear'\n",
    "normalized = True\n",
    "\n",
    "if normalized:\n",
    "    ylabel = 'Probability density'\n",
    "else:\n",
    "    ylabel = 'Events'\n",
    "\n",
    "plt.hist(\n",
    "    df_MC_Failed[featureToPlot],\n",
    "    range=boundaries, bins=binNumber,\n",
    "    histtype='stepfilled',\n",
    "    fc=mcolors.to_rgba('lightblue', alpha=0.2),\n",
    "    edgecolor='royalblue',\n",
    "    label='Failed',\n",
    "    density=normalized\n",
    ")\n",
    "\n",
    "plt.hist(\n",
    "    df_MC_Reconstructed[featureToPlot],\n",
    "    range=boundaries, bins=binNumber,\n",
    "    histtype='stepfilled',\n",
    "    fc=mcolors.to_rgba('navajowhite', alpha=0.2),\n",
    "    edgecolor='tab:orange',\n",
    "    label='Success',\n",
    "    density=normalized\n",
    ")\n",
    "\n",
    "plt.xlabel(featureLabel)\n",
    "plt.ylabel(ylabel)\n",
    "plt.yscale(yscale)\n",
    "plt.grid()\n",
    "plt.title(featureTitle)\n",
    "plt.legend()\n",
    "plt.show()"
   ]
  },
  {
   "cell_type": "code",
   "execution_count": 16,
   "id": "9f634860",
   "metadata": {},
   "outputs": [
    {
     "data": {
      "image/png": "[encoded data removed]",
      "text/plain": [
       "<Figure size 432x288 with 1 Axes>"
      ]
     },
     "metadata": {
      "needs_background": "light"
     },
     "output_type": "display_data"
    }
   ],
   "source": [
    "featureToPlot = 'mum_PP_POSMOMCOV_0_1'\n",
    "featureLabel = 'mum_PP_POSMOMCOV_0_1'\n",
    "featureTitle = 'mum_PP_POSMOMCOV_0_1'\n",
    "binNumber = 100\n",
    "boundaries = (-.0005,.0005)\n",
    "yscale = 'linear'\n",
    "normalized = True\n",
    "\n",
    "if normalized:\n",
    "    ylabel = 'Probability density'\n",
    "else:\n",
    "    ylabel = 'Events'\n",
    "\n",
    "plt.hist(\n",
    "    df_MC_Failed[featureToPlot],\n",
    "    range=boundaries, bins=binNumber,\n",
    "    histtype='stepfilled',\n",
    "    fc=mcolors.to_rgba('lightblue', alpha=0.2),\n",
    "    edgecolor='royalblue',\n",
    "    label='Failed',\n",
    "    density=normalized\n",
    ")\n",
    "\n",
    "plt.hist(\n",
    "    df_MC_Reconstructed[featureToPlot],\n",
    "    range=boundaries, bins=binNumber,\n",
    "    histtype='stepfilled',\n",
    "    fc=mcolors.to_rgba('navajowhite', alpha=0.2),\n",
    "    edgecolor='tab:orange',\n",
    "    label='Success',\n",
    "    density=normalized\n",
    ")\n",
    "\n",
    "plt.xlabel(featureLabel)\n",
    "plt.ylabel(ylabel)\n",
    "plt.yscale(yscale)\n",
    "plt.grid()\n",
    "plt.title(featureTitle)\n",
    "plt.legend()\n",
    "plt.show()"
   ]
  },
  {
   "cell_type": "code",
   "execution_count": 17,
   "id": "ef8cc776",
   "metadata": {},
   "outputs": [
    {
     "data": {
      "text/plain": [
       "0.0    2987\n",
       "Name: mum_PP_POSMOMCOV_0_2, dtype: int64"
      ]
     },
     "execution_count": 17,
     "metadata": {},
     "output_type": "execute_result"
    }
   ],
   "source": [
    "df_MC['mum_PP_POSMOMCOV_0_2'].value_counts()"
   ]
  },
  {
   "cell_type": "code",
   "execution_count": 69,
   "id": "81db8b1b",
   "metadata": {},
   "outputs": [
    {
     "data": {
      "image/png": "[encoded data removed]",
      "text/plain": [
       "<Figure size 432x288 with 1 Axes>"
      ]
     },
     "metadata": {
      "needs_background": "light"
     },
     "output_type": "display_data"
    }
   ],
   "source": [
    "featureToPlot = 'mum_PP_POSMOMCOV_0_3'\n",
    "featureLabel = 'mum_PP_POSMOMCOV_0_3'\n",
    "featureTitle = 'mum_PP_POSMOMCOV_0_3'\n",
    "binNumber = 100\n",
    "boundaries = (-.5,.05)\n",
    "yscale = 'linear'\n",
    "normalized = True\n",
    "\n",
    "if normalized:\n",
    "    ylabel = 'Probability density'\n",
    "else:\n",
    "    ylabel = 'Events'\n",
    "\n",
    "plt.hist(\n",
    "    df_MC_Failed[featureToPlot],\n",
    "    range=boundaries, bins=binNumber,\n",
    "    histtype='stepfilled',\n",
    "    fc=mcolors.to_rgba('lightblue', alpha=0.2),\n",
    "    edgecolor='royalblue',\n",
    "    label='Failed',\n",
    "    density=normalized\n",
    ")\n",
    "\n",
    "plt.hist(\n",
    "    df_MC_Reconstructed[featureToPlot],\n",
    "    range=boundaries, bins=binNumber,\n",
    "    histtype='stepfilled',\n",
    "    fc=mcolors.to_rgba('navajowhite', alpha=0.2),\n",
    "    edgecolor='tab:orange',\n",
    "    label='Success',\n",
    "    density=normalized\n",
    ")\n",
    "\n",
    "plt.xlabel(featureLabel)\n",
    "plt.ylabel(ylabel)\n",
    "plt.yscale(yscale)\n",
    "plt.grid()\n",
    "plt.title(featureTitle)\n",
    "plt.legend()\n",
    "plt.show()"
   ]
  },
  {
   "cell_type": "code",
   "execution_count": 19,
   "id": "54aa5a42",
   "metadata": {},
   "outputs": [
    {
     "data": {
      "image/png": "[encoded data removed]",
      "text/plain": [
       "<Figure size 432x288 with 1 Axes>"
      ]
     },
     "metadata": {
      "needs_background": "light"
     },
     "output_type": "display_data"
    }
   ],
   "source": [
    "featureToPlot = 'mum_PP_POSMOMCOV_0_4'\n",
    "featureLabel = 'mum_PP_POSMOMCOV_0_4'\n",
    "featureTitle = 'mum_PP_POSMOMCOV_0_4'\n",
    "binNumber = 100\n",
    "boundaries = (-.1,.1)\n",
    "yscale = 'linear'\n",
    "normalized = True\n",
    "\n",
    "if normalized:\n",
    "    ylabel = 'Probability density'\n",
    "else:\n",
    "    ylabel = 'Events'\n",
    "\n",
    "plt.hist(\n",
    "    df_MC_Failed[featureToPlot],\n",
    "    range=boundaries, bins=binNumber,\n",
    "    histtype='stepfilled',\n",
    "    fc=mcolors.to_rgba('lightblue', alpha=0.2),\n",
    "    edgecolor='royalblue',\n",
    "    label='Failed',\n",
    "    density=normalized\n",
    ")\n",
    "\n",
    "plt.hist(\n",
    "    df_MC_Reconstructed[featureToPlot],\n",
    "    range=boundaries, bins=binNumber,\n",
    "    histtype='stepfilled',\n",
    "    fc=mcolors.to_rgba('navajowhite', alpha=0.2),\n",
    "    edgecolor='tab:orange',\n",
    "    label='Success',\n",
    "    density=normalized\n",
    ")\n",
    "\n",
    "plt.xlabel(featureLabel)\n",
    "plt.ylabel(ylabel)\n",
    "plt.yscale(yscale)\n",
    "plt.grid()\n",
    "plt.title(featureTitle)\n",
    "plt.legend()\n",
    "plt.show()"
   ]
  },
  {
   "cell_type": "code",
   "execution_count": 20,
   "id": "6f67bb6e",
   "metadata": {},
   "outputs": [
    {
     "data": {
      "image/png": "[encoded data removed]",
      "text/plain": [
       "<Figure size 432x288 with 1 Axes>"
      ]
     },
     "metadata": {
      "needs_background": "light"
     },
     "output_type": "display_data"
    }
   ],
   "source": [
    "featureToPlot = 'mum_PP_POSMOMCOV_0_5'\n",
    "featureLabel = 'mum_PP_POSMOMCOV_0_5'\n",
    "featureTitle = 'mum_PP_POSMOMCOV_0_5'\n",
    "binNumber = 100\n",
    "boundaries = (-.4,.4)\n",
    "yscale = 'linear'\n",
    "normalized = True\n",
    "\n",
    "if normalized:\n",
    "    ylabel = 'Probability density'\n",
    "else:\n",
    "    ylabel = 'Events'\n",
    "\n",
    "plt.hist(\n",
    "    df_MC_Failed[featureToPlot],\n",
    "    range=boundaries, bins=binNumber,\n",
    "    histtype='stepfilled',\n",
    "    fc=mcolors.to_rgba('lightblue', alpha=0.2),\n",
    "    edgecolor='royalblue',\n",
    "    label='Failed',\n",
    "    density=normalized\n",
    ")\n",
    "\n",
    "plt.hist(\n",
    "    df_MC_Reconstructed[featureToPlot],\n",
    "    range=boundaries, bins=binNumber,\n",
    "    histtype='stepfilled',\n",
    "    fc=mcolors.to_rgba('navajowhite', alpha=0.2),\n",
    "    edgecolor='tab:orange',\n",
    "    label='Success',\n",
    "    density=normalized\n",
    ")\n",
    "\n",
    "plt.xlabel(featureLabel)\n",
    "plt.ylabel(ylabel)\n",
    "plt.yscale(yscale)\n",
    "plt.grid()\n",
    "plt.title(featureTitle)\n",
    "plt.legend()\n",
    "plt.show()"
   ]
  },
  {
   "cell_type": "code",
   "execution_count": 21,
   "id": "ec827620",
   "metadata": {},
   "outputs": [
    {
     "data": {
      "image/png": "[encoded data removed]",
      "text/plain": [
       "<Figure size 432x288 with 1 Axes>"
      ]
     },
     "metadata": {
      "needs_background": "light"
     },
     "output_type": "display_data"
    }
   ],
   "source": [
    "featureToPlot = 'mum_PP_POSMOMCOV_1_1'\n",
    "featureLabel = 'mum_PP_POSMOMCOV_1_1'\n",
    "featureTitle = 'mum_PP_POSMOMCOV_1_1'\n",
    "binNumber = 100\n",
    "boundaries = (0,.005)\n",
    "yscale = 'linear'\n",
    "normalized = True\n",
    "\n",
    "if normalized:\n",
    "    ylabel = 'Probability density'\n",
    "else:\n",
    "    ylabel = 'Events'\n",
    "\n",
    "plt.hist(\n",
    "    df_MC_Failed[featureToPlot],\n",
    "    range=boundaries, bins=binNumber,\n",
    "    histtype='stepfilled',\n",
    "    fc=mcolors.to_rgba('lightblue', alpha=0.2),\n",
    "    edgecolor='royalblue',\n",
    "    label='Failed',\n",
    "    density=normalized\n",
    ")\n",
    "\n",
    "plt.hist(\n",
    "    df_MC_Reconstructed[featureToPlot],\n",
    "    range=boundaries, bins=binNumber,\n",
    "    histtype='stepfilled',\n",
    "    fc=mcolors.to_rgba('navajowhite', alpha=0.2),\n",
    "    edgecolor='tab:orange',\n",
    "    label='Success',\n",
    "    density=normalized\n",
    ")\n",
    "\n",
    "plt.xlabel(featureLabel)\n",
    "plt.ylabel(ylabel)\n",
    "plt.yscale(yscale)\n",
    "plt.grid()\n",
    "plt.title(featureTitle)\n",
    "plt.legend()\n",
    "plt.show()"
   ]
  },
  {
   "cell_type": "code",
   "execution_count": 22,
   "id": "13ba8d44",
   "metadata": {},
   "outputs": [
    {
     "data": {
      "text/plain": [
       "0.0    2987\n",
       "Name: mum_PP_POSMOMCOV_1_2, dtype: int64"
      ]
     },
     "execution_count": 22,
     "metadata": {},
     "output_type": "execute_result"
    }
   ],
   "source": [
    "df_MC['mum_PP_POSMOMCOV_1_2'].value_counts()"
   ]
  },
  {
   "cell_type": "code",
   "execution_count": 23,
   "id": "4e7ff88a",
   "metadata": {},
   "outputs": [
    {
     "data": {
      "image/png": "[encoded data removed]",
      "text/plain": [
       "<Figure size 432x288 with 1 Axes>"
      ]
     },
     "metadata": {
      "needs_background": "light"
     },
     "output_type": "display_data"
    }
   ],
   "source": [
    "featureToPlot = 'mum_PP_POSMOMCOV_1_3'\n",
    "featureLabel = 'mum_PP_POSMOMCOV_1_3'\n",
    "featureTitle = 'mum_PP_POSMOMCOV_1_3'\n",
    "binNumber = 100\n",
    "boundaries = (-.05,.05)\n",
    "yscale = 'linear'\n",
    "normalized = True\n",
    "\n",
    "if normalized:\n",
    "    ylabel = 'Probability density'\n",
    "else:\n",
    "    ylabel = 'Events'\n",
    "\n",
    "plt.hist(\n",
    "    df_MC_Failed[featureToPlot],\n",
    "    range=boundaries, bins=binNumber,\n",
    "    histtype='stepfilled',\n",
    "    fc=mcolors.to_rgba('lightblue', alpha=0.2),\n",
    "    edgecolor='royalblue',\n",
    "    label='Failed',\n",
    "    density=normalized\n",
    ")\n",
    "\n",
    "plt.hist(\n",
    "    df_MC_Reconstructed[featureToPlot],\n",
    "    range=boundaries, bins=binNumber,\n",
    "    histtype='stepfilled',\n",
    "    fc=mcolors.to_rgba('navajowhite', alpha=0.2),\n",
    "    edgecolor='tab:orange',\n",
    "    label='Success',\n",
    "    density=normalized\n",
    ")\n",
    "\n",
    "plt.xlabel(featureLabel)\n",
    "plt.ylabel(ylabel)\n",
    "plt.yscale(yscale)\n",
    "plt.grid()\n",
    "plt.title(featureTitle)\n",
    "plt.legend()\n",
    "plt.show()"
   ]
  },
  {
   "cell_type": "code",
   "execution_count": 24,
   "id": "6e159b31",
   "metadata": {},
   "outputs": [
    {
     "data": {
      "image/png": "[encoded data removed]",
      "text/plain": [
       "<Figure size 432x288 with 1 Axes>"
      ]
     },
     "metadata": {
      "needs_background": "light"
     },
     "output_type": "display_data"
    }
   ],
   "source": [
    "featureToPlot = 'mum_PP_POSMOMCOV_1_4'\n",
    "featureLabel = 'mum_PP_POSMOMCOV_1_4'\n",
    "featureTitle = 'mum_PP_POSMOMCOV_1_4'\n",
    "binNumber = 100\n",
    "boundaries = (-.25,0)\n",
    "yscale = 'linear'\n",
    "normalized = True\n",
    "\n",
    "if normalized:\n",
    "    ylabel = 'Probability density'\n",
    "else:\n",
    "    ylabel = 'Events'\n",
    "\n",
    "plt.hist(\n",
    "    df_MC_Failed[featureToPlot],\n",
    "    range=boundaries, bins=binNumber,\n",
    "    histtype='stepfilled',\n",
    "    fc=mcolors.to_rgba('lightblue', alpha=0.2),\n",
    "    edgecolor='royalblue',\n",
    "    label='Failed',\n",
    "    density=normalized\n",
    ")\n",
    "\n",
    "plt.hist(\n",
    "    df_MC_Reconstructed[featureToPlot],\n",
    "    range=boundaries, bins=binNumber,\n",
    "    histtype='stepfilled',\n",
    "    fc=mcolors.to_rgba('navajowhite', alpha=0.2),\n",
    "    edgecolor='tab:orange',\n",
    "    label='Success',\n",
    "    density=normalized\n",
    ")\n",
    "\n",
    "plt.xlabel(featureLabel)\n",
    "plt.ylabel(ylabel)\n",
    "plt.yscale(yscale)\n",
    "plt.grid()\n",
    "plt.title(featureTitle)\n",
    "plt.legend()\n",
    "plt.show()"
   ]
  },
  {
   "cell_type": "code",
   "execution_count": 25,
   "id": "3e32db60",
   "metadata": {},
   "outputs": [
    {
     "data": {
      "image/png": "[encoded data removed]",
      "text/plain": [
       "<Figure size 432x288 with 1 Axes>"
      ]
     },
     "metadata": {
      "needs_background": "light"
     },
     "output_type": "display_data"
    }
   ],
   "source": [
    "featureToPlot = 'mum_PP_POSMOMCOV_1_5'\n",
    "featureLabel = 'mum_PP_POSMOMCOV_1_5'\n",
    "featureTitle = 'mum_PP_POSMOMCOV_1_5'\n",
    "binNumber = 100\n",
    "boundaries = (-.2,.2)\n",
    "yscale = 'linear'\n",
    "normalized = True\n",
    "\n",
    "if normalized:\n",
    "    ylabel = 'Probability density'\n",
    "else:\n",
    "    ylabel = 'Events'\n",
    "\n",
    "plt.hist(\n",
    "    df_MC_Failed[featureToPlot],\n",
    "    range=boundaries, bins=binNumber,\n",
    "    histtype='stepfilled',\n",
    "    fc=mcolors.to_rgba('lightblue', alpha=0.2),\n",
    "    edgecolor='royalblue',\n",
    "    label='Failed',\n",
    "    density=normalized\n",
    ")\n",
    "\n",
    "plt.hist(\n",
    "    df_MC_Reconstructed[featureToPlot],\n",
    "    range=boundaries, bins=binNumber,\n",
    "    histtype='stepfilled',\n",
    "    fc=mcolors.to_rgba('navajowhite', alpha=0.2),\n",
    "    edgecolor='tab:orange',\n",
    "    label='Success',\n",
    "    density=normalized\n",
    ")\n",
    "\n",
    "plt.xlabel(featureLabel)\n",
    "plt.ylabel(ylabel)\n",
    "plt.yscale(yscale)\n",
    "plt.grid()\n",
    "plt.title(featureTitle)\n",
    "plt.legend()\n",
    "plt.show()"
   ]
  },
  {
   "cell_type": "code",
   "execution_count": 26,
   "id": "88173b47",
   "metadata": {},
   "outputs": [
    {
     "data": {
      "text/plain": [
       "0.0    2987\n",
       "Name: mum_PP_POSMOMCOV_2_2, dtype: int64"
      ]
     },
     "execution_count": 26,
     "metadata": {},
     "output_type": "execute_result"
    }
   ],
   "source": [
    "df_MC['mum_PP_POSMOMCOV_2_2'].value_counts()"
   ]
  },
  {
   "cell_type": "code",
   "execution_count": 27,
   "id": "634ea5fd",
   "metadata": {},
   "outputs": [
    {
     "data": {
      "text/plain": [
       "0.0    2987\n",
       "Name: mum_PP_POSMOMCOV_2_3, dtype: int64"
      ]
     },
     "execution_count": 27,
     "metadata": {},
     "output_type": "execute_result"
    }
   ],
   "source": [
    "df_MC['mum_PP_POSMOMCOV_2_3'].value_counts()"
   ]
  },
  {
   "cell_type": "code",
   "execution_count": 28,
   "id": "a06d8a52",
   "metadata": {},
   "outputs": [
    {
     "data": {
      "text/plain": [
       "0.0    2987\n",
       "Name: mum_PP_POSMOMCOV_2_4, dtype: int64"
      ]
     },
     "execution_count": 28,
     "metadata": {},
     "output_type": "execute_result"
    }
   ],
   "source": [
    "df_MC['mum_PP_POSMOMCOV_2_4'].value_counts()"
   ]
  },
  {
   "cell_type": "code",
   "execution_count": 29,
   "id": "cd17c172",
   "metadata": {
    "scrolled": true
   },
   "outputs": [
    {
     "data": {
      "text/plain": [
       "0.0    2987\n",
       "Name: mum_PP_POSMOMCOV_2_5, dtype: int64"
      ]
     },
     "execution_count": 29,
     "metadata": {},
     "output_type": "execute_result"
    }
   ],
   "source": [
    "df_MC['mum_PP_POSMOMCOV_2_5'].value_counts()"
   ]
  },
  {
   "cell_type": "code",
   "execution_count": 30,
   "id": "db558573",
   "metadata": {},
   "outputs": [
    {
     "data": {
      "image/png": "[encoded data removed]",
      "text/plain": [
       "<Figure size 432x288 with 1 Axes>"
      ]
     },
     "metadata": {
      "needs_background": "light"
     },
     "output_type": "display_data"
    }
   ],
   "source": [
    "featureToPlot = 'mum_PP_POSMOMCOV_3_3'\n",
    "featureLabel = 'mum_PP_POSMOMCOV_3_3'\n",
    "featureTitle = 'mum_PP_POSMOMCOV_3_3'\n",
    "binNumber = 100\n",
    "boundaries = (0,500)\n",
    "yscale = 'linear'\n",
    "normalized = True\n",
    "\n",
    "if normalized:\n",
    "    ylabel = 'Probability density'\n",
    "else:\n",
    "    ylabel = 'Events'\n",
    "\n",
    "plt.hist(\n",
    "    df_MC_Failed[featureToPlot],\n",
    "    range=boundaries, bins=binNumber,\n",
    "    histtype='stepfilled',\n",
    "    fc=mcolors.to_rgba('lightblue', alpha=0.2),\n",
    "    edgecolor='royalblue',\n",
    "    label='Failed',\n",
    "    density=normalized\n",
    ")\n",
    "\n",
    "plt.hist(\n",
    "    df_MC_Reconstructed[featureToPlot],\n",
    "    range=boundaries, bins=binNumber,\n",
    "    histtype='stepfilled',\n",
    "    fc=mcolors.to_rgba('navajowhite', alpha=0.2),\n",
    "    edgecolor='tab:orange',\n",
    "    label='Success',\n",
    "    density=normalized\n",
    ")\n",
    "\n",
    "plt.xlabel(featureLabel)\n",
    "plt.ylabel(ylabel)\n",
    "plt.yscale(yscale)\n",
    "plt.grid()\n",
    "plt.title(featureTitle)\n",
    "plt.legend()\n",
    "plt.show()"
   ]
  },
  {
   "cell_type": "code",
   "execution_count": 31,
   "id": "01ce680b",
   "metadata": {},
   "outputs": [
    {
     "data": {
      "image/png": "[encoded data removed]",
      "text/plain": [
       "<Figure size 432x288 with 1 Axes>"
      ]
     },
     "metadata": {
      "needs_background": "light"
     },
     "output_type": "display_data"
    }
   ],
   "source": [
    "featureToPlot = 'mum_PP_POSMOMCOV_3_4'\n",
    "featureLabel = 'mum_PP_POSMOMCOV_3_4'\n",
    "featureTitle = 'mum_PP_POSMOMCOV_3_4'\n",
    "binNumber = 100\n",
    "boundaries = (-200,200)\n",
    "yscale = 'linear'\n",
    "normalized = True\n",
    "\n",
    "if normalized:\n",
    "    ylabel = 'Probability density'\n",
    "else:\n",
    "    ylabel = 'Events'\n",
    "\n",
    "plt.hist(\n",
    "    df_MC_Failed[featureToPlot],\n",
    "    range=boundaries, bins=binNumber,\n",
    "    histtype='stepfilled',\n",
    "    fc=mcolors.to_rgba('lightblue', alpha=0.2),\n",
    "    edgecolor='royalblue',\n",
    "    label='Failed',\n",
    "    density=normalized\n",
    ")\n",
    "\n",
    "plt.hist(\n",
    "    df_MC_Reconstructed[featureToPlot],\n",
    "    range=boundaries, bins=binNumber,\n",
    "    histtype='stepfilled',\n",
    "    fc=mcolors.to_rgba('navajowhite', alpha=0.2),\n",
    "    edgecolor='tab:orange',\n",
    "    label='Success',\n",
    "    density=normalized\n",
    ")\n",
    "\n",
    "plt.xlabel(featureLabel)\n",
    "plt.ylabel(ylabel)\n",
    "plt.yscale(yscale)\n",
    "plt.grid()\n",
    "plt.title(featureTitle)\n",
    "plt.legend()\n",
    "plt.show()"
   ]
  },
  {
   "cell_type": "code",
   "execution_count": 32,
   "id": "22fb53fe",
   "metadata": {},
   "outputs": [
    {
     "data": {
      "image/png": "[encoded data removed]",
      "text/plain": [
       "<Figure size 432x288 with 1 Axes>"
      ]
     },
     "metadata": {
      "needs_background": "light"
     },
     "output_type": "display_data"
    }
   ],
   "source": [
    "featureToPlot = 'mum_PP_POSMOMCOV_3_5'\n",
    "featureLabel = 'mum_PP_POSMOMCOV_3_5'\n",
    "featureTitle = 'mum_PP_POSMOMCOV_3_5'\n",
    "binNumber = 100\n",
    "boundaries = (-4000,4000)\n",
    "yscale = 'linear'\n",
    "normalized = True\n",
    "\n",
    "if normalized:\n",
    "    ylabel = 'Probability density'\n",
    "else:\n",
    "    ylabel = 'Events'\n",
    "\n",
    "plt.hist(\n",
    "    df_MC_Failed[featureToPlot],\n",
    "    range=boundaries, bins=binNumber,\n",
    "    histtype='stepfilled',\n",
    "    fc=mcolors.to_rgba('lightblue', alpha=0.2),\n",
    "    edgecolor='royalblue',\n",
    "    label='Failed',\n",
    "    density=normalized\n",
    ")\n",
    "\n",
    "plt.hist(\n",
    "    df_MC_Reconstructed[featureToPlot],\n",
    "    range=boundaries, bins=binNumber,\n",
    "    histtype='stepfilled',\n",
    "    fc=mcolors.to_rgba('navajowhite', alpha=0.2),\n",
    "    edgecolor='tab:orange',\n",
    "    label='Success',\n",
    "    density=normalized\n",
    ")\n",
    "\n",
    "plt.xlabel(featureLabel)\n",
    "plt.ylabel(ylabel)\n",
    "plt.yscale(yscale)\n",
    "plt.grid()\n",
    "plt.title(featureTitle)\n",
    "plt.legend()\n",
    "plt.show()"
   ]
  },
  {
   "cell_type": "code",
   "execution_count": 33,
   "id": "268e88a6",
   "metadata": {},
   "outputs": [
    {
     "data": {
      "image/png": "[encoded data removed]",
      "text/plain": [
       "<Figure size 432x288 with 1 Axes>"
      ]
     },
     "metadata": {
      "needs_background": "light"
     },
     "output_type": "display_data"
    }
   ],
   "source": [
    "featureToPlot = 'mum_PP_POSMOMCOV_4_4'\n",
    "featureLabel = 'mum_PP_POSMOMCOV_4_4'\n",
    "featureTitle = 'mum_PP_POSMOMCOV_4_4'\n",
    "binNumber = 100\n",
    "boundaries = (0,400)\n",
    "yscale = 'linear'\n",
    "normalized = True\n",
    "\n",
    "if normalized:\n",
    "    ylabel = 'Probability density'\n",
    "else:\n",
    "    ylabel = 'Events'\n",
    "\n",
    "plt.hist(\n",
    "    df_MC_Failed[featureToPlot],\n",
    "    range=boundaries, bins=binNumber,\n",
    "    histtype='stepfilled',\n",
    "    fc=mcolors.to_rgba('lightblue', alpha=0.2),\n",
    "    edgecolor='royalblue',\n",
    "    label='Failed',\n",
    "    density=normalized\n",
    ")\n",
    "\n",
    "plt.hist(\n",
    "    df_MC_Reconstructed[featureToPlot],\n",
    "    range=boundaries, bins=binNumber,\n",
    "    histtype='stepfilled',\n",
    "    fc=mcolors.to_rgba('navajowhite', alpha=0.2),\n",
    "    edgecolor='tab:orange',\n",
    "    label='Success',\n",
    "    density=normalized\n",
    ")\n",
    "\n",
    "plt.xlabel(featureLabel)\n",
    "plt.ylabel(ylabel)\n",
    "plt.yscale(yscale)\n",
    "plt.grid()\n",
    "plt.title(featureTitle)\n",
    "plt.legend()\n",
    "plt.show()"
   ]
  },
  {
   "cell_type": "code",
   "execution_count": 34,
   "id": "8ba386e6",
   "metadata": {},
   "outputs": [
    {
     "data": {
      "image/png": "[encoded data removed]",
      "text/plain": [
       "<Figure size 432x288 with 1 Axes>"
      ]
     },
     "metadata": {
      "needs_background": "light"
     },
     "output_type": "display_data"
    }
   ],
   "source": [
    "featureToPlot = 'mum_PP_POSMOMCOV_4_5'\n",
    "featureLabel = 'mum_PP_POSMOMCOV_4_5'\n",
    "featureTitle = 'mum_PP_POSMOMCOV_4_5'\n",
    "binNumber = 100\n",
    "boundaries = (-4000,4000)\n",
    "yscale = 'linear'\n",
    "normalized = True\n",
    "\n",
    "if normalized:\n",
    "    ylabel = 'Probability density'\n",
    "else:\n",
    "    ylabel = 'Events'\n",
    "\n",
    "plt.hist(\n",
    "    df_MC_Failed[featureToPlot],\n",
    "    range=boundaries, bins=binNumber,\n",
    "    histtype='stepfilled',\n",
    "    fc=mcolors.to_rgba('lightblue', alpha=0.2),\n",
    "    edgecolor='royalblue',\n",
    "    label='Failed',\n",
    "    density=normalized\n",
    ")\n",
    "\n",
    "plt.hist(\n",
    "    df_MC_Reconstructed[featureToPlot],\n",
    "    range=boundaries, bins=binNumber,\n",
    "    histtype='stepfilled',\n",
    "    fc=mcolors.to_rgba('navajowhite', alpha=0.2),\n",
    "    edgecolor='tab:orange',\n",
    "    label='Success',\n",
    "    density=normalized\n",
    ")\n",
    "\n",
    "plt.xlabel(featureLabel)\n",
    "plt.ylabel(ylabel)\n",
    "plt.yscale(yscale)\n",
    "plt.grid()\n",
    "plt.title(featureTitle)\n",
    "plt.legend()\n",
    "plt.show()"
   ]
  },
  {
   "cell_type": "code",
   "execution_count": 35,
   "id": "98f00f18",
   "metadata": {},
   "outputs": [
    {
     "data": {
      "image/png": "[encoded data removed]",
      "text/plain": [
       "<Figure size 432x288 with 1 Axes>"
      ]
     },
     "metadata": {
      "needs_background": "light"
     },
     "output_type": "display_data"
    }
   ],
   "source": [
    "featureToPlot = 'mum_PP_POSMOMCOV_5_5'\n",
    "featureLabel = 'mum_PP_POSMOMCOV_5_5'\n",
    "featureTitle = 'mum_PP_POSMOMCOV_5_5'\n",
    "binNumber = 100\n",
    "boundaries = (0,80000)\n",
    "yscale = 'linear'\n",
    "normalized = True\n",
    "\n",
    "if normalized:\n",
    "    ylabel = 'Probability density'\n",
    "else:\n",
    "    ylabel = 'Events'\n",
    "\n",
    "plt.hist(\n",
    "    df_MC_Failed[featureToPlot],\n",
    "    range=boundaries, bins=binNumber,\n",
    "    histtype='stepfilled',\n",
    "    fc=mcolors.to_rgba('lightblue', alpha=0.2),\n",
    "    edgecolor='royalblue',\n",
    "    label='Failed',\n",
    "    density=normalized\n",
    ")\n",
    "\n",
    "plt.hist(\n",
    "    df_MC_Reconstructed[featureToPlot],\n",
    "    range=boundaries, bins=binNumber,\n",
    "    histtype='stepfilled',\n",
    "    fc=mcolors.to_rgba('navajowhite', alpha=0.2),\n",
    "    edgecolor='tab:orange',\n",
    "    label='Success',\n",
    "    density=normalized\n",
    ")\n",
    "\n",
    "plt.xlabel(featureLabel)\n",
    "plt.ylabel(ylabel)\n",
    "plt.yscale(yscale)\n",
    "plt.grid()\n",
    "plt.title(featureTitle)\n",
    "plt.legend()\n",
    "plt.show()"
   ]
  },
  {
   "cell_type": "markdown",
   "id": "79c50bb9",
   "metadata": {},
   "source": [
    "# $\\pi^-$"
   ]
  },
  {
   "cell_type": "code",
   "execution_count": 70,
   "id": "5cdd4405",
   "metadata": {},
   "outputs": [
    {
     "data": {
      "image/png": "[encoded data removed]",
      "text/plain": [
       "<Figure size 432x288 with 1 Axes>"
      ]
     },
     "metadata": {
      "needs_background": "light"
     },
     "output_type": "display_data"
    }
   ],
   "source": [
    "featureToPlot = 'pim_PP_POSMOMCOV_0_0'\n",
    "featureLabel = 'pim_PP_POSMOMCOV_0_0'\n",
    "featureTitle = 'pim_PP_POSMOMCOV_0_0'\n",
    "binNumber = 100\n",
    "boundaries = (-.0,.015)\n",
    "yscale = 'linear'\n",
    "normalized = True\n",
    "\n",
    "if normalized:\n",
    "    ylabel = 'Probability density'\n",
    "else:\n",
    "    ylabel = 'Events'\n",
    "\n",
    "plt.hist(\n",
    "    df_MC_Failed[featureToPlot],\n",
    "    range=boundaries, bins=binNumber,\n",
    "    histtype='stepfilled',\n",
    "    fc=mcolors.to_rgba('lightblue', alpha=0.2),\n",
    "    edgecolor='royalblue',\n",
    "    label='Failed',\n",
    "    density=normalized\n",
    ")\n",
    "\n",
    "plt.hist(\n",
    "    df_MC_Reconstructed[featureToPlot],\n",
    "    range=boundaries, bins=binNumber,\n",
    "    histtype='stepfilled',\n",
    "    fc=mcolors.to_rgba('navajowhite', alpha=0.2),\n",
    "    edgecolor='tab:orange',\n",
    "    label='Success',\n",
    "    density=normalized\n",
    ")\n",
    "\n",
    "plt.xlabel(featureLabel)\n",
    "plt.ylabel(ylabel)\n",
    "plt.yscale(yscale)\n",
    "plt.grid()\n",
    "plt.title(featureTitle)\n",
    "plt.legend()\n",
    "plt.show()"
   ]
  },
  {
   "cell_type": "code",
   "execution_count": 77,
   "id": "a74bf716",
   "metadata": {},
   "outputs": [
    {
     "data": {
      "image/png": "[encoded data removed]",
      "text/plain": [
       "<Figure size 432x288 with 1 Axes>"
      ]
     },
     "metadata": {
      "needs_background": "light"
     },
     "output_type": "display_data"
    }
   ],
   "source": [
    "featureToPlot = 'pim_PP_POSMOMCOV_0_1'\n",
    "featureLabel = 'pim_PP_POSMOMCOV_0_1'\n",
    "featureTitle = 'pim_PP_POSMOMCOV_0_1'\n",
    "binNumber = 100\n",
    "boundaries = (-.01,.03)\n",
    "yscale = 'linear'\n",
    "normalized = True\n",
    "\n",
    "if normalized:\n",
    "    ylabel = 'Probability density'\n",
    "else:\n",
    "    ylabel = 'Events'\n",
    "\n",
    "plt.hist(\n",
    "    df_MC_Failed[featureToPlot],\n",
    "    range=boundaries, bins=binNumber,\n",
    "    histtype='stepfilled',\n",
    "    fc=mcolors.to_rgba('lightblue', alpha=0.2),\n",
    "    edgecolor='royalblue',\n",
    "    label='Failed',\n",
    "    density=normalized\n",
    ")\n",
    "\n",
    "plt.hist(\n",
    "    df_MC_Reconstructed[featureToPlot],\n",
    "    range=boundaries, bins=binNumber,\n",
    "    histtype='stepfilled',\n",
    "    fc=mcolors.to_rgba('navajowhite', alpha=0.2),\n",
    "    edgecolor='tab:orange',\n",
    "    label='Success',\n",
    "    density=normalized\n",
    ")\n",
    "\n",
    "plt.xlabel(featureLabel)\n",
    "plt.ylabel(ylabel)\n",
    "plt.yscale(yscale)\n",
    "plt.grid()\n",
    "plt.title(featureTitle)\n",
    "plt.legend()\n",
    "plt.show()"
   ]
  },
  {
   "cell_type": "code",
   "execution_count": 38,
   "id": "9f687959",
   "metadata": {},
   "outputs": [
    {
     "data": {
      "text/plain": [
       "0.0    2987\n",
       "Name: pim_PP_POSMOMCOV_0_2, dtype: int64"
      ]
     },
     "execution_count": 38,
     "metadata": {},
     "output_type": "execute_result"
    }
   ],
   "source": [
    "df_MC['pim_PP_POSMOMCOV_0_2'].value_counts()"
   ]
  },
  {
   "cell_type": "code",
   "execution_count": 39,
   "id": "39b24d85",
   "metadata": {},
   "outputs": [
    {
     "data": {
      "image/png": "[encoded data removed]",
      "text/plain": [
       "<Figure size 432x288 with 1 Axes>"
      ]
     },
     "metadata": {
      "needs_background": "light"
     },
     "output_type": "display_data"
    }
   ],
   "source": [
    "featureToPlot = 'pim_PP_POSMOMCOV_0_3'\n",
    "featureLabel = 'pim_PP_POSMOMCOV_0_3'\n",
    "featureTitle = 'pim_PP_POSMOMCOV_0_3'\n",
    "binNumber = 100\n",
    "boundaries = (-6,5)\n",
    "yscale = 'linear'\n",
    "normalized = True\n",
    "\n",
    "if normalized:\n",
    "    ylabel = 'Probability density'\n",
    "else:\n",
    "    ylabel = 'Events'\n",
    "\n",
    "plt.hist(\n",
    "    df_MC_Failed[featureToPlot],\n",
    "    range=boundaries, bins=binNumber,\n",
    "    histtype='stepfilled',\n",
    "    fc=mcolors.to_rgba('lightblue', alpha=0.2),\n",
    "    edgecolor='royalblue',\n",
    "    label='Failed',\n",
    "    density=normalized\n",
    ")\n",
    "\n",
    "plt.hist(\n",
    "    df_MC_Reconstructed[featureToPlot],\n",
    "    range=boundaries, bins=binNumber,\n",
    "    histtype='stepfilled',\n",
    "    fc=mcolors.to_rgba('navajowhite', alpha=0.2),\n",
    "    edgecolor='tab:orange',\n",
    "    label='Success',\n",
    "    density=normalized\n",
    ")\n",
    "\n",
    "plt.xlabel(featureLabel)\n",
    "plt.ylabel(ylabel)\n",
    "plt.yscale(yscale)\n",
    "plt.grid()\n",
    "plt.title(featureTitle)\n",
    "plt.legend()\n",
    "plt.show()"
   ]
  },
  {
   "cell_type": "code",
   "execution_count": 40,
   "id": "e02ca6dd",
   "metadata": {},
   "outputs": [
    {
     "data": {
      "image/png": "[encoded data removed]",
      "text/plain": [
       "<Figure size 432x288 with 1 Axes>"
      ]
     },
     "metadata": {
      "needs_background": "light"
     },
     "output_type": "display_data"
    }
   ],
   "source": [
    "featureToPlot = 'pim_PP_POSMOMCOV_0_4'\n",
    "featureLabel = 'pim_PP_POSMOMCOV_0_4'\n",
    "featureTitle = 'pim_PP_POSMOMCOV_0_4'\n",
    "binNumber = 100\n",
    "boundaries = (-2,2)\n",
    "yscale = 'linear'\n",
    "normalized = True\n",
    "\n",
    "if normalized:\n",
    "    ylabel = 'Probability density'\n",
    "else:\n",
    "    ylabel = 'Events'\n",
    "\n",
    "plt.hist(\n",
    "    df_MC_Failed[featureToPlot],\n",
    "    range=boundaries, bins=binNumber,\n",
    "    histtype='stepfilled',\n",
    "    fc=mcolors.to_rgba('lightblue', alpha=0.2),\n",
    "    edgecolor='royalblue',\n",
    "    label='Failed',\n",
    "    density=normalized\n",
    ")\n",
    "\n",
    "plt.hist(\n",
    "    df_MC_Reconstructed[featureToPlot],\n",
    "    range=boundaries, bins=binNumber,\n",
    "    histtype='stepfilled',\n",
    "    fc=mcolors.to_rgba('navajowhite', alpha=0.2),\n",
    "    edgecolor='tab:orange',\n",
    "    label='Success',\n",
    "    density=normalized\n",
    ")\n",
    "\n",
    "plt.xlabel(featureLabel)\n",
    "plt.ylabel(ylabel)\n",
    "plt.yscale(yscale)\n",
    "plt.grid()\n",
    "plt.title(featureTitle)\n",
    "plt.legend()\n",
    "plt.show()"
   ]
  },
  {
   "cell_type": "code",
   "execution_count": 41,
   "id": "8a3c049e",
   "metadata": {},
   "outputs": [
    {
     "data": {
      "image/png": "[encoded data removed]",
      "text/plain": [
       "<Figure size 432x288 with 1 Axes>"
      ]
     },
     "metadata": {
      "needs_background": "light"
     },
     "output_type": "display_data"
    }
   ],
   "source": [
    "featureToPlot = 'pim_PP_POSMOMCOV_0_5'\n",
    "featureLabel = 'pim_PP_POSMOMCOV_0_5'\n",
    "featureTitle = 'pim_PP_POSMOMCOV_0_5'\n",
    "binNumber = 100\n",
    "boundaries = (-200,200)\n",
    "yscale = 'linear'\n",
    "normalized = True\n",
    "\n",
    "if normalized:\n",
    "    ylabel = 'Probability density'\n",
    "else:\n",
    "    ylabel = 'Events'\n",
    "\n",
    "plt.hist(\n",
    "    df_MC_Failed[featureToPlot],\n",
    "    range=boundaries, bins=binNumber,\n",
    "    histtype='stepfilled',\n",
    "    fc=mcolors.to_rgba('lightblue', alpha=0.2),\n",
    "    edgecolor='royalblue',\n",
    "    label='Failed',\n",
    "    density=normalized\n",
    ")\n",
    "\n",
    "plt.hist(\n",
    "    df_MC_Reconstructed[featureToPlot],\n",
    "    range=boundaries, bins=binNumber,\n",
    "    histtype='stepfilled',\n",
    "    fc=mcolors.to_rgba('navajowhite', alpha=0.2),\n",
    "    edgecolor='tab:orange',\n",
    "    label='Success',\n",
    "    density=normalized\n",
    ")\n",
    "\n",
    "plt.xlabel(featureLabel)\n",
    "plt.ylabel(ylabel)\n",
    "plt.yscale(yscale)\n",
    "plt.grid()\n",
    "plt.title(featureTitle)\n",
    "plt.legend()\n",
    "plt.show()"
   ]
  },
  {
   "cell_type": "code",
   "execution_count": 42,
   "id": "b56efcac",
   "metadata": {},
   "outputs": [
    {
     "data": {
      "image/png": "[encoded data removed]",
      "text/plain": [
       "<Figure size 432x288 with 1 Axes>"
      ]
     },
     "metadata": {
      "needs_background": "light"
     },
     "output_type": "display_data"
    }
   ],
   "source": [
    "featureToPlot = 'pim_PP_POSMOMCOV_1_1'\n",
    "featureLabel = 'pim_PP_POSMOMCOV_1_1'\n",
    "featureTitle = 'pim_PP_POSMOMCOV_1_1'\n",
    "binNumber = 100\n",
    "boundaries = (0,3)\n",
    "yscale = 'linear'\n",
    "normalized = True\n",
    "\n",
    "if normalized:\n",
    "    ylabel = 'Probability density'\n",
    "else:\n",
    "    ylabel = 'Events'\n",
    "\n",
    "plt.hist(\n",
    "    df_MC_Failed[featureToPlot],\n",
    "    range=boundaries, bins=binNumber,\n",
    "    histtype='stepfilled',\n",
    "    fc=mcolors.to_rgba('lightblue', alpha=0.2),\n",
    "    edgecolor='royalblue',\n",
    "    label='Failed',\n",
    "    density=normalized\n",
    ")\n",
    "\n",
    "plt.hist(\n",
    "    df_MC_Reconstructed[featureToPlot],\n",
    "    range=boundaries, bins=binNumber,\n",
    "    histtype='stepfilled',\n",
    "    fc=mcolors.to_rgba('navajowhite', alpha=0.2),\n",
    "    edgecolor='tab:orange',\n",
    "    label='Success',\n",
    "    density=normalized\n",
    ")\n",
    "\n",
    "plt.xlabel(featureLabel)\n",
    "plt.ylabel(ylabel)\n",
    "plt.yscale(yscale)\n",
    "plt.grid()\n",
    "plt.title(featureTitle)\n",
    "plt.legend()\n",
    "plt.show()"
   ]
  },
  {
   "cell_type": "code",
   "execution_count": 43,
   "id": "72a1a4a1",
   "metadata": {},
   "outputs": [
    {
     "data": {
      "text/plain": [
       "0.0    2987\n",
       "Name: pim_PP_POSMOMCOV_1_2, dtype: int64"
      ]
     },
     "execution_count": 43,
     "metadata": {},
     "output_type": "execute_result"
    }
   ],
   "source": [
    "df_MC['pim_PP_POSMOMCOV_1_2'].value_counts()"
   ]
  },
  {
   "cell_type": "code",
   "execution_count": 44,
   "id": "f1658a5d",
   "metadata": {},
   "outputs": [
    {
     "data": {
      "image/png": "[encoded data removed]",
      "text/plain": [
       "<Figure size 432x288 with 1 Axes>"
      ]
     },
     "metadata": {
      "needs_background": "light"
     },
     "output_type": "display_data"
    }
   ],
   "source": [
    "featureToPlot = 'pim_PP_POSMOMCOV_1_3'\n",
    "featureLabel = 'pim_PP_POSMOMCOV_1_3'\n",
    "featureTitle = 'pim_PP_POSMOMCOV_1_3'\n",
    "binNumber = 100\n",
    "boundaries = (-5,5)\n",
    "yscale = 'linear'\n",
    "normalized = True\n",
    "\n",
    "if normalized:\n",
    "    ylabel = 'Probability density'\n",
    "else:\n",
    "    ylabel = 'Events'\n",
    "\n",
    "plt.hist(\n",
    "    df_MC_Failed[featureToPlot],\n",
    "    range=boundaries, bins=binNumber,\n",
    "    histtype='stepfilled',\n",
    "    fc=mcolors.to_rgba('lightblue', alpha=0.2),\n",
    "    edgecolor='royalblue',\n",
    "    label='Failed',\n",
    "    density=normalized\n",
    ")\n",
    "\n",
    "plt.hist(\n",
    "    df_MC_Reconstructed[featureToPlot],\n",
    "    range=boundaries, bins=binNumber,\n",
    "    histtype='stepfilled',\n",
    "    fc=mcolors.to_rgba('navajowhite', alpha=0.2),\n",
    "    edgecolor='tab:orange',\n",
    "    label='Success',\n",
    "    density=normalized\n",
    ")\n",
    "\n",
    "plt.xlabel(featureLabel)\n",
    "plt.ylabel(ylabel)\n",
    "plt.yscale(yscale)\n",
    "plt.grid()\n",
    "plt.title(featureTitle)\n",
    "plt.legend()\n",
    "plt.show()"
   ]
  },
  {
   "cell_type": "code",
   "execution_count": 45,
   "id": "0e50ee87",
   "metadata": {},
   "outputs": [
    {
     "data": {
      "image/png": "[encoded data removed]",
      "text/plain": [
       "<Figure size 432x288 with 1 Axes>"
      ]
     },
     "metadata": {
      "needs_background": "light"
     },
     "output_type": "display_data"
    }
   ],
   "source": [
    "featureToPlot = 'pim_PP_POSMOMCOV_1_4'\n",
    "featureLabel = 'pim_PP_POSMOMCOV_1_4'\n",
    "featureTitle = 'pim_PP_POSMOMCOV_1_4'\n",
    "binNumber = 100\n",
    "boundaries = (-30,5)\n",
    "yscale = 'linear'\n",
    "normalized = True\n",
    "\n",
    "if normalized:\n",
    "    ylabel = 'Probability density'\n",
    "else:\n",
    "    ylabel = 'Events'\n",
    "\n",
    "plt.hist(\n",
    "    df_MC_Failed[featureToPlot],\n",
    "    range=boundaries, bins=binNumber,\n",
    "    histtype='stepfilled',\n",
    "    fc=mcolors.to_rgba('lightblue', alpha=0.2),\n",
    "    edgecolor='royalblue',\n",
    "    label='Failed',\n",
    "    density=normalized\n",
    ")\n",
    "\n",
    "plt.hist(\n",
    "    df_MC_Reconstructed[featureToPlot],\n",
    "    range=boundaries, bins=binNumber,\n",
    "    histtype='stepfilled',\n",
    "    fc=mcolors.to_rgba('navajowhite', alpha=0.2),\n",
    "    edgecolor='tab:orange',\n",
    "    label='Success',\n",
    "    density=normalized\n",
    ")\n",
    "\n",
    "plt.xlabel(featureLabel)\n",
    "plt.ylabel(ylabel)\n",
    "plt.yscale(yscale)\n",
    "plt.grid()\n",
    "plt.title(featureTitle)\n",
    "plt.legend(loc=2)\n",
    "plt.show()"
   ]
  },
  {
   "cell_type": "code",
   "execution_count": 46,
   "id": "f24ea20a",
   "metadata": {},
   "outputs": [
    {
     "data": {
      "image/png": "[encoded data removed]",
      "text/plain": [
       "<Figure size 432x288 with 1 Axes>"
      ]
     },
     "metadata": {
      "needs_background": "light"
     },
     "output_type": "display_data"
    }
   ],
   "source": [
    "featureToPlot = 'pim_PP_POSMOMCOV_1_5'\n",
    "featureLabel = 'pim_PP_POSMOMCOV_1_5'\n",
    "featureTitle = 'pim_PP_POSMOMCOV_1_5'\n",
    "binNumber = 100\n",
    "boundaries = (-200,200)\n",
    "yscale = 'linear'\n",
    "normalized = True\n",
    "\n",
    "if normalized:\n",
    "    ylabel = 'Probability density'\n",
    "else:\n",
    "    ylabel = 'Events'\n",
    "\n",
    "plt.hist(\n",
    "    df_MC_Failed[featureToPlot],\n",
    "    range=boundaries, bins=binNumber,\n",
    "    histtype='stepfilled',\n",
    "    fc=mcolors.to_rgba('lightblue', alpha=0.2),\n",
    "    edgecolor='royalblue',\n",
    "    label='Failed',\n",
    "    density=normalized\n",
    ")\n",
    "\n",
    "plt.hist(\n",
    "    df_MC_Reconstructed[featureToPlot],\n",
    "    range=boundaries, bins=binNumber,\n",
    "    histtype='stepfilled',\n",
    "    fc=mcolors.to_rgba('navajowhite', alpha=0.2),\n",
    "    edgecolor='tab:orange',\n",
    "    label='Success',\n",
    "    density=normalized\n",
    ")\n",
    "\n",
    "plt.xlabel(featureLabel)\n",
    "plt.ylabel(ylabel)\n",
    "plt.yscale(yscale)\n",
    "plt.grid()\n",
    "plt.title(featureTitle)\n",
    "plt.legend()\n",
    "plt.show()"
   ]
  },
  {
   "cell_type": "code",
   "execution_count": 47,
   "id": "b95d449a",
   "metadata": {},
   "outputs": [
    {
     "data": {
      "text/plain": [
       "0.0    2987\n",
       "Name: pim_PP_POSMOMCOV_2_2, dtype: int64"
      ]
     },
     "execution_count": 47,
     "metadata": {},
     "output_type": "execute_result"
    }
   ],
   "source": [
    "df_MC['pim_PP_POSMOMCOV_2_2'].value_counts()"
   ]
  },
  {
   "cell_type": "code",
   "execution_count": 48,
   "id": "6dc58e17",
   "metadata": {},
   "outputs": [
    {
     "data": {
      "text/plain": [
       "0.0    2987\n",
       "Name: pim_PP_POSMOMCOV_2_3, dtype: int64"
      ]
     },
     "execution_count": 48,
     "metadata": {},
     "output_type": "execute_result"
    }
   ],
   "source": [
    "df_MC['pim_PP_POSMOMCOV_2_3'].value_counts()"
   ]
  },
  {
   "cell_type": "code",
   "execution_count": 49,
   "id": "6a38b3be",
   "metadata": {},
   "outputs": [
    {
     "data": {
      "text/plain": [
       "0.0    2987\n",
       "Name: pim_PP_POSMOMCOV_2_4, dtype: int64"
      ]
     },
     "execution_count": 49,
     "metadata": {},
     "output_type": "execute_result"
    }
   ],
   "source": [
    "df_MC['pim_PP_POSMOMCOV_2_4'].value_counts()"
   ]
  },
  {
   "cell_type": "code",
   "execution_count": 50,
   "id": "3b511091",
   "metadata": {
    "scrolled": true
   },
   "outputs": [
    {
     "data": {
      "text/plain": [
       "0.0    2987\n",
       "Name: pim_PP_POSMOMCOV_2_5, dtype: int64"
      ]
     },
     "execution_count": 50,
     "metadata": {},
     "output_type": "execute_result"
    }
   ],
   "source": [
    "df_MC['pim_PP_POSMOMCOV_2_5'].value_counts()"
   ]
  },
  {
   "cell_type": "code",
   "execution_count": 51,
   "id": "159b0d38",
   "metadata": {},
   "outputs": [
    {
     "data": {
      "image/png": "[encoded data removed]",
      "text/plain": [
       "<Figure size 432x288 with 1 Axes>"
      ]
     },
     "metadata": {
      "needs_background": "light"
     },
     "output_type": "display_data"
    }
   ],
   "source": [
    "featureToPlot = 'pim_PP_POSMOMCOV_3_3'\n",
    "featureLabel = 'pim_PP_POSMOMCOV_3_3'\n",
    "featureTitle = 'pim_PP_POSMOMCOV_3_3'\n",
    "binNumber = 100\n",
    "boundaries = (0,500)\n",
    "yscale = 'linear'\n",
    "normalized = True\n",
    "\n",
    "if normalized:\n",
    "    ylabel = 'Probability density'\n",
    "else:\n",
    "    ylabel = 'Events'\n",
    "\n",
    "plt.hist(\n",
    "    df_MC_Failed[featureToPlot],\n",
    "    range=boundaries, bins=binNumber,\n",
    "    histtype='stepfilled',\n",
    "    fc=mcolors.to_rgba('lightblue', alpha=0.2),\n",
    "    edgecolor='royalblue',\n",
    "    label='Failed',\n",
    "    density=normalized\n",
    ")\n",
    "\n",
    "plt.hist(\n",
    "    df_MC_Reconstructed[featureToPlot],\n",
    "    range=boundaries, bins=binNumber,\n",
    "    histtype='stepfilled',\n",
    "    fc=mcolors.to_rgba('navajowhite', alpha=0.2),\n",
    "    edgecolor='tab:orange',\n",
    "    label='Success',\n",
    "    density=normalized\n",
    ")\n",
    "\n",
    "plt.xlabel(featureLabel)\n",
    "plt.ylabel(ylabel)\n",
    "plt.yscale(yscale)\n",
    "plt.grid()\n",
    "plt.title(featureTitle)\n",
    "plt.legend()\n",
    "plt.show()"
   ]
  },
  {
   "cell_type": "code",
   "execution_count": 52,
   "id": "4fa86179",
   "metadata": {},
   "outputs": [
    {
     "data": {
      "image/png": "[encoded data removed]",
      "text/plain": [
       "<Figure size 432x288 with 1 Axes>"
      ]
     },
     "metadata": {
      "needs_background": "light"
     },
     "output_type": "display_data"
    }
   ],
   "source": [
    "featureToPlot = 'pim_PP_POSMOMCOV_3_4'\n",
    "featureLabel = 'pim_PP_POSMOMCOV_3_4'\n",
    "featureTitle = 'pim_PP_POSMOMCOV_3_4'\n",
    "binNumber = 100\n",
    "boundaries = (-1000,1000)\n",
    "yscale = 'linear'\n",
    "normalized = True\n",
    "\n",
    "if normalized:\n",
    "    ylabel = 'Probability density'\n",
    "else:\n",
    "    ylabel = 'Events'\n",
    "\n",
    "plt.hist(\n",
    "    df_MC_Failed[featureToPlot],\n",
    "    range=boundaries, bins=binNumber,\n",
    "    histtype='stepfilled',\n",
    "    fc=mcolors.to_rgba('lightblue', alpha=0.2),\n",
    "    edgecolor='royalblue',\n",
    "    label='Failed',\n",
    "    density=normalized\n",
    ")\n",
    "\n",
    "plt.hist(\n",
    "    df_MC_Reconstructed[featureToPlot],\n",
    "    range=boundaries, bins=binNumber,\n",
    "    histtype='stepfilled',\n",
    "    fc=mcolors.to_rgba('navajowhite', alpha=0.2),\n",
    "    edgecolor='tab:orange',\n",
    "    label='Success',\n",
    "    density=normalized\n",
    ")\n",
    "\n",
    "plt.xlabel(featureLabel)\n",
    "plt.ylabel(ylabel)\n",
    "plt.yscale(yscale)\n",
    "plt.grid()\n",
    "plt.title(featureTitle)\n",
    "plt.legend()\n",
    "plt.show()"
   ]
  },
  {
   "cell_type": "code",
   "execution_count": 53,
   "id": "f617d7a6",
   "metadata": {},
   "outputs": [
    {
     "data": {
      "image/png": "[encoded data removed]",
      "text/plain": [
       "<Figure size 432x288 with 1 Axes>"
      ]
     },
     "metadata": {
      "needs_background": "light"
     },
     "output_type": "display_data"
    }
   ],
   "source": [
    "featureToPlot = 'pim_PP_POSMOMCOV_3_5'\n",
    "featureLabel = 'pim_PP_POSMOMCOV_3_5'\n",
    "featureTitle = 'pim_PP_POSMOMCOV_3_5'\n",
    "binNumber = 100\n",
    "boundaries = (-40000,40000)\n",
    "yscale = 'linear'\n",
    "normalized = True\n",
    "\n",
    "if normalized:\n",
    "    ylabel = 'Probability density'\n",
    "else:\n",
    "    ylabel = 'Events'\n",
    "\n",
    "plt.hist(\n",
    "    df_MC_Failed[featureToPlot],\n",
    "    range=boundaries, bins=binNumber,\n",
    "    histtype='stepfilled',\n",
    "    fc=mcolors.to_rgba('lightblue', alpha=0.2),\n",
    "    edgecolor='royalblue',\n",
    "    label='Failed',\n",
    "    density=normalized\n",
    ")\n",
    "\n",
    "plt.hist(\n",
    "    df_MC_Reconstructed[featureToPlot],\n",
    "    range=boundaries, bins=binNumber,\n",
    "    histtype='stepfilled',\n",
    "    fc=mcolors.to_rgba('navajowhite', alpha=0.2),\n",
    "    edgecolor='tab:orange',\n",
    "    label='Success',\n",
    "    density=normalized\n",
    ")\n",
    "\n",
    "plt.xlabel(featureLabel)\n",
    "plt.ylabel(ylabel)\n",
    "plt.yscale(yscale)\n",
    "plt.grid()\n",
    "plt.title(featureTitle)\n",
    "plt.legend()\n",
    "plt.show()"
   ]
  },
  {
   "cell_type": "code",
   "execution_count": 59,
   "id": "f5021898",
   "metadata": {},
   "outputs": [
    {
     "data": {
      "image/png": "[encoded data removed]",
      "text/plain": [
       "<Figure size 432x288 with 1 Axes>"
      ]
     },
     "metadata": {
      "needs_background": "light"
     },
     "output_type": "display_data"
    }
   ],
   "source": [
    "featureToPlot = 'pim_PP_POSMOMCOV_4_4'\n",
    "featureLabel = 'pim_PP_POSMOMCOV_4_4'\n",
    "featureTitle = 'pim_PP_POSMOMCOV_4_4'\n",
    "binNumber = 100\n",
    "boundaries = (0,2000)\n",
    "yscale = 'linear'\n",
    "normalized = True\n",
    "\n",
    "if normalized:\n",
    "    ylabel = 'Probability density'\n",
    "else:\n",
    "    ylabel = 'Events'\n",
    "\n",
    "plt.hist(\n",
    "    df_MC_Failed[featureToPlot],\n",
    "    range=boundaries, bins=binNumber,\n",
    "    histtype='stepfilled',\n",
    "    fc=mcolors.to_rgba('lightblue', alpha=0.2),\n",
    "    edgecolor='royalblue',\n",
    "    label='Failed',\n",
    "    density=normalized\n",
    ")\n",
    "\n",
    "plt.hist(\n",
    "    df_MC_Reconstructed[featureToPlot],\n",
    "    range=boundaries, bins=binNumber,\n",
    "    histtype='stepfilled',\n",
    "    fc=mcolors.to_rgba('navajowhite', alpha=0.2),\n",
    "    edgecolor='tab:orange',\n",
    "    label='Success',\n",
    "    density=normalized\n",
    ")\n",
    "\n",
    "plt.xlabel(featureLabel)\n",
    "plt.ylabel(ylabel)\n",
    "plt.yscale(yscale)\n",
    "plt.grid()\n",
    "plt.title(featureTitle)\n",
    "plt.legend()\n",
    "plt.show()"
   ]
  },
  {
   "cell_type": "code",
   "execution_count": 60,
   "id": "79574e96",
   "metadata": {},
   "outputs": [
    {
     "data": {
      "image/png": "[encoded data removed]",
      "text/plain": [
       "<Figure size 432x288 with 1 Axes>"
      ]
     },
     "metadata": {
      "needs_background": "light"
     },
     "output_type": "display_data"
    }
   ],
   "source": [
    "featureToPlot = 'pim_PP_POSMOMCOV_4_5'\n",
    "featureLabel = 'pim_PP_POSMOMCOV_4_5'\n",
    "featureTitle = 'pim_PP_POSMOMCOV_4_5'\n",
    "binNumber = 100\n",
    "boundaries = (-40000,40000)\n",
    "yscale = 'linear'\n",
    "normalized = True\n",
    "\n",
    "if normalized:\n",
    "    ylabel = 'Probability density'\n",
    "else:\n",
    "    ylabel = 'Events'\n",
    "\n",
    "plt.hist(\n",
    "    df_MC_Failed[featureToPlot],\n",
    "    range=boundaries, bins=binNumber,\n",
    "    histtype='stepfilled',\n",
    "    fc=mcolors.to_rgba('lightblue', alpha=0.2),\n",
    "    edgecolor='royalblue',\n",
    "    label='Failed',\n",
    "    density=normalized\n",
    ")\n",
    "\n",
    "plt.hist(\n",
    "    df_MC_Reconstructed[featureToPlot],\n",
    "    range=boundaries, bins=binNumber,\n",
    "    histtype='stepfilled',\n",
    "    fc=mcolors.to_rgba('navajowhite', alpha=0.2),\n",
    "    edgecolor='tab:orange',\n",
    "    label='Success',\n",
    "    density=normalized\n",
    ")\n",
    "\n",
    "plt.xlabel(featureLabel)\n",
    "plt.ylabel(ylabel)\n",
    "plt.yscale(yscale)\n",
    "plt.grid()\n",
    "plt.title(featureTitle)\n",
    "plt.legend()\n",
    "plt.show()"
   ]
  },
  {
   "cell_type": "code",
   "execution_count": 64,
   "id": "643fc95c",
   "metadata": {},
   "outputs": [
    {
     "data": {
      "image/png": "[encoded data removed]",
      "text/plain": [
       "<Figure size 432x288 with 1 Axes>"
      ]
     },
     "metadata": {
      "needs_background": "light"
     },
     "output_type": "display_data"
    }
   ],
   "source": [
    "featureToPlot = 'pim_PP_POSMOMCOV_5_5'\n",
    "featureLabel = 'pim_PP_POSMOMCOV_5_5'\n",
    "featureTitle = 'pim_PP_POSMOMCOV_5_5'\n",
    "binNumber = 100\n",
    "boundaries = (0,800000)\n",
    "yscale = 'linear'\n",
    "normalized = True\n",
    "\n",
    "if normalized:\n",
    "    ylabel = 'Probability density'\n",
    "else:\n",
    "    ylabel = 'Events'\n",
    "\n",
    "plt.hist(\n",
    "    df_MC_Failed[featureToPlot],\n",
    "    range=boundaries, bins=binNumber,\n",
    "    histtype='stepfilled',\n",
    "    fc=mcolors.to_rgba('lightblue', alpha=0.2),\n",
    "    edgecolor='royalblue',\n",
    "    label='Failed',\n",
    "    density=normalized\n",
    ")\n",
    "\n",
    "plt.hist(\n",
    "    df_MC_Reconstructed[featureToPlot],\n",
    "    range=boundaries, bins=binNumber,\n",
    "    histtype='stepfilled',\n",
    "    fc=mcolors.to_rgba('navajowhite', alpha=0.2),\n",
    "    edgecolor='tab:orange',\n",
    "    label='Success',\n",
    "    density=normalized\n",
    ")\n",
    "\n",
    "plt.xlabel(featureLabel)\n",
    "plt.ylabel(ylabel)\n",
    "plt.yscale(yscale)\n",
    "plt.grid()\n",
    "plt.title(featureTitle)\n",
    "plt.legend()\n",
    "plt.show()"
   ]
  },
  {
   "cell_type": "code",
   "execution_count": null,
   "id": "de95c4af",
   "metadata": {},
   "outputs": [],
   "source": []
  }
 ],
 "metadata": {
  "kernelspec": {
   "display_name": "Python 3",
   "language": "python",
   "name": "python3"
  },
  "language_info": {
   "codemirror_mode": {
    "name": "ipython",
    "version": 3
   },
   "file_extension": ".py",
   "mimetype": "text/x-python",
   "name": "python",
   "nbconvert_exporter": "python",
   "pygments_lexer": "ipython3",
   "version": "3.6.8"
  }
 },
 "nbformat": 4,
 "nbformat_minor": 5
}
