{
 "cells": [
  {
   "cell_type": "code",
   "execution_count": 1,
   "id": "7e91361a",
   "metadata": {},
   "outputs": [],
   "source": [
    "import pandas as pd\n",
    "import numpy as np\n",
    "from matplotlib import pyplot as plt\n",
    "from matplotlib import colors as mcolors\n",
    "import pathlib\n",
    "#from mpl_toolkits import mplot3d"
   ]
  },
  {
   "cell_type": "code",
   "execution_count": 2,
   "id": "90e3b2b2",
   "metadata": {},
   "outputs": [],
   "source": [
    "save_plots = False"
   ]
  },
  {
   "cell_type": "code",
   "execution_count": 3,
   "id": "d84a5f5c",
   "metadata": {},
   "outputs": [],
   "source": [
    "## Create plots directory, if missing\n",
    "plotsDirectory = (str(pathlib.Path.home())\n",
    "                  + '/vertex-reconstruction-studies/'\n",
    "                  + 'plots/'\n",
    "                  + 'studies_on_davinci_parsed_logs/'\n",
    "                  + 'event_topological_exploration/'\n",
    ")\n",
    "pathlib.Path(plotsDirectory).mkdir(parents=True, exist_ok=True)"
   ]
  },
  {
   "cell_type": "markdown",
   "id": "595e7999",
   "metadata": {},
   "source": [
    "# Import MC data"
   ]
  },
  {
   "cell_type": "code",
   "execution_count": 4,
   "id": "c2fb4c64",
   "metadata": {},
   "outputs": [],
   "source": [
    "inputFile = '~/data/parsedDaVinciLog.h5'\n",
    "df_events = pd.read_hdf(inputFile, key='LHCbMC_Lb')"
   ]
  },
  {
   "cell_type": "markdown",
   "id": "95c47fa0",
   "metadata": {},
   "source": [
    "# Helper functions"
   ]
  },
  {
   "cell_type": "code",
   "execution_count": 5,
   "id": "3f771f55",
   "metadata": {},
   "outputs": [],
   "source": [
    "## Rows and columns begin at 0\n",
    "def Feature2DComponent(series, row, column):\n",
    "    return series.map(lambda x: x[row][column])\n",
    "\n",
    "def Feature1DComponent(series, component):\n",
    "    return series.map(lambda x: x[component])"
   ]
  },
  {
   "cell_type": "code",
   "execution_count": null,
   "id": "bb05be49",
   "metadata": {},
   "outputs": [],
   "source": [
    "#%matplotlib notebook\n",
    "%matplotlib inline"
   ]
  },
  {
   "cell_type": "code",
   "execution_count": 6,
   "id": "559d270f",
   "metadata": {},
   "outputs": [],
   "source": [
    "plot3DConfig = {\n",
    "    'xlabel': '$x$ [mm]',\n",
    "    'ylabel': '$y$ [mm]',\n",
    "    'zlabel': '$z$ [mm]',\n",
    "}"
   ]
  },
  {
   "cell_type": "markdown",
   "id": "9aabc253",
   "metadata": {},
   "source": [
    "# Study topology of events"
   ]
  },
  {
   "cell_type": "markdown",
   "id": "a395703a",
   "metadata": {},
   "source": [
    "Converged events:"
   ]
  },
  {
   "cell_type": "code",
   "execution_count": null,
   "id": "9b358032",
   "metadata": {
    "scrolled": true
   },
   "outputs": [],
   "source": [
    "df_events.loc[df_events['status'] == 'Converged'].index"
   ]
  },
  {
   "cell_type": "markdown",
   "id": "e6fc337d",
   "metadata": {},
   "source": [
    "Failed events:"
   ]
  },
  {
   "cell_type": "code",
   "execution_count": null,
   "id": "b3613bc9",
   "metadata": {},
   "outputs": [],
   "source": [
    "df_events.loc[df_events['status'] == 'NonConverged'].index"
   ]
  },
  {
   "cell_type": "code",
   "execution_count": 11,
   "id": "5044392c",
   "metadata": {},
   "outputs": [
    {
     "data": {
      "text/plain": [
       "seed_vtx                                          (-99.2225, -25.447, 771.43)\n",
       "seed_chi2                                                                   0\n",
       "seed_ci                     [[0.175677, -0.000194527, -0.00453592], [-0.00...\n",
       "p_refPoint                                        (137.33, -160.569, 7754.79)\n",
       "p_momentum                                       (1512.73, -870.845, 44658.2)\n",
       "p_energy                                                              44702.2\n",
       "p_posMomCovMatrix           [[0.00060516, 0.000172751, 0.0, -1.90223, 1.04...\n",
       "pim_refPoint                                    (-827.364, -187.449, 7853.69)\n",
       "pim_momentum                                      (-445.8, -73.8778, 4336.37)\n",
       "pim_energy                                                            4362.08\n",
       "pim_posMomCovMatrix         [[0.00964324, 0.00735905, 0.0, -0.971861, -0.1...\n",
       "numberOfIterations                                                         10\n",
       "iter_p_refPoint             [(11.8566, -24.2962, 771.43), (177.171, -182.8...\n",
       "iter_p_momentum             [(357.392, -871.908, 44682.4), (1583.55, -870....\n",
       "iter_p_energy               [44702.2, 44702.2, 44702.2, 44702.2, 44702.2, ...\n",
       "iter_p_posMomCovMatrix      [[[228.471, 1.74472, 0.0, -3024.82, 1687.93, -...\n",
       "iter_pim_refPoint           [(-1252.04, -65.9135, 771.43), (-943.359, -205...\n",
       "iter_pim_momentum           [(703.945, -74.3401, 4302.0), (-505.954, -73.8...\n",
       "iter_pim_energy             [4362.08, 4362.08, 4362.08, 4362.08, 4362.08, ...\n",
       "iter_pim_posMomCovMatrix    [[[1698.02, -19.1105, 0.0, -667.288, -84.6819,...\n",
       "iter_currentVertices        [(76.8744, -183.679, 8899.78), (-83.6796, -45....\n",
       "iter_previousVertices       [(-99.2225, -25.447, 771.43), (76.8744, -183.6...\n",
       "iter_covMatrices            [[[0.00498878, -0.000622429, -0.000144148], [-...\n",
       "iter_chi2s                  [2.77764, 2399.72, 980.471, 5.09426, 2068.84, ...\n",
       "iter_deltaVertices          [(176.097, -158.232, 8128.35), (-160.554, 138....\n",
       "iter_deltaDistances         [8131.79, 7358.98, 258.997, 7213.23, 7424.84, ...\n",
       "iter_deltaChi2s             [842.233, 302214000.0, 38.0115, 1089.79, 37356...\n",
       "status                                                           NonConverged\n",
       "Name: 21, dtype: object"
      ]
     },
     "execution_count": 11,
     "metadata": {},
     "output_type": "execute_result"
    }
   ],
   "source": [
    "evtIndex = 21\n",
    "iterToShow = [0,1,2, 3, 4,5]\n",
    "arrowLength = 250\n",
    "showParticles = True\n",
    "#evtIndex = df_events.loc[df_events['status'] == 'NonConverged'].index[0]\n",
    "event = df_events.iloc[evtIndex]\n",
    "event"
   ]
  },
  {
   "cell_type": "code",
   "execution_count": null,
   "id": "f1fed0b8",
   "metadata": {
    "scrolled": false
   },
   "outputs": [],
   "source": [
    "fig = plt.figure()\n",
    "ax = plt.axes(projection='3d',\n",
    "              **plot3DConfig)\n",
    "\n",
    "if 0 in iterToShow:\n",
    "    ax.scatter(*event['seed_vtx'], label='Seed vertex', color='tab:blue')\n",
    "    \n",
    "    if showParticles:\n",
    "        ax.scatter(*event['p_refPoint'], label='Proton f.m.', color='navy')\n",
    "        ax.quiver(*event['p_refPoint'], *event['p_momentum'], normalize=True,length=arrowLength, color='navy')\n",
    "        ax.scatter(*event['pim_refPoint'], label='Pion f.m.', color='dodgerblue')\n",
    "        ax.quiver(*event['pim_refPoint'], *event['pim_momentum'], normalize=True,length=arrowLength, color='dodgerblue')\n",
    "\n",
    "\n",
    "iteration = 1\n",
    "if iteration in iterToShow:\n",
    "    ax.scatter(*event['iter_currentVertices'][iteration-1],\n",
    "               label='It. ' + str(iteration), color='tab:orange')\n",
    "    \n",
    "    if showParticles:\n",
    "        ax.scatter(*event['iter_p_refPoint'][iteration-1], color='darkorange')\n",
    "        ax.quiver(*event['iter_p_refPoint'][iteration-1], *event['iter_p_momentum'][iteration-1],\n",
    "                  normalize=True, length=arrowLength, color='darkorange')\n",
    "        ax.scatter(*event['iter_pim_refPoint'][iteration-1], color='sandybrown')\n",
    "        ax.quiver(*event['iter_pim_refPoint'][iteration-1], *event['iter_pim_momentum'][iteration-1],\n",
    "                  normalize=True, length=arrowLength, color='sandybrown')\n",
    "\n",
    "iteration = 2\n",
    "if iteration in iterToShow:\n",
    "    ax.scatter(*event['iter_currentVertices'][iteration-1],\n",
    "               label='It. ' + str(iteration), color='tab:green')\n",
    "    \n",
    "    if showParticles:\n",
    "        ax.scatter(*event['iter_p_refPoint'][iteration-1], color='darkgreen')\n",
    "        ax.quiver(*event['iter_p_refPoint'][iteration-1], *event['iter_p_momentum'][iteration-1],\n",
    "                  normalize=True, length=arrowLength, color='darkgreen')\n",
    "        ax.scatter(*event['iter_pim_refPoint'][iteration-1], color='springgreen')\n",
    "        ax.quiver(*event['iter_pim_refPoint'][iteration-1], *event['iter_pim_momentum'][iteration-1],\n",
    "                  normalize=True, length=arrowLength, color='springgreen')\n",
    "\n",
    "iteration = 3\n",
    "if iteration in iterToShow:\n",
    "    ax.scatter(*event['iter_currentVertices'][iteration-1],\n",
    "               label='It. ' + str(iteration), color='tab:red')\n",
    "    \n",
    "    if showParticles:\n",
    "        ax.scatter(*event['iter_p_refPoint'][iteration-1], color='tab:red')\n",
    "        ax.quiver(*event['iter_p_refPoint'][iteration-1], *event['iter_p_momentum'][iteration-1],\n",
    "                  normalize=True, length=arrowLength, color='tab:red')\n",
    "        ax.scatter(*event['iter_pim_refPoint'][iteration-1], color='tab:red')\n",
    "        ax.quiver(*event['iter_pim_refPoint'][iteration-1], *event['iter_pim_momentum'][iteration-1],\n",
    "                  normalize=True, length=arrowLength, color='tab:red')\n",
    "\n",
    "iteration = 4\n",
    "if iteration in iterToShow:\n",
    "    ax.scatter(*event['iter_currentVertices'][iteration-1],\n",
    "               label='It. ' + str(iteration), color='tab:purple')\n",
    "    \n",
    "    if showParticles:\n",
    "        ax.scatter(*event['iter_p_refPoint'][iteration-1], color='tab:purple')\n",
    "        ax.quiver(*event['iter_p_refPoint'][iteration-1], *event['iter_p_momentum'][iteration-1],\n",
    "                  normalize=True, length=arrowLength, color='tab:purple')\n",
    "        ax.scatter(*event['iter_pim_refPoint'][iteration-1], color='tab:purple')\n",
    "        ax.quiver(*event['iter_pim_refPoint'][iteration-1], *event['iter_pim_momentum'][iteration-1],\n",
    "                  normalize=True, length=arrowLength, color='tab:purple')\n",
    "    \n",
    "iteration = 5\n",
    "if iteration in iterToShow:\n",
    "    ax.scatter(*event['iter_currentVertices'][iteration-1],\n",
    "               label='It. ' + str(iteration), color='tab:brown')\n",
    "    \n",
    "    if showParticles:\n",
    "        ax.scatter(*event['iter_p_refPoint'][iteration-1], color='tab:brown')\n",
    "        ax.quiver(*event['iter_p_refPoint'][iteration-1], *event['iter_p_momentum'][iteration-1],\n",
    "                  normalize=True, length=arrowLength, color='tab:brown')\n",
    "        ax.scatter(*event['iter_pim_refPoint'][iteration-1], color='tab:brown')\n",
    "        ax.quiver(*event['iter_pim_refPoint'][iteration-1], *event['iter_pim_momentum'][iteration-1],\n",
    "                  normalize=True, length=arrowLength, color='tab:brown')\n",
    "\n",
    "\n",
    "#plt.legend()\n",
    "plt.title(\"Topologies: event \" + str(evtIndex) + \" (\" + event['status'].lower() + \")\")\n",
    "plt.show()"
   ]
  },
  {
   "cell_type": "code",
   "execution_count": 7,
   "id": "188f9ace",
   "metadata": {},
   "outputs": [],
   "source": [
    "iterToColor = {\n",
    "    1: 'tab:orange',\n",
    "    2: 'tab:green',\n",
    "    3: 'tab:red',\n",
    "    4: 'tab:purple',\n",
    "    5: 'tab:brown'\n",
    "}"
   ]
  },
  {
   "cell_type": "code",
   "execution_count": 8,
   "id": "1e6d46a8",
   "metadata": {},
   "outputs": [],
   "source": [
    "coordinateToComponent = {\n",
    "    'x': 0,\n",
    "    'y': 1,\n",
    "    'z': 2\n",
    "}"
   ]
  },
  {
   "cell_type": "code",
   "execution_count": 14,
   "id": "004a670f",
   "metadata": {},
   "outputs": [],
   "source": [
    "def PlotEventPlane(evtIndex, xAxis, yAxis, iterationsToPlot):\n",
    "    #fig = plt.figure()\n",
    "    plt.axes(xlabel=xAxis + \" [mm]\", ylabel=yAxis + \" [mm]\")\n",
    "    xComponent = coordinateToComponent[xAxis]\n",
    "    yComponent = coordinateToComponent[yAxis]\n",
    "    \n",
    "    for iteration in iterationsToPlot:\n",
    "        if iteration == 0:\n",
    "            plt.scatter(event['seed_vtx'][xComponent], event['seed_vtx'][yComponent], label='Seed vertex', color='tab:blue')\n",
    "\n",
    "            if showParticles:\n",
    "                plt.scatter(event['p_refPoint'][xComponent], event['p_refPoint'][yComponent], label='Proton f.m.', color='navy')\n",
    "                plt.quiver(event['p_refPoint'][xComponent], event['p_refPoint'][yComponent],\n",
    "                          event['p_momentum'][xComponent], event['p_momentum'][yComponent], color='navy')\n",
    "                plt.scatter(event['pim_refPoint'][xComponent], event['pim_refPoint'][yComponent], label='Pion f.m.', color='dodgerblue')\n",
    "                plt.quiver(event['pim_refPoint'][xComponent], event['pim_refPoint'][yComponent],\n",
    "                          event['pim_momentum'][xComponent], event['pim_momentum'][yComponent], color='dodgerblue')     \n",
    "        else:\n",
    "            color = iterToColor[iteration]\n",
    "\n",
    "            plt.scatter(event['iter_currentVertices'][iteration-1][xComponent],\n",
    "                       event['iter_currentVertices'][iteration-1][yComponent],\n",
    "                       label='It. ' + str(iteration), color=color)\n",
    "\n",
    "            if showParticles:\n",
    "                plt.scatter(event['iter_p_refPoint'][iteration-1][xComponent],\n",
    "                           event['iter_p_refPoint'][iteration-1][yComponent],\n",
    "                           color=color)\n",
    "                plt.quiver(event['iter_p_refPoint'][iteration-1][xComponent],\n",
    "                          event['iter_p_refPoint'][iteration-1][yComponent],\n",
    "                          event['iter_p_momentum'][iteration-1][xComponent],\n",
    "                          event['iter_p_momentum'][iteration-1][yComponent],\n",
    "                          color=color)\n",
    "                plt.scatter(event['iter_pim_refPoint'][iteration-1][xComponent],\n",
    "                           event['iter_pim_refPoint'][iteration-1][yComponent],\n",
    "                           color=color)\n",
    "                plt.quiver(event['iter_pim_refPoint'][iteration-1][xComponent],\n",
    "                          event['iter_pim_refPoint'][iteration-1][yComponent],\n",
    "                          event['iter_pim_momentum'][iteration-1][xComponent],\n",
    "                          event['iter_pim_momentum'][iteration-1][yComponent],\n",
    "                          color=color)\n",
    "    \n",
    "    plt.grid()\n",
    "    plt.title(\"Topologies XY: event \" + str(evtIndex) + \" (\" + event['status'].lower() + \")\")\n",
    "    plt.show()"
   ]
  },
  {
   "cell_type": "code",
   "execution_count": 15,
   "id": "2a823f94",
   "metadata": {},
   "outputs": [
    {
     "data": {
      "image/png": "[encoded data removed]",
      "text/plain": [
       "<Figure size 432x288 with 1 Axes>"
      ]
     },
     "metadata": {
      "needs_background": "light"
     },
     "output_type": "display_data"
    },
    {
     "data": {
      "image/png": "[encoded data removed]",
      "text/plain": [
       "<Figure size 432x288 with 1 Axes>"
      ]
     },
     "metadata": {
      "needs_background": "light"
     },
     "output_type": "display_data"
    },
    {
     "data": {
      "image/png": "[encoded data removed]",
      "text/plain": [
       "<Figure size 432x288 with 1 Axes>"
      ]
     },
     "metadata": {
      "needs_background": "light"
     },
     "output_type": "display_data"
    }
   ],
   "source": [
    "PlotEventPlane(5,'x','y',iterToShow)\n",
    "PlotEventPlane(5,'x','z',iterToShow)\n",
    "PlotEventPlane(5,'y','z',iterToShow)"
   ]
  },
  {
   "cell_type": "code",
   "execution_count": null,
   "id": "aa99f16b",
   "metadata": {},
   "outputs": [],
   "source": [
    "event['p_refPoint'][0;1]"
   ]
  },
  {
   "cell_type": "code",
   "execution_count": null,
   "id": "030c1fe7",
   "metadata": {},
   "outputs": [],
   "source": [
    "## X-Y plane\n",
    "fig = plt.figure()\n",
    "ax = plt.axes(xlabel='x',ylabel='y')\n",
    "\n",
    "for iteration in iterToShow:\n",
    "    if iteration == 0:\n",
    "        ax.scatter(*event['seed_vtx'][:2], label='Seed vertex', color='tab:blue')\n",
    "\n",
    "        if showParticles:\n",
    "            ax.scatter(*event['p_refPoint'][:2], label='Proton f.m.', color='navy')\n",
    "            ax.quiver(*event['p_refPoint'][:2], *event['p_momentum'][:2], color='navy')\n",
    "            ax.scatter(*event['pim_refPoint'][:2], label='Pion f.m.', color='dodgerblue')\n",
    "            ax.quiver(*event['pim_refPoint'][:2], *event['pim_momentum'][:2], color='dodgerblue')       \n",
    "    else:\n",
    "        color = iterToColor[iteration]\n",
    "        \n",
    "        ax.scatter(*event['iter_currentVertices'][iteration-1][:2],\n",
    "                   label='It. ' + str(iteration), color=color)\n",
    "\n",
    "        if showParticles:\n",
    "            ax.scatter(*event['iter_p_refPoint'][iteration-1][:2], color=color)\n",
    "            ax.quiver(*event['iter_p_refPoint'][iteration-1][:2], *event['iter_p_momentum'][iteration-1][:2],\n",
    "                      color=color)\n",
    "            ax.scatter(*event['iter_pim_refPoint'][iteration-1][:2], color=color)\n",
    "            ax.quiver(*event['iter_pim_refPoint'][iteration-1][:2], *event['iter_pim_momentum'][iteration-1][:2],\n",
    "                      color=color)        \n",
    "\n",
    "#plt.legend()\n",
    "plt.grid()\n",
    "plt.title(\"Topologies XY: event \" + str(evtIndex) + \" (\" + event['status'].lower() + \")\")\n",
    "plt.show()\n",
    "\n",
    "plt.show()"
   ]
  },
  {
   "cell_type": "code",
   "execution_count": null,
   "id": "5a03cc60",
   "metadata": {},
   "outputs": [],
   "source": [
    "event['iter_p_refPoint'][1][:2]"
   ]
  },
  {
   "cell_type": "code",
   "execution_count": null,
   "id": "17231d86",
   "metadata": {},
   "outputs": [],
   "source": [
    "event['iter_p_refPoint'][1]"
   ]
  },
  {
   "cell_type": "code",
   "execution_count": null,
   "id": "633074ee",
   "metadata": {},
   "outputs": [],
   "source": []
  }
 ],
 "metadata": {
  "kernelspec": {
   "display_name": "Python 3",
   "language": "python",
   "name": "python3"
  },
  "language_info": {
   "codemirror_mode": {
    "name": "ipython",
    "version": 3
   },
   "file_extension": ".py",
   "mimetype": "text/x-python",
   "name": "python",
   "nbconvert_exporter": "python",
   "pygments_lexer": "ipython3",
   "version": "3.6.8"
  }
 },
 "nbformat": 4,
 "nbformat_minor": 5
}
