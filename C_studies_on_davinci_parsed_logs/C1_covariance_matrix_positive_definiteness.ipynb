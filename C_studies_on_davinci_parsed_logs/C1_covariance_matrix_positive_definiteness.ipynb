{
 "cells": [
  {
   "cell_type": "markdown",
   "id": "91c96492",
   "metadata": {},
   "source": [
    "This analyzes the **output of the data parser**, i.e. the MC DST(s) read directly from the log."
   ]
  },
  {
   "cell_type": "code",
   "execution_count": 1,
   "id": "eb5e0131",
   "metadata": {},
   "outputs": [],
   "source": [
    "import pandas as pd\n",
    "import numpy as np\n",
    "from numpy import linalg\n",
    "from matplotlib import pyplot as plt"
   ]
  },
  {
   "cell_type": "markdown",
   "id": "5d8bddc1",
   "metadata": {},
   "source": [
    "# Import MC data"
   ]
  },
  {
   "cell_type": "code",
   "execution_count": 2,
   "id": "e88cfe69",
   "metadata": {},
   "outputs": [],
   "source": [
    "inputFile = '~/data/parsedDaVinciLog.h5'\n",
    "df_events = pd.read_hdf(inputFile, key='LHCbMC_Lb')"
   ]
  },
  {
   "cell_type": "code",
   "execution_count": 3,
   "id": "efc3c201",
   "metadata": {},
   "outputs": [
    {
     "data": {
      "text/html": [
       "<div>\n",
       "<style scoped>\n",
       "    .dataframe tbody tr th:only-of-type {\n",
       "        vertical-align: middle;\n",
       "    }\n",
       "\n",
       "    .dataframe tbody tr th {\n",
       "        vertical-align: top;\n",
       "    }\n",
       "\n",
       "    .dataframe thead th {\n",
       "        text-align: right;\n",
       "    }\n",
       "</style>\n",
       "<table border=\"1\" class=\"dataframe\">\n",
       "  <thead>\n",
       "    <tr style=\"text-align: right;\">\n",
       "      <th></th>\n",
       "      <th>seed_vtx</th>\n",
       "      <th>seed_chi2</th>\n",
       "      <th>seed_ci</th>\n",
       "      <th>p_refPoint</th>\n",
       "      <th>p_momentum</th>\n",
       "      <th>p_energy</th>\n",
       "      <th>p_posMomCovMatrix</th>\n",
       "      <th>pim_refPoint</th>\n",
       "      <th>pim_momentum</th>\n",
       "      <th>pim_energy</th>\n",
       "      <th>pim_posMomCovMatrix</th>\n",
       "      <th>numberOfIterations</th>\n",
       "      <th>iter_currentVertices</th>\n",
       "      <th>iter_previousVertices</th>\n",
       "      <th>iter_covMatrices</th>\n",
       "      <th>iter_chi2s</th>\n",
       "      <th>iter_deltaVertices</th>\n",
       "      <th>iter_deltaDistances</th>\n",
       "      <th>iter_deltaChi2s</th>\n",
       "      <th>status</th>\n",
       "    </tr>\n",
       "  </thead>\n",
       "  <tbody>\n",
       "    <tr>\n",
       "      <th>0</th>\n",
       "      <td>(490.165, -81.5147, 6890.6)</td>\n",
       "      <td>0.0</td>\n",
       "      <td>[[0.260762, -9.68128e-06, -0.0160285], [-9.681...</td>\n",
       "      <td>(549.518, -95.402, 7668.29)</td>\n",
       "      <td>(3430.55, -685.364, 44948.5)</td>\n",
       "      <td>45094.20</td>\n",
       "      <td>[[0.00076176, 0.000206827, 0.0, 0.106078, -0.0...</td>\n",
       "      <td>(526.787, -81.7488, 7672.29)</td>\n",
       "      <td>(417.328, -23.5438, 8909.14)</td>\n",
       "      <td>8920.03</td>\n",
       "      <td>[[0.00076176, 0.000206827, 0.0, 0.106078, -0.0...</td>\n",
       "      <td>5</td>\n",
       "      <td>[(466.514, -78.6802, 6560.05), (460.757, -78.0...</td>\n",
       "      <td>[(490.165, -81.5147, 6890.6), (466.514, -78.68...</td>\n",
       "      <td>[[[23.5075, -0.296555, -1.49193], [-0.296555, ...</td>\n",
       "      <td>[0.110586, 2.17313, 1.94896, 2.08533, 2.03551]</td>\n",
       "      <td>[(-23.6508, 2.83455, -330.554), (-5.75665, 0.5...</td>\n",
       "      <td>[331.411, 74.4456, 24.6899, 10.4051, 4.14922]</td>\n",
       "      <td>[316.37, 4.79309, 0.0829486, 0.0147622, 0.0022...</td>\n",
       "      <td>Converged</td>\n",
       "    </tr>\n",
       "    <tr>\n",
       "      <th>1</th>\n",
       "      <td>(320.552, 280.206, 5993.5)</td>\n",
       "      <td>0.0</td>\n",
       "      <td>[[0.0253826, -0.000505677, -0.003847], [-0.000...</td>\n",
       "      <td>(276.44, 521.059, 7868.09)</td>\n",
       "      <td>(-166.324, 603.669, 6593.58)</td>\n",
       "      <td>6689.38</td>\n",
       "      <td>[[0.00665856, 0.00591632, 0.0, -1.56774, -0.02...</td>\n",
       "      <td>(835.182, 222.187, 7862.48)</td>\n",
       "      <td>(785.515, 25.1585, 2851.02)</td>\n",
       "      <td>2960.65</td>\n",
       "      <td>[[0.00665856, 0.00591632, 0.0, -1.56774, -0.02...</td>\n",
       "      <td>4</td>\n",
       "      <td>[(241.136, 219.025, 4797.19), (206.688, 193.67...</td>\n",
       "      <td>[(320.552, 280.206, 5993.5), (241.136, 219.025...</td>\n",
       "      <td>[[[0.0964084, -0.0171089, -0.00361121], [-0.01...</td>\n",
       "      <td>[87.8083, 12.5417, 9.06983, 10.2028]</td>\n",
       "      <td>[(-79.4158, -61.181, -1196.31), (-34.4484, -25...</td>\n",
       "      <td>[1200.51, 504.362, 92.031, 5.36262]</td>\n",
       "      <td>[823.108, 23.4586, 0.611948, 0.00275324]</td>\n",
       "      <td>Converged</td>\n",
       "    </tr>\n",
       "    <tr>\n",
       "      <th>2</th>\n",
       "      <td>(25.4024, 11.0184, 5397.19)</td>\n",
       "      <td>0.0</td>\n",
       "      <td>[[0.148349, -0.000474292, -0.00380217], [-0.00...</td>\n",
       "      <td>(128.307, 10.7263, 7668.29)</td>\n",
       "      <td>(1137.56, 20.0555, 25103.6)</td>\n",
       "      <td>25146.90</td>\n",
       "      <td>[[0.00908209, -0.0472968, 0.0, -4.04085, 0.489...</td>\n",
       "      <td>(-481.751, 105.728, 7862.59)</td>\n",
       "      <td>(-1097.57, 69.3867, 5342.46)</td>\n",
       "      <td>5456.27</td>\n",
       "      <td>[[0.00908209, -0.0472968, 0.0, -4.04085, 0.489...</td>\n",
       "      <td>6</td>\n",
       "      <td>[(21.3817, 9.95645, 4581.33), (17.8489, 9.4688...</td>\n",
       "      <td>[(25.4024, 11.0184, 5397.19), (21.3817, 9.9564...</td>\n",
       "      <td>[[[0.310462, -0.0141491, -0.00679856], [-0.014...</td>\n",
       "      <td>[49.9206, 27.0553, 17.6368, 3.4029, 0.0240505,...</td>\n",
       "      <td>[(-4.02071, -1.06197, -815.865), (-3.5328, -0....</td>\n",
       "      <td>[815.876, 494.278, 752.499, 2550.88, 502.771, ...</td>\n",
       "      <td>[199.006, 6.10129, 2.90123, 7.32744, 0.281375,...</td>\n",
       "      <td>Converged</td>\n",
       "    </tr>\n",
       "    <tr>\n",
       "      <th>3</th>\n",
       "      <td>(-21.0909, 12.8729, 5197.18)</td>\n",
       "      <td>0.0</td>\n",
       "      <td>[[0.261674, -0.000859306, -0.00935076], [-0.00...</td>\n",
       "      <td>(-129.611, 12.2261, 7672.24)</td>\n",
       "      <td>(-1331.74, 50.4607, 30379.4)</td>\n",
       "      <td>30423.10</td>\n",
       "      <td>[[0.00080089, 0.000277745, 0.0, -0.466422, -0....</td>\n",
       "      <td>(282.432, 24.766, 7668.29)</td>\n",
       "      <td>(957.014, 22.8388, 7791.67)</td>\n",
       "      <td>7851.50</td>\n",
       "      <td>[[0.00080089, 0.000277745, 0.0, -0.466422, -0....</td>\n",
       "      <td>6</td>\n",
       "      <td>[(-10.4738, 9.89561, 4133.44), (0.344467, 7.46...</td>\n",
       "      <td>[(-21.0909, 12.8729, 5197.18), (-10.4738, 9.89...</td>\n",
       "      <td>[[[0.263286, -0.0189893, 0.00373331], [-0.0189...</td>\n",
       "      <td>[14.6889, 5.86996, 3.36358, 1.70314, 2.54495, ...</td>\n",
       "      <td>[(10.6171, -2.97729, -1063.74), (10.8182, -2.4...</td>\n",
       "      <td>[1063.8, 1078.56, 1996.53, 1029.53, 232.534, 2...</td>\n",
       "      <td>[265.583, 7.19944, 0.836226, 0.258878, 0.01797...</td>\n",
       "      <td>Converged</td>\n",
       "    </tr>\n",
       "    <tr>\n",
       "      <th>4</th>\n",
       "      <td>(92.6954, -131.965, 6239.05)</td>\n",
       "      <td>0.0</td>\n",
       "      <td>[[0.252123, -0.00077747, -0.000134384], [-0.00...</td>\n",
       "      <td>(132.141, -159.991, 7754.79)</td>\n",
       "      <td>(1043.11, -815.329, 40094.5)</td>\n",
       "      <td>40127.30</td>\n",
       "      <td>[[0.000784, 0.000272533, 0.0, -0.278961, -0.25...</td>\n",
       "      <td>(55.7184, -173.357, 7750.79)</td>\n",
       "      <td>(-398.533, -417.676, 16294.7)</td>\n",
       "      <td>16305.50</td>\n",
       "      <td>[[0.000784, 0.000272533, 0.0, -0.278961, -0.25...</td>\n",
       "      <td>4</td>\n",
       "      <td>[(87.1915, -120.788, 5756.18), (85.4411, -117....</td>\n",
       "      <td>[(92.6954, -131.965, 6239.05), (87.1915, -120....</td>\n",
       "      <td>[[[3.99382, -0.112449, -0.0398208], [-0.112449...</td>\n",
       "      <td>[3.99005, 1.5046, 1.19377, 1.14857]</td>\n",
       "      <td>[(-5.50388, 11.177, -482.874), (-1.75048, 3.56...</td>\n",
       "      <td>[483.034, 154.944, 36.8421, 7.35844]</td>\n",
       "      <td>[186.837, 2.66068, 0.0743883, 0.00248775]</td>\n",
       "      <td>Converged</td>\n",
       "    </tr>\n",
       "    <tr>\n",
       "      <th>...</th>\n",
       "      <td>...</td>\n",
       "      <td>...</td>\n",
       "      <td>...</td>\n",
       "      <td>...</td>\n",
       "      <td>...</td>\n",
       "      <td>...</td>\n",
       "      <td>...</td>\n",
       "      <td>...</td>\n",
       "      <td>...</td>\n",
       "      <td>...</td>\n",
       "      <td>...</td>\n",
       "      <td>...</td>\n",
       "      <td>...</td>\n",
       "      <td>...</td>\n",
       "      <td>...</td>\n",
       "      <td>...</td>\n",
       "      <td>...</td>\n",
       "      <td>...</td>\n",
       "      <td>...</td>\n",
       "      <td>...</td>\n",
       "    </tr>\n",
       "    <tr>\n",
       "      <th>10431</th>\n",
       "      <td>(-869.552, -85.4424, 10409.1)</td>\n",
       "      <td>0.0</td>\n",
       "      <td>[[0.122858, -0.000871916, 0.0172491], [-0.0008...</td>\n",
       "      <td>(-783.797, -42.3525, 7853.69)</td>\n",
       "      <td>(-347.049, -69.6395, 10360.5)</td>\n",
       "      <td>10408.90</td>\n",
       "      <td>[[0.000961, 0.00151887, 0.0, -1.2709, -0.02359...</td>\n",
       "      <td>(-436.343, -76.9904, 7672.24)</td>\n",
       "      <td>(-1109.36, -38.3318, 7007.87)</td>\n",
       "      <td>7096.61</td>\n",
       "      <td>[[0.000961, 0.00151887, 0.0, -1.2709, -0.02359...</td>\n",
       "      <td>3</td>\n",
       "      <td>[(-847.033, -65.421, 10120.3), (-846.99, -64.9...</td>\n",
       "      <td>[(-869.552, -85.4424, 10409.1), (-847.033, -65...</td>\n",
       "      <td>[[[8.28967, -0.0261719, 0.553699], [-0.0261719...</td>\n",
       "      <td>[74.2682, 96.1596, 96.3151]</td>\n",
       "      <td>[(22.5189, 20.0214, -288.802), (0.0423759, 0.4...</td>\n",
       "      <td>[290.37, 1.75959, 0.00762202]</td>\n",
       "      <td>[3606.63, 0.421589, 1.34646e-05]</td>\n",
       "      <td>Converged</td>\n",
       "    </tr>\n",
       "    <tr>\n",
       "      <th>10432</th>\n",
       "      <td>(-6.33693, 47.8751, 4840.09)</td>\n",
       "      <td>0.0</td>\n",
       "      <td>[[0.213575, 0.00248458, -0.00607877], [0.00248...</td>\n",
       "      <td>(-230.828, 117.343, 7751.84)</td>\n",
       "      <td>(-1287.91, 274.412, 16700.1)</td>\n",
       "      <td>16778.20</td>\n",
       "      <td>[[0.00159201, -0.0155357, 0.0, -0.888802, 0.13...</td>\n",
       "      <td>(484.395, 2.332, 7672.29)</td>\n",
       "      <td>(1285.45, 31.9525, 7445.99)</td>\n",
       "      <td>7557.49</td>\n",
       "      <td>[[0.00159201, -0.0155357, 0.0, -0.888802, 0.13...</td>\n",
       "      <td>5</td>\n",
       "      <td>[(-2.98968, 28.5927, 3453.31), (-6.53087, -4.1...</td>\n",
       "      <td>[(-6.33693, 47.8751, 4840.09), (-2.98968, 28.5...</td>\n",
       "      <td>[[[0.0412808, 0.00956795, -0.000385316], [0.00...</td>\n",
       "      <td>[188.658, 39.9437, 3.45855, 1.60207, 1.53739]</td>\n",
       "      <td>[(3.34724, -19.2824, -1386.78), (-3.54119, -32...</td>\n",
       "      <td>[1386.91, 2580.25, 1981.56, 132.435, 4.65559]</td>\n",
       "      <td>[301.349, 50.7064, 6.47518, 0.0175542, 2.12254...</td>\n",
       "      <td>Converged</td>\n",
       "    </tr>\n",
       "    <tr>\n",
       "      <th>10433</th>\n",
       "      <td>(-2.77537, -19.2735, 4848.62)</td>\n",
       "      <td>0.0</td>\n",
       "      <td>[[0.213945, 0.00222587, -0.0108378], [0.002225...</td>\n",
       "      <td>(-111.448, -38.3212, 7672.24)</td>\n",
       "      <td>(-1101.28, -160.999, 28618.0)</td>\n",
       "      <td>28655.00</td>\n",
       "      <td>[[0.00159201, -0.0155357, 0.0, -0.888802, 0.13...</td>\n",
       "      <td>(484.395, 2.332, 7672.29)</td>\n",
       "      <td>(1285.45, 31.9525, 7445.99)</td>\n",
       "      <td>7557.49</td>\n",
       "      <td>[[0.00159201, -0.0155357, 0.0, -0.888802, 0.13...</td>\n",
       "      <td>4</td>\n",
       "      <td>[(-8.5721, -15.4629, 3625.76), (-12.8632, -13....</td>\n",
       "      <td>[(-2.77537, -19.2735, 4848.62), (-8.5721, -15....</td>\n",
       "      <td>[[[0.148786, -0.00985489, 0.000870163], [-0.00...</td>\n",
       "      <td>[0.455797, 1.09364, 0.956296, 1.04055]</td>\n",
       "      <td>[(-5.79673, 3.81059, -1222.86), (-4.2911, 2.40...</td>\n",
       "      <td>[1222.88, 575.041, 111.157, 35.1279]</td>\n",
       "      <td>[246.57, 3.22212, 0.0494256, 0.00493449]</td>\n",
       "      <td>Converged</td>\n",
       "    </tr>\n",
       "    <tr>\n",
       "      <th>10434</th>\n",
       "      <td>(161.568, -80.815, 5788.54)</td>\n",
       "      <td>0.0</td>\n",
       "      <td>[[0.104436, 0.00260099, -0.015545], [0.0026009...</td>\n",
       "      <td>(151.481, -291.649, 7858.86)</td>\n",
       "      <td>(-119.887, -1066.72, 29982.5)</td>\n",
       "      <td>30016.30</td>\n",
       "      <td>[[0.00159201, -0.0155357, 0.0, -0.888802, 0.13...</td>\n",
       "      <td>(484.395, 2.332, 7672.29)</td>\n",
       "      <td>(1285.45, 31.9525, 7445.99)</td>\n",
       "      <td>7557.49</td>\n",
       "      <td>[[0.00159201, -0.0155357, 0.0, -0.888802, 0.13...</td>\n",
       "      <td>4</td>\n",
       "      <td>[(111.327, -97.996, 4735.77), (-17.9353, -58.4...</td>\n",
       "      <td>[(161.568, -80.815, 5788.54), (111.327, -97.99...</td>\n",
       "      <td>[[[0.165085, -0.0188863, -0.0121858], [-0.0188...</td>\n",
       "      <td>[2194.61, 466.424, 1.2325, 0.481157]</td>\n",
       "      <td>[(-50.2405, -17.1811, -1052.77), (-129.263, 39...</td>\n",
       "      <td>[1054.1, 2724.01, 1604.04, 8.49156]</td>\n",
       "      <td>[1019.87, 530.185, 49.2371, 0.00174364]</td>\n",
       "      <td>Converged</td>\n",
       "    </tr>\n",
       "    <tr>\n",
       "      <th>10435</th>\n",
       "      <td>(689.097, -108.652, 1102.05)</td>\n",
       "      <td>0.0</td>\n",
       "      <td>[[0.022292, -0.000317487, 0.00548155], [-0.000...</td>\n",
       "      <td>(-1818.29, -1211.3, 7853.69)</td>\n",
       "      <td>(-3053.02, -1244.97, 8221.3)</td>\n",
       "      <td>8907.36</td>\n",
       "      <td>[[0.00978121, 0.027774, 0.0, -3.98129, -1.26, ...</td>\n",
       "      <td>(-118.288, -332.279, 7853.36)</td>\n",
       "      <td>(-833.04, -244.019, 6963.32)</td>\n",
       "      <td>7018.61</td>\n",
       "      <td>[[0.00978121, 0.027774, 0.0, -3.98129, -1.26, ...</td>\n",
       "      <td>3</td>\n",
       "      <td>[(210.972, -100.613, 900.632), (209.877, -98.4...</td>\n",
       "      <td>[(689.097, -108.652, 1102.05), (210.972, -100....</td>\n",
       "      <td>[[[0.000254081, -8.59738e-05, -3.31063e-06], [...</td>\n",
       "      <td>[80.7083, 74.6691, 73.3663]</td>\n",
       "      <td>[(-478.125, 8.03926, -201.415), (-1.09526, 2.1...</td>\n",
       "      <td>[518.879, 51.7522, 10.9686]</td>\n",
       "      <td>[59.9031, 0.106144, 0.00494273]</td>\n",
       "      <td>Converged</td>\n",
       "    </tr>\n",
       "  </tbody>\n",
       "</table>\n",
       "<p>10436 rows × 20 columns</p>\n",
       "</div>"
      ],
      "text/plain": [
       "                            seed_vtx  seed_chi2  \\\n",
       "0        (490.165, -81.5147, 6890.6)        0.0   \n",
       "1         (320.552, 280.206, 5993.5)        0.0   \n",
       "2        (25.4024, 11.0184, 5397.19)        0.0   \n",
       "3       (-21.0909, 12.8729, 5197.18)        0.0   \n",
       "4       (92.6954, -131.965, 6239.05)        0.0   \n",
       "...                              ...        ...   \n",
       "10431  (-869.552, -85.4424, 10409.1)        0.0   \n",
       "10432   (-6.33693, 47.8751, 4840.09)        0.0   \n",
       "10433  (-2.77537, -19.2735, 4848.62)        0.0   \n",
       "10434    (161.568, -80.815, 5788.54)        0.0   \n",
       "10435   (689.097, -108.652, 1102.05)        0.0   \n",
       "\n",
       "                                                 seed_ci  \\\n",
       "0      [[0.260762, -9.68128e-06, -0.0160285], [-9.681...   \n",
       "1      [[0.0253826, -0.000505677, -0.003847], [-0.000...   \n",
       "2      [[0.148349, -0.000474292, -0.00380217], [-0.00...   \n",
       "3      [[0.261674, -0.000859306, -0.00935076], [-0.00...   \n",
       "4      [[0.252123, -0.00077747, -0.000134384], [-0.00...   \n",
       "...                                                  ...   \n",
       "10431  [[0.122858, -0.000871916, 0.0172491], [-0.0008...   \n",
       "10432  [[0.213575, 0.00248458, -0.00607877], [0.00248...   \n",
       "10433  [[0.213945, 0.00222587, -0.0108378], [0.002225...   \n",
       "10434  [[0.104436, 0.00260099, -0.015545], [0.0026009...   \n",
       "10435  [[0.022292, -0.000317487, 0.00548155], [-0.000...   \n",
       "\n",
       "                          p_refPoint                     p_momentum  p_energy  \\\n",
       "0        (549.518, -95.402, 7668.29)   (3430.55, -685.364, 44948.5)  45094.20   \n",
       "1         (276.44, 521.059, 7868.09)   (-166.324, 603.669, 6593.58)   6689.38   \n",
       "2        (128.307, 10.7263, 7668.29)    (1137.56, 20.0555, 25103.6)  25146.90   \n",
       "3       (-129.611, 12.2261, 7672.24)   (-1331.74, 50.4607, 30379.4)  30423.10   \n",
       "4       (132.141, -159.991, 7754.79)   (1043.11, -815.329, 40094.5)  40127.30   \n",
       "...                              ...                            ...       ...   \n",
       "10431  (-783.797, -42.3525, 7853.69)  (-347.049, -69.6395, 10360.5)  10408.90   \n",
       "10432   (-230.828, 117.343, 7751.84)   (-1287.91, 274.412, 16700.1)  16778.20   \n",
       "10433  (-111.448, -38.3212, 7672.24)  (-1101.28, -160.999, 28618.0)  28655.00   \n",
       "10434   (151.481, -291.649, 7858.86)  (-119.887, -1066.72, 29982.5)  30016.30   \n",
       "10435   (-1818.29, -1211.3, 7853.69)   (-3053.02, -1244.97, 8221.3)   8907.36   \n",
       "\n",
       "                                       p_posMomCovMatrix  \\\n",
       "0      [[0.00076176, 0.000206827, 0.0, 0.106078, -0.0...   \n",
       "1      [[0.00665856, 0.00591632, 0.0, -1.56774, -0.02...   \n",
       "2      [[0.00908209, -0.0472968, 0.0, -4.04085, 0.489...   \n",
       "3      [[0.00080089, 0.000277745, 0.0, -0.466422, -0....   \n",
       "4      [[0.000784, 0.000272533, 0.0, -0.278961, -0.25...   \n",
       "...                                                  ...   \n",
       "10431  [[0.000961, 0.00151887, 0.0, -1.2709, -0.02359...   \n",
       "10432  [[0.00159201, -0.0155357, 0.0, -0.888802, 0.13...   \n",
       "10433  [[0.00159201, -0.0155357, 0.0, -0.888802, 0.13...   \n",
       "10434  [[0.00159201, -0.0155357, 0.0, -0.888802, 0.13...   \n",
       "10435  [[0.00978121, 0.027774, 0.0, -3.98129, -1.26, ...   \n",
       "\n",
       "                        pim_refPoint                   pim_momentum  \\\n",
       "0       (526.787, -81.7488, 7672.29)   (417.328, -23.5438, 8909.14)   \n",
       "1        (835.182, 222.187, 7862.48)    (785.515, 25.1585, 2851.02)   \n",
       "2       (-481.751, 105.728, 7862.59)   (-1097.57, 69.3867, 5342.46)   \n",
       "3         (282.432, 24.766, 7668.29)    (957.014, 22.8388, 7791.67)   \n",
       "4       (55.7184, -173.357, 7750.79)  (-398.533, -417.676, 16294.7)   \n",
       "...                              ...                            ...   \n",
       "10431  (-436.343, -76.9904, 7672.24)  (-1109.36, -38.3318, 7007.87)   \n",
       "10432      (484.395, 2.332, 7672.29)    (1285.45, 31.9525, 7445.99)   \n",
       "10433      (484.395, 2.332, 7672.29)    (1285.45, 31.9525, 7445.99)   \n",
       "10434      (484.395, 2.332, 7672.29)    (1285.45, 31.9525, 7445.99)   \n",
       "10435  (-118.288, -332.279, 7853.36)   (-833.04, -244.019, 6963.32)   \n",
       "\n",
       "       pim_energy                                pim_posMomCovMatrix  \\\n",
       "0         8920.03  [[0.00076176, 0.000206827, 0.0, 0.106078, -0.0...   \n",
       "1         2960.65  [[0.00665856, 0.00591632, 0.0, -1.56774, -0.02...   \n",
       "2         5456.27  [[0.00908209, -0.0472968, 0.0, -4.04085, 0.489...   \n",
       "3         7851.50  [[0.00080089, 0.000277745, 0.0, -0.466422, -0....   \n",
       "4        16305.50  [[0.000784, 0.000272533, 0.0, -0.278961, -0.25...   \n",
       "...           ...                                                ...   \n",
       "10431     7096.61  [[0.000961, 0.00151887, 0.0, -1.2709, -0.02359...   \n",
       "10432     7557.49  [[0.00159201, -0.0155357, 0.0, -0.888802, 0.13...   \n",
       "10433     7557.49  [[0.00159201, -0.0155357, 0.0, -0.888802, 0.13...   \n",
       "10434     7557.49  [[0.00159201, -0.0155357, 0.0, -0.888802, 0.13...   \n",
       "10435     7018.61  [[0.00978121, 0.027774, 0.0, -3.98129, -1.26, ...   \n",
       "\n",
       "       numberOfIterations                               iter_currentVertices  \\\n",
       "0                       5  [(466.514, -78.6802, 6560.05), (460.757, -78.0...   \n",
       "1                       4  [(241.136, 219.025, 4797.19), (206.688, 193.67...   \n",
       "2                       6  [(21.3817, 9.95645, 4581.33), (17.8489, 9.4688...   \n",
       "3                       6  [(-10.4738, 9.89561, 4133.44), (0.344467, 7.46...   \n",
       "4                       4  [(87.1915, -120.788, 5756.18), (85.4411, -117....   \n",
       "...                   ...                                                ...   \n",
       "10431                   3  [(-847.033, -65.421, 10120.3), (-846.99, -64.9...   \n",
       "10432                   5  [(-2.98968, 28.5927, 3453.31), (-6.53087, -4.1...   \n",
       "10433                   4  [(-8.5721, -15.4629, 3625.76), (-12.8632, -13....   \n",
       "10434                   4  [(111.327, -97.996, 4735.77), (-17.9353, -58.4...   \n",
       "10435                   3  [(210.972, -100.613, 900.632), (209.877, -98.4...   \n",
       "\n",
       "                                   iter_previousVertices  \\\n",
       "0      [(490.165, -81.5147, 6890.6), (466.514, -78.68...   \n",
       "1      [(320.552, 280.206, 5993.5), (241.136, 219.025...   \n",
       "2      [(25.4024, 11.0184, 5397.19), (21.3817, 9.9564...   \n",
       "3      [(-21.0909, 12.8729, 5197.18), (-10.4738, 9.89...   \n",
       "4      [(92.6954, -131.965, 6239.05), (87.1915, -120....   \n",
       "...                                                  ...   \n",
       "10431  [(-869.552, -85.4424, 10409.1), (-847.033, -65...   \n",
       "10432  [(-6.33693, 47.8751, 4840.09), (-2.98968, 28.5...   \n",
       "10433  [(-2.77537, -19.2735, 4848.62), (-8.5721, -15....   \n",
       "10434  [(161.568, -80.815, 5788.54), (111.327, -97.99...   \n",
       "10435  [(689.097, -108.652, 1102.05), (210.972, -100....   \n",
       "\n",
       "                                        iter_covMatrices  \\\n",
       "0      [[[23.5075, -0.296555, -1.49193], [-0.296555, ...   \n",
       "1      [[[0.0964084, -0.0171089, -0.00361121], [-0.01...   \n",
       "2      [[[0.310462, -0.0141491, -0.00679856], [-0.014...   \n",
       "3      [[[0.263286, -0.0189893, 0.00373331], [-0.0189...   \n",
       "4      [[[3.99382, -0.112449, -0.0398208], [-0.112449...   \n",
       "...                                                  ...   \n",
       "10431  [[[8.28967, -0.0261719, 0.553699], [-0.0261719...   \n",
       "10432  [[[0.0412808, 0.00956795, -0.000385316], [0.00...   \n",
       "10433  [[[0.148786, -0.00985489, 0.000870163], [-0.00...   \n",
       "10434  [[[0.165085, -0.0188863, -0.0121858], [-0.0188...   \n",
       "10435  [[[0.000254081, -8.59738e-05, -3.31063e-06], [...   \n",
       "\n",
       "                                              iter_chi2s  \\\n",
       "0         [0.110586, 2.17313, 1.94896, 2.08533, 2.03551]   \n",
       "1                   [87.8083, 12.5417, 9.06983, 10.2028]   \n",
       "2      [49.9206, 27.0553, 17.6368, 3.4029, 0.0240505,...   \n",
       "3      [14.6889, 5.86996, 3.36358, 1.70314, 2.54495, ...   \n",
       "4                    [3.99005, 1.5046, 1.19377, 1.14857]   \n",
       "...                                                  ...   \n",
       "10431                        [74.2682, 96.1596, 96.3151]   \n",
       "10432      [188.658, 39.9437, 3.45855, 1.60207, 1.53739]   \n",
       "10433             [0.455797, 1.09364, 0.956296, 1.04055]   \n",
       "10434               [2194.61, 466.424, 1.2325, 0.481157]   \n",
       "10435                        [80.7083, 74.6691, 73.3663]   \n",
       "\n",
       "                                      iter_deltaVertices  \\\n",
       "0      [(-23.6508, 2.83455, -330.554), (-5.75665, 0.5...   \n",
       "1      [(-79.4158, -61.181, -1196.31), (-34.4484, -25...   \n",
       "2      [(-4.02071, -1.06197, -815.865), (-3.5328, -0....   \n",
       "3      [(10.6171, -2.97729, -1063.74), (10.8182, -2.4...   \n",
       "4      [(-5.50388, 11.177, -482.874), (-1.75048, 3.56...   \n",
       "...                                                  ...   \n",
       "10431  [(22.5189, 20.0214, -288.802), (0.0423759, 0.4...   \n",
       "10432  [(3.34724, -19.2824, -1386.78), (-3.54119, -32...   \n",
       "10433  [(-5.79673, 3.81059, -1222.86), (-4.2911, 2.40...   \n",
       "10434  [(-50.2405, -17.1811, -1052.77), (-129.263, 39...   \n",
       "10435  [(-478.125, 8.03926, -201.415), (-1.09526, 2.1...   \n",
       "\n",
       "                                     iter_deltaDistances  \\\n",
       "0          [331.411, 74.4456, 24.6899, 10.4051, 4.14922]   \n",
       "1                    [1200.51, 504.362, 92.031, 5.36262]   \n",
       "2      [815.876, 494.278, 752.499, 2550.88, 502.771, ...   \n",
       "3      [1063.8, 1078.56, 1996.53, 1029.53, 232.534, 2...   \n",
       "4                   [483.034, 154.944, 36.8421, 7.35844]   \n",
       "...                                                  ...   \n",
       "10431                      [290.37, 1.75959, 0.00762202]   \n",
       "10432      [1386.91, 2580.25, 1981.56, 132.435, 4.65559]   \n",
       "10433               [1222.88, 575.041, 111.157, 35.1279]   \n",
       "10434                [1054.1, 2724.01, 1604.04, 8.49156]   \n",
       "10435                        [518.879, 51.7522, 10.9686]   \n",
       "\n",
       "                                         iter_deltaChi2s     status  \n",
       "0      [316.37, 4.79309, 0.0829486, 0.0147622, 0.0022...  Converged  \n",
       "1               [823.108, 23.4586, 0.611948, 0.00275324]  Converged  \n",
       "2      [199.006, 6.10129, 2.90123, 7.32744, 0.281375,...  Converged  \n",
       "3      [265.583, 7.19944, 0.836226, 0.258878, 0.01797...  Converged  \n",
       "4              [186.837, 2.66068, 0.0743883, 0.00248775]  Converged  \n",
       "...                                                  ...        ...  \n",
       "10431                   [3606.63, 0.421589, 1.34646e-05]  Converged  \n",
       "10432  [301.349, 50.7064, 6.47518, 0.0175542, 2.12254...  Converged  \n",
       "10433           [246.57, 3.22212, 0.0494256, 0.00493449]  Converged  \n",
       "10434            [1019.87, 530.185, 49.2371, 0.00174364]  Converged  \n",
       "10435                    [59.9031, 0.106144, 0.00494273]  Converged  \n",
       "\n",
       "[10436 rows x 20 columns]"
      ]
     },
     "execution_count": 3,
     "metadata": {},
     "output_type": "execute_result"
    }
   ],
   "source": [
    "df_events"
   ]
  },
  {
   "cell_type": "markdown",
   "id": "9bffa489",
   "metadata": {},
   "source": [
    "# Helper functions\n",
    "## Feature component functions\n",
    "We use nested information (lists within the DataFrame), which make it a bit hard to single out individual components. These functions help with that."
   ]
  },
  {
   "cell_type": "code",
   "execution_count": 4,
   "id": "f361c65e",
   "metadata": {},
   "outputs": [],
   "source": [
    "## Use 1,2,3 instead of 0,1,2. Trust me, it's easier.\n",
    "def Feature1DComponent(series, component):\n",
    "    return series.map(lambda x: x[component-1])"
   ]
  },
  {
   "cell_type": "code",
   "execution_count": 5,
   "id": "c6b8ed2d",
   "metadata": {},
   "outputs": [],
   "source": [
    "def Feature2DComponent(series, row, column):\n",
    "    return series.map(lambda x: x[row-1][column-1])"
   ]
  },
  {
   "cell_type": "code",
   "execution_count": 6,
   "id": "4cd7d6cd",
   "metadata": {},
   "outputs": [],
   "source": [
    "def FeatureCoordinate(series, coordinate):  \n",
    "    coordToComponent = {'x': 1, 'y': 2, 'z': 3}\n",
    "    return Feature1DComponent(series, coordToComponent[coordinate])"
   ]
  },
  {
   "cell_type": "markdown",
   "id": "34a645ea",
   "metadata": {},
   "source": [
    "# Are covariance matrices positive-definite?\n",
    "If they are not, `linalg.cholesky` will throw a tantrum."
   ]
  },
  {
   "cell_type": "code",
   "execution_count": 7,
   "id": "62e0e602",
   "metadata": {},
   "outputs": [],
   "source": [
    "def IsPositiveDefinite(matrix, verbose=False):\n",
    "    try:\n",
    "        linalg.cholesky(np.array(matrix))\n",
    "    except linalg.LinAlgError as e:\n",
    "        if verbose:\n",
    "            print(str(e))\n",
    "        return False\n",
    "    return True"
   ]
  },
  {
   "cell_type": "markdown",
   "id": "6fc2a935",
   "metadata": {},
   "source": [
    "## Are the seed inverted covariance matrices PD?"
   ]
  },
  {
   "cell_type": "code",
   "execution_count": 8,
   "id": "f802e2c3",
   "metadata": {},
   "outputs": [
    {
     "name": "stdout",
     "output_type": "stream",
     "text": [
      "All clear.\n"
     ]
    }
   ],
   "source": [
    "pdCounter = 0\n",
    "\n",
    "for ci in df_events['seed_ci']:\n",
    "    pdCounter += not IsPositiveDefinite(ci)\n",
    "\n",
    "if not pdCounter:\n",
    "    print(\"All clear.\")\n",
    "else:\n",
    "    percentage = \"{:.2%}\".format(pdCounter / len(df_events))\n",
    "    print(\"No,\", pdCounter, \"(\" + percentage + \") are not.\")"
   ]
  },
  {
   "cell_type": "markdown",
   "id": "8f2bdaa7",
   "metadata": {},
   "source": [
    "## Are the inverted covariance matrices within an iteration PD?"
   ]
  },
  {
   "cell_type": "code",
   "execution_count": 9,
   "id": "b389826e",
   "metadata": {},
   "outputs": [
    {
     "name": "stdout",
     "output_type": "stream",
     "text": [
      "No, 17 (0.16%) are not.\n"
     ]
    }
   ],
   "source": [
    "pdCounter = 0\n",
    "\n",
    "for ciList in df_events[\"iter_covMatrices\"]:\n",
    "    for ci in ciList:\n",
    "        pdCounter += not IsPositiveDefinite(ci)\n",
    "\n",
    "if not pdCounter:\n",
    "    print(\"All clear.\")\n",
    "else:\n",
    "    percentage = \"{:.2%}\".format(pdCounter / len(df_events))\n",
    "    print(\"No,\", pdCounter, \"(\" + percentage + \") are not.\")"
   ]
  },
  {
   "cell_type": "markdown",
   "id": "a5b1c162",
   "metadata": {},
   "source": [
    "## What if we invert them?"
   ]
  },
  {
   "cell_type": "code",
   "execution_count": 10,
   "id": "1bc65763",
   "metadata": {},
   "outputs": [
    {
     "name": "stdout",
     "output_type": "stream",
     "text": [
      "All clear.\n"
     ]
    }
   ],
   "source": [
    "pdCounter = 0\n",
    "\n",
    "for ci in df_events['seed_ci']:\n",
    "    c = linalg.inv(ci)\n",
    "    pdCounter += not IsPositiveDefinite(c)\n",
    "\n",
    "if not pdCounter:\n",
    "    print(\"All clear.\")\n",
    "else:\n",
    "    percentage = \"{:.2%}\".format(pdCounter / len(df_events))\n",
    "    print(\"No,\", pdCounter, \"(\" + percentage + \") are not.\")"
   ]
  },
  {
   "cell_type": "code",
   "execution_count": 11,
   "id": "d0463635",
   "metadata": {},
   "outputs": [
    {
     "name": "stdout",
     "output_type": "stream",
     "text": [
      "No, 17 (0.16%) are not.\n"
     ]
    }
   ],
   "source": [
    "pdCounter = 0\n",
    "\n",
    "for ciList in df_events[\"iter_covMatrices\"]:\n",
    "    for ci in ciList:\n",
    "        c = linalg.inv(ci)\n",
    "        pdCounter += not IsPositiveDefinite(c)\n",
    "\n",
    "if not pdCounter:\n",
    "    print(\"All clear.\")\n",
    "else:\n",
    "    percentage = \"{:.2%}\".format(pdCounter / len(df_events))\n",
    "    print(\"No,\", pdCounter, \"(\" + percentage + \") are not.\")"
   ]
  },
  {
   "cell_type": "markdown",
   "id": "f0627805",
   "metadata": {},
   "source": [
    "## Okay, okay, but what about the position-momentum covariance matrices of the proto-particles?\n",
    "Well, here we run into a bit of a problem. See, the `posMomCovMatrix` has a row and column of zeros corresponding to the $z$ coordinate, which is measured. Moreover, I suspect the measurement of energy (7th row/column) is not always independent from that of momentum."
   ]
  },
  {
   "cell_type": "code",
   "execution_count": 12,
   "id": "bb3c4b4e",
   "metadata": {},
   "outputs": [],
   "source": [
    "## Flip the switch for the proton/pion analysis\n",
    "particleToStudy = 'pion'\n",
    "\n",
    "if particleToStudy == 'proton':\n",
    "    pmcFeature = 'p_posMomCovMatrix'\n",
    "elif particleToStudy == 'pion':\n",
    "    pmcFeature = 'pim_posMomCovMatrix'\n",
    "else:\n",
    "    raise NameError(\"Particle not recognized.\")"
   ]
  },
  {
   "cell_type": "markdown",
   "id": "e6fdeb74",
   "metadata": {},
   "source": [
    "### Full 7D matrix"
   ]
  },
  {
   "cell_type": "code",
   "execution_count": 13,
   "id": "2f0baf02",
   "metadata": {},
   "outputs": [
    {
     "name": "stdout",
     "output_type": "stream",
     "text": [
      "No, 10436 (100.00%) are not.\n"
     ]
    }
   ],
   "source": [
    "pdCounter = 0\n",
    "\n",
    "for pmc in df_events[pmcFeature]:\n",
    "    pdCounter += not IsPositiveDefinite(pmc)\n",
    "\n",
    "if not pdCounter:\n",
    "    print(\"All clear.\")\n",
    "else:\n",
    "    percentage = \"{:.2%}\".format(pdCounter / len(df_events))\n",
    "    print(\"No,\", pdCounter, \"(\" + percentage + \") are not.\")"
   ]
  },
  {
   "cell_type": "markdown",
   "id": "860f792a",
   "metadata": {},
   "source": [
    "### 3D reference point covariance matrix"
   ]
  },
  {
   "cell_type": "code",
   "execution_count": 14,
   "id": "721b2a2c",
   "metadata": {},
   "outputs": [
    {
     "name": "stdout",
     "output_type": "stream",
     "text": [
      "No, 10436 (100.00%) are not.\n"
     ]
    }
   ],
   "source": [
    "pdCounter = 0\n",
    "\n",
    "for pmc in df_events[pmcFeature]:\n",
    "    pc = np.array(pmc)[np.ix_([0,1,2],[0,1,2])]\n",
    "    pdCounter += not IsPositiveDefinite(pc)\n",
    "\n",
    "if not pdCounter:\n",
    "    print(\"All clear.\")\n",
    "else:\n",
    "    percentage = \"{:.2%}\".format(pdCounter / len(df_events))\n",
    "    print(\"No,\", pdCounter, \"(\" + percentage + \") are not.\")"
   ]
  },
  {
   "cell_type": "markdown",
   "id": "1d9b1d0f",
   "metadata": {},
   "source": [
    "### 2D reference point covariance matrix ($z$ omissis)"
   ]
  },
  {
   "cell_type": "code",
   "execution_count": 15,
   "id": "2cc0eaa8",
   "metadata": {},
   "outputs": [
    {
     "name": "stdout",
     "output_type": "stream",
     "text": [
      "All clear.\n"
     ]
    }
   ],
   "source": [
    "pdCounter = 0\n",
    "\n",
    "for pmc in df_events[pmcFeature]:\n",
    "    pc2d = np.array(pmc)[np.ix_([0,1],[0,1])]\n",
    "    pdCounter += not IsPositiveDefinite(pc2d)\n",
    "\n",
    "if not pdCounter:\n",
    "    print(\"All clear.\")\n",
    "else:\n",
    "    percentage = \"{:.2%}\".format(pdCounter / len(df_events))\n",
    "    print(\"No,\", pdCounter, \"(\" + percentage + \") are not.\")"
   ]
  },
  {
   "cell_type": "markdown",
   "id": "4658e793",
   "metadata": {},
   "source": [
    "### 4D momentum-energy covariance matrix"
   ]
  },
  {
   "cell_type": "code",
   "execution_count": 16,
   "id": "e39b6177",
   "metadata": {},
   "outputs": [
    {
     "name": "stdout",
     "output_type": "stream",
     "text": [
      "No, 5483 (52.54%) are not.\n"
     ]
    }
   ],
   "source": [
    "pdCounter = 0\n",
    "\n",
    "for pmc in df_events[pmcFeature]:\n",
    "    pc2d = np.array(pmc)[np.ix_([3,4,5,6],[3,4,5,6])]\n",
    "    pdCounter += not IsPositiveDefinite(pc2d)\n",
    "\n",
    "if not pdCounter:\n",
    "    print(\"All clear.\")\n",
    "else:\n",
    "    percentage = \"{:.2%}\".format(pdCounter / len(df_events))\n",
    "    print(\"No,\", pdCounter, \"(\" + percentage + \") are not.\")"
   ]
  },
  {
   "cell_type": "markdown",
   "id": "e8ee8846",
   "metadata": {},
   "source": [
    "This warrants a deeper look."
   ]
  },
  {
   "cell_type": "markdown",
   "id": "82c344b6",
   "metadata": {},
   "source": [
    "#### Only converged fits"
   ]
  },
  {
   "cell_type": "code",
   "execution_count": 17,
   "id": "b9d09f3a",
   "metadata": {},
   "outputs": [
    {
     "name": "stdout",
     "output_type": "stream",
     "text": [
      "No, 4361 (52%) are not.\n"
     ]
    }
   ],
   "source": [
    "pdCounter = 0\n",
    "status = 'Converged'\n",
    "\n",
    "for pmc in df_events.loc[df_events['status'] == status][pmcFeature]:\n",
    "    pc2d = np.array(pmc)[np.ix_([3,4,5,6],[3,4,5,6])]\n",
    "    pdCounter += not IsPositiveDefinite(pc2d)\n",
    "\n",
    "if not pdCounter:\n",
    "    print(\"All clear.\")\n",
    "else:\n",
    "    percentage = \"{:.0%}\".format(pdCounter / sum(df_events['status'] == status))\n",
    "    print(\"No,\", pdCounter, \"(\" + percentage + \") are not.\")"
   ]
  },
  {
   "cell_type": "markdown",
   "id": "19d1fbbe",
   "metadata": {},
   "source": [
    "#### Only failed fits"
   ]
  },
  {
   "cell_type": "code",
   "execution_count": 18,
   "id": "b71d6895",
   "metadata": {},
   "outputs": [
    {
     "name": "stdout",
     "output_type": "stream",
     "text": [
      "No, 1122 (53%) are not.\n"
     ]
    }
   ],
   "source": [
    "pdCounter = 0\n",
    "status = 'NonConverged'\n",
    "\n",
    "for pmc in df_events.loc[df_events['status'] == status][pmcFeature]:\n",
    "    pc2d = np.array(pmc)[np.ix_([3,4,5,6],[3,4,5,6])]\n",
    "    pdCounter += not IsPositiveDefinite(pc2d)\n",
    "\n",
    "if not pdCounter:\n",
    "    print(\"All clear.\")\n",
    "else:\n",
    "    percentage = \"{:.0%}\".format(pdCounter / sum(df_events['status'] == status))\n",
    "    print(\"No,\", pdCounter, \"(\" + percentage + \") are not.\")"
   ]
  },
  {
   "cell_type": "markdown",
   "id": "7e7d090a",
   "metadata": {},
   "source": [
    "Same percentage, nothing to see here folks."
   ]
  },
  {
   "cell_type": "markdown",
   "id": "34d3a8a3",
   "metadata": {},
   "source": [
    "### 3D momentum covariance matrix"
   ]
  },
  {
   "cell_type": "code",
   "execution_count": 19,
   "id": "7fe51f8c",
   "metadata": {},
   "outputs": [
    {
     "name": "stdout",
     "output_type": "stream",
     "text": [
      "No, 29 (0.28%) are not.\n"
     ]
    }
   ],
   "source": [
    "pdCounter = 0\n",
    "\n",
    "for pmc in df_events[pmcFeature]:\n",
    "    pc2d = np.array(pmc)[np.ix_([3,4,5],[3,4,5])]\n",
    "    pdCounter += not IsPositiveDefinite(pc2d)\n",
    "\n",
    "if not pdCounter:\n",
    "    print(\"All clear.\")\n",
    "else:\n",
    "    percentage = \"{:.2%}\".format(pdCounter / len(df_events))\n",
    "    print(\"No,\", pdCounter, \"(\" + percentage + \") are not.\")"
   ]
  },
  {
   "cell_type": "markdown",
   "id": "6a91bc49",
   "metadata": {},
   "source": [
    "Well, that's just mean. Probably something fucked up in particle reconstruction."
   ]
  },
  {
   "cell_type": "markdown",
   "id": "0885a18b",
   "metadata": {},
   "source": [
    "### 6D hybrid covariance matrix ($z$ omissis)"
   ]
  },
  {
   "cell_type": "code",
   "execution_count": 20,
   "id": "76e26e67",
   "metadata": {},
   "outputs": [
    {
     "name": "stdout",
     "output_type": "stream",
     "text": [
      "No, 5495 (52.65%) are not.\n"
     ]
    }
   ],
   "source": [
    "pdCounter = 0\n",
    "toKeep = [0,1,3,4,5,6]\n",
    "\n",
    "for pmc in df_events[pmcFeature]:\n",
    "    pc2d = np.array(pmc)[np.ix_(toKeep, toKeep)]\n",
    "    pdCounter += not IsPositiveDefinite(pc2d)\n",
    "\n",
    "if not pdCounter:\n",
    "    print(\"All clear.\")\n",
    "else:\n",
    "    percentage = \"{:.2%}\".format(pdCounter / len(df_events))\n",
    "    print(\"No,\", pdCounter, \"(\" + percentage + \") are not.\")"
   ]
  },
  {
   "cell_type": "markdown",
   "id": "756b1240",
   "metadata": {},
   "source": [
    "Probably all due to the energy problem."
   ]
  },
  {
   "cell_type": "markdown",
   "id": "75cd91ca",
   "metadata": {},
   "source": [
    "### 6D hybrid covariance matrix ($E$ omissis)"
   ]
  },
  {
   "cell_type": "code",
   "execution_count": 21,
   "id": "c844bfb1",
   "metadata": {},
   "outputs": [
    {
     "name": "stdout",
     "output_type": "stream",
     "text": [
      "No, 10436 (100.00%) are not.\n"
     ]
    }
   ],
   "source": [
    "pdCounter = 0\n",
    "toKeep = [0,1,2,3,4,5]\n",
    "\n",
    "for pmc in df_events[pmcFeature]:\n",
    "    pc2d = np.array(pmc)[np.ix_(toKeep, toKeep)]\n",
    "    pdCounter += not IsPositiveDefinite(pc2d)\n",
    "\n",
    "if not pdCounter:\n",
    "    print(\"All clear.\")\n",
    "else:\n",
    "    percentage = \"{:.2%}\".format(pdCounter / len(df_events))\n",
    "    print(\"No,\", pdCounter, \"(\" + percentage + \") are not.\")"
   ]
  },
  {
   "cell_type": "markdown",
   "id": "3bcd832f",
   "metadata": {},
   "source": [
    "### 5D hybrid covariance matrix ($E$, $z$ omissis)"
   ]
  },
  {
   "cell_type": "code",
   "execution_count": 22,
   "id": "870bff1d",
   "metadata": {},
   "outputs": [
    {
     "name": "stdout",
     "output_type": "stream",
     "text": [
      "No, 42 (0.40%) are not.\n"
     ]
    }
   ],
   "source": [
    "pdCounter = 0\n",
    "toKeep = [0,1,3,4,5]\n",
    "\n",
    "for pmc in df_events[pmcFeature]:\n",
    "    pc2d = np.array(pmc)[np.ix_(toKeep, toKeep)]\n",
    "    pdCounter += not IsPositiveDefinite(pc2d)\n",
    "\n",
    "if not pdCounter:\n",
    "    print(\"All clear.\")\n",
    "else:\n",
    "    percentage = \"{:.2%}\".format(pdCounter / len(df_events))\n",
    "    print(\"No,\", pdCounter, \"(\" + percentage + \") are not.\")"
   ]
  }
 ],
 "metadata": {
  "kernelspec": {
   "display_name": "Python 3",
   "language": "python",
   "name": "python3"
  },
  "language_info": {
   "codemirror_mode": {
    "name": "ipython",
    "version": 3
   },
   "file_extension": ".py",
   "mimetype": "text/x-python",
   "name": "python",
   "nbconvert_exporter": "python",
   "pygments_lexer": "ipython3",
   "version": "3.6.8"
  }
 },
 "nbformat": 4,
 "nbformat_minor": 5
}
