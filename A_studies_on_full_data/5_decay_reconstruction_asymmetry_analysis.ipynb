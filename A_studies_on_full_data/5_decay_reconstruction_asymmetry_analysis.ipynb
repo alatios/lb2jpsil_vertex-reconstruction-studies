{
 "cells": [
  {
   "cell_type": "code",
   "execution_count": 1,
   "id": "f43f1e01",
   "metadata": {},
   "outputs": [],
   "source": [
    "import numpy as np\n",
    "import pandas as pd\n",
    "import time\n",
    "from matplotlib import pyplot as plt\n",
    "from matplotlib import colors as mcolors\n",
    "import pathlib\n",
    "import gc"
   ]
  },
  {
   "cell_type": "code",
   "execution_count": 2,
   "id": "259cbb52",
   "metadata": {},
   "outputs": [],
   "source": [
    "preselectionCuts = False\n",
    "DTF_FixLambda_success = False\n",
    "save_plots = False"
   ]
  },
  {
   "cell_type": "markdown",
   "id": "c9bd5ffc",
   "metadata": {},
   "source": [
    "# Import data"
   ]
  },
  {
   "cell_type": "code",
   "execution_count": 3,
   "id": "6a134336",
   "metadata": {},
   "outputs": [],
   "source": [
    "inputMC = '~/data/MAGUPDOWN_LHCbMC_Lb2JPsiL_150000.h5'"
   ]
  },
  {
   "cell_type": "code",
   "execution_count": 4,
   "id": "7f58eecb",
   "metadata": {},
   "outputs": [
    {
     "name": "stdout",
     "output_type": "stream",
     "text": [
      "MagUp imported in 0.5615 seconds.\n"
     ]
    }
   ],
   "source": [
    "tickMC = time.perf_counter()\n",
    "df_magup = pd.read_hdf(inputMC, key='LHCbMC_MagUp')\n",
    "tockMC = time.perf_counter()\n",
    "print(f\"MagUp imported in {tockMC - tickMC:0.4f} seconds.\")"
   ]
  },
  {
   "cell_type": "code",
   "execution_count": 5,
   "id": "96c92e0e",
   "metadata": {},
   "outputs": [
    {
     "name": "stdout",
     "output_type": "stream",
     "text": [
      "MagDown imported in 0.3842 seconds.\n"
     ]
    }
   ],
   "source": [
    "tickMC = time.perf_counter()\n",
    "df_magdown = pd.read_hdf(inputMC, key='LHCbMC_MagDown')\n",
    "tockMC = time.perf_counter()\n",
    "print(f\"MagDown imported in {tockMC - tickMC:0.4f} seconds.\")"
   ]
  },
  {
   "cell_type": "code",
   "execution_count": 6,
   "id": "d241f4ee",
   "metadata": {},
   "outputs": [],
   "source": [
    "df_magup['polarity'] = +1\n",
    "df_magdown['polarity'] = -1"
   ]
  },
  {
   "cell_type": "code",
   "execution_count": 7,
   "id": "b4400ca8",
   "metadata": {},
   "outputs": [
    {
     "data": {
      "text/html": [
       "<div>\n",
       "<style scoped>\n",
       "    .dataframe tbody tr th:only-of-type {\n",
       "        vertical-align: middle;\n",
       "    }\n",
       "\n",
       "    .dataframe tbody tr th {\n",
       "        vertical-align: top;\n",
       "    }\n",
       "\n",
       "    .dataframe thead th {\n",
       "        text-align: right;\n",
       "    }\n",
       "</style>\n",
       "<table border=\"1\" class=\"dataframe\">\n",
       "  <thead>\n",
       "    <tr style=\"text-align: right;\">\n",
       "      <th></th>\n",
       "      <th>Lb_ENDVERTEX_X</th>\n",
       "      <th>Lb_ENDVERTEX_Y</th>\n",
       "      <th>Lb_ENDVERTEX_Z</th>\n",
       "      <th>L_ENDVERTEX_X</th>\n",
       "      <th>L_ENDVERTEX_Y</th>\n",
       "      <th>L_ENDVERTEX_Z</th>\n",
       "      <th>Jpsi_ENDVERTEX_X</th>\n",
       "      <th>Jpsi_ENDVERTEX_Y</th>\n",
       "      <th>Jpsi_ENDVERTEX_Z</th>\n",
       "      <th>L_PX</th>\n",
       "      <th>...</th>\n",
       "      <th>DTF_FixJPsiLambda_p_PX</th>\n",
       "      <th>DTF_FixJPsiLambda_p_PY</th>\n",
       "      <th>DTF_FixJPsiLambda_p_PZ</th>\n",
       "      <th>DTF_FixJPsiLambda_mum_PX</th>\n",
       "      <th>DTF_FixJPsiLambda_mum_PY</th>\n",
       "      <th>DTF_FixJPsiLambda_mum_PZ</th>\n",
       "      <th>DTF_FixJPsiLambda_mup_PX</th>\n",
       "      <th>DTF_FixJPsiLambda_mup_PY</th>\n",
       "      <th>DTF_FixJPsiLambda_mup_PZ</th>\n",
       "      <th>polarity</th>\n",
       "    </tr>\n",
       "  </thead>\n",
       "  <tbody>\n",
       "    <tr>\n",
       "      <th>0</th>\n",
       "      <td>0.531989</td>\n",
       "      <td>0.156184</td>\n",
       "      <td>-11.605191</td>\n",
       "      <td>-990.557041</td>\n",
       "      <td>-155.257567</td>\n",
       "      <td>7681.106228</td>\n",
       "      <td>0.5413</td>\n",
       "      <td>0.1391</td>\n",
       "      <td>-11.7045</td>\n",
       "      <td>-2907.631194</td>\n",
       "      <td>...</td>\n",
       "      <td>-1887.310059</td>\n",
       "      <td>-380.207001</td>\n",
       "      <td>15194.307617</td>\n",
       "      <td>-1832.290039</td>\n",
       "      <td>2593.689697</td>\n",
       "      <td>15837.026367</td>\n",
       "      <td>105.654060</td>\n",
       "      <td>505.930420</td>\n",
       "      <td>18315.517578</td>\n",
       "      <td>1</td>\n",
       "    </tr>\n",
       "    <tr>\n",
       "      <th>1</th>\n",
       "      <td>0.528757</td>\n",
       "      <td>-0.070308</td>\n",
       "      <td>-0.085964</td>\n",
       "      <td>-180.519168</td>\n",
       "      <td>-133.057595</td>\n",
       "      <td>7569.258412</td>\n",
       "      <td>0.5293</td>\n",
       "      <td>-0.0706</td>\n",
       "      <td>-0.0969</td>\n",
       "      <td>-1120.822842</td>\n",
       "      <td>...</td>\n",
       "      <td>-501.783936</td>\n",
       "      <td>-334.683899</td>\n",
       "      <td>19481.650391</td>\n",
       "      <td>-1671.411987</td>\n",
       "      <td>2109.168945</td>\n",
       "      <td>52271.304688</td>\n",
       "      <td>-3244.415283</td>\n",
       "      <td>77.359604</td>\n",
       "      <td>114952.445312</td>\n",
       "      <td>1</td>\n",
       "    </tr>\n",
       "    <tr>\n",
       "      <th>2</th>\n",
       "      <td>0.859428</td>\n",
       "      <td>-0.376049</td>\n",
       "      <td>29.521646</td>\n",
       "      <td>-82.626349</td>\n",
       "      <td>-331.621786</td>\n",
       "      <td>4814.597517</td>\n",
       "      <td>0.8603</td>\n",
       "      <td>-0.3764</td>\n",
       "      <td>29.5380</td>\n",
       "      <td>575.017171</td>\n",
       "      <td>...</td>\n",
       "      <td>25944.191406</td>\n",
       "      <td>335472.093750</td>\n",
       "      <td>-29351.548828</td>\n",
       "      <td>1171.606445</td>\n",
       "      <td>416.795837</td>\n",
       "      <td>35885.710938</td>\n",
       "      <td>1075.763550</td>\n",
       "      <td>-3006.148926</td>\n",
       "      <td>48975.242188</td>\n",
       "      <td>1</td>\n",
       "    </tr>\n",
       "    <tr>\n",
       "      <th>3</th>\n",
       "      <td>0.933587</td>\n",
       "      <td>-0.165953</td>\n",
       "      <td>-28.980723</td>\n",
       "      <td>113.230367</td>\n",
       "      <td>-74.224539</td>\n",
       "      <td>4443.563975</td>\n",
       "      <td>0.9336</td>\n",
       "      <td>-0.1660</td>\n",
       "      <td>-28.9808</td>\n",
       "      <td>3718.929704</td>\n",
       "      <td>...</td>\n",
       "      <td>3195.363281</td>\n",
       "      <td>-2206.699219</td>\n",
       "      <td>124287.414062</td>\n",
       "      <td>-1122.164551</td>\n",
       "      <td>-457.974670</td>\n",
       "      <td>19632.806641</td>\n",
       "      <td>2103.298584</td>\n",
       "      <td>-577.603638</td>\n",
       "      <td>41140.000000</td>\n",
       "      <td>1</td>\n",
       "    </tr>\n",
       "    <tr>\n",
       "      <th>4</th>\n",
       "      <td>0.836371</td>\n",
       "      <td>-0.127803</td>\n",
       "      <td>-36.125244</td>\n",
       "      <td>128.102391</td>\n",
       "      <td>-220.857899</td>\n",
       "      <td>4732.615341</td>\n",
       "      <td>0.8364</td>\n",
       "      <td>-0.1278</td>\n",
       "      <td>-36.1245</td>\n",
       "      <td>4125.442640</td>\n",
       "      <td>...</td>\n",
       "      <td>2817.289795</td>\n",
       "      <td>-4970.541016</td>\n",
       "      <td>106978.703125</td>\n",
       "      <td>2245.155029</td>\n",
       "      <td>-649.018433</td>\n",
       "      <td>46880.835938</td>\n",
       "      <td>-270.196167</td>\n",
       "      <td>-2255.452393</td>\n",
       "      <td>64421.699219</td>\n",
       "      <td>1</td>\n",
       "    </tr>\n",
       "    <tr>\n",
       "      <th>...</th>\n",
       "      <td>...</td>\n",
       "      <td>...</td>\n",
       "      <td>...</td>\n",
       "      <td>...</td>\n",
       "      <td>...</td>\n",
       "      <td>...</td>\n",
       "      <td>...</td>\n",
       "      <td>...</td>\n",
       "      <td>...</td>\n",
       "      <td>...</td>\n",
       "      <td>...</td>\n",
       "      <td>...</td>\n",
       "      <td>...</td>\n",
       "      <td>...</td>\n",
       "      <td>...</td>\n",
       "      <td>...</td>\n",
       "      <td>...</td>\n",
       "      <td>...</td>\n",
       "      <td>...</td>\n",
       "      <td>...</td>\n",
       "      <td>...</td>\n",
       "    </tr>\n",
       "    <tr>\n",
       "      <th>301052</th>\n",
       "      <td>0.693087</td>\n",
       "      <td>0.161095</td>\n",
       "      <td>-9.228824</td>\n",
       "      <td>-787.007198</td>\n",
       "      <td>548.588560</td>\n",
       "      <td>5853.543286</td>\n",
       "      <td>0.6931</td>\n",
       "      <td>0.1611</td>\n",
       "      <td>-9.2289</td>\n",
       "      <td>-4356.159842</td>\n",
       "      <td>...</td>\n",
       "      <td>-3213.135498</td>\n",
       "      <td>2278.319092</td>\n",
       "      <td>24381.718750</td>\n",
       "      <td>-7369.694336</td>\n",
       "      <td>-635.517334</td>\n",
       "      <td>43449.867188</td>\n",
       "      <td>-1201.545898</td>\n",
       "      <td>1172.940796</td>\n",
       "      <td>7525.177246</td>\n",
       "      <td>-1</td>\n",
       "    </tr>\n",
       "    <tr>\n",
       "      <th>301053</th>\n",
       "      <td>0.753417</td>\n",
       "      <td>-0.002298</td>\n",
       "      <td>-14.793441</td>\n",
       "      <td>21.250498</td>\n",
       "      <td>-4.316952</td>\n",
       "      <td>3031.993891</td>\n",
       "      <td>0.7537</td>\n",
       "      <td>-0.0023</td>\n",
       "      <td>-14.8037</td>\n",
       "      <td>-90.097113</td>\n",
       "      <td>...</td>\n",
       "      <td>278.848846</td>\n",
       "      <td>-513.100403</td>\n",
       "      <td>6167.202637</td>\n",
       "      <td>-4192.737305</td>\n",
       "      <td>-2763.680420</td>\n",
       "      <td>126089.742188</td>\n",
       "      <td>149.431015</td>\n",
       "      <td>-1026.803101</td>\n",
       "      <td>11773.846680</td>\n",
       "      <td>-1</td>\n",
       "    </tr>\n",
       "    <tr>\n",
       "      <th>301054</th>\n",
       "      <td>0.753258</td>\n",
       "      <td>-0.002924</td>\n",
       "      <td>-14.788568</td>\n",
       "      <td>86.891471</td>\n",
       "      <td>-39.930166</td>\n",
       "      <td>-1423.725797</td>\n",
       "      <td>0.7537</td>\n",
       "      <td>-0.0023</td>\n",
       "      <td>-14.8037</td>\n",
       "      <td>-1023.567382</td>\n",
       "      <td>...</td>\n",
       "      <td>-203.438934</td>\n",
       "      <td>113.273170</td>\n",
       "      <td>9373.682617</td>\n",
       "      <td>-4180.285156</td>\n",
       "      <td>-2764.142334</td>\n",
       "      <td>125823.976562</td>\n",
       "      <td>150.138474</td>\n",
       "      <td>-1027.975708</td>\n",
       "      <td>11765.769531</td>\n",
       "      <td>-1</td>\n",
       "    </tr>\n",
       "    <tr>\n",
       "      <th>301055</th>\n",
       "      <td>0.087698</td>\n",
       "      <td>-1.617397</td>\n",
       "      <td>-29.262196</td>\n",
       "      <td>-103.501726</td>\n",
       "      <td>-524.342132</td>\n",
       "      <td>4730.464616</td>\n",
       "      <td>0.0877</td>\n",
       "      <td>-1.6174</td>\n",
       "      <td>-29.2622</td>\n",
       "      <td>-683.906986</td>\n",
       "      <td>...</td>\n",
       "      <td>-636.507935</td>\n",
       "      <td>-3697.510986</td>\n",
       "      <td>33372.894531</td>\n",
       "      <td>-1241.493530</td>\n",
       "      <td>897.250183</td>\n",
       "      <td>22576.585938</td>\n",
       "      <td>-180.677841</td>\n",
       "      <td>-1534.416016</td>\n",
       "      <td>8429.802734</td>\n",
       "      <td>-1</td>\n",
       "    </tr>\n",
       "    <tr>\n",
       "      <th>301056</th>\n",
       "      <td>0.979686</td>\n",
       "      <td>0.711960</td>\n",
       "      <td>36.422968</td>\n",
       "      <td>-134.953036</td>\n",
       "      <td>193.436436</td>\n",
       "      <td>6212.885885</td>\n",
       "      <td>0.9797</td>\n",
       "      <td>0.7120</td>\n",
       "      <td>36.4233</td>\n",
       "      <td>-1217.667917</td>\n",
       "      <td>...</td>\n",
       "      <td>-798.442749</td>\n",
       "      <td>1204.554077</td>\n",
       "      <td>39744.417969</td>\n",
       "      <td>-552.812073</td>\n",
       "      <td>1193.581299</td>\n",
       "      <td>9222.383789</td>\n",
       "      <td>2737.883057</td>\n",
       "      <td>2788.415039</td>\n",
       "      <td>56962.519531</td>\n",
       "      <td>-1</td>\n",
       "    </tr>\n",
       "  </tbody>\n",
       "</table>\n",
       "<p>301057 rows × 105 columns</p>\n",
       "</div>"
      ],
      "text/plain": [
       "        Lb_ENDVERTEX_X  Lb_ENDVERTEX_Y  Lb_ENDVERTEX_Z  L_ENDVERTEX_X  \\\n",
       "0             0.531989        0.156184      -11.605191    -990.557041   \n",
       "1             0.528757       -0.070308       -0.085964    -180.519168   \n",
       "2             0.859428       -0.376049       29.521646     -82.626349   \n",
       "3             0.933587       -0.165953      -28.980723     113.230367   \n",
       "4             0.836371       -0.127803      -36.125244     128.102391   \n",
       "...                ...             ...             ...            ...   \n",
       "301052        0.693087        0.161095       -9.228824    -787.007198   \n",
       "301053        0.753417       -0.002298      -14.793441      21.250498   \n",
       "301054        0.753258       -0.002924      -14.788568      86.891471   \n",
       "301055        0.087698       -1.617397      -29.262196    -103.501726   \n",
       "301056        0.979686        0.711960       36.422968    -134.953036   \n",
       "\n",
       "        L_ENDVERTEX_Y  L_ENDVERTEX_Z  Jpsi_ENDVERTEX_X  Jpsi_ENDVERTEX_Y  \\\n",
       "0         -155.257567    7681.106228            0.5413            0.1391   \n",
       "1         -133.057595    7569.258412            0.5293           -0.0706   \n",
       "2         -331.621786    4814.597517            0.8603           -0.3764   \n",
       "3          -74.224539    4443.563975            0.9336           -0.1660   \n",
       "4         -220.857899    4732.615341            0.8364           -0.1278   \n",
       "...               ...            ...               ...               ...   \n",
       "301052     548.588560    5853.543286            0.6931            0.1611   \n",
       "301053      -4.316952    3031.993891            0.7537           -0.0023   \n",
       "301054     -39.930166   -1423.725797            0.7537           -0.0023   \n",
       "301055    -524.342132    4730.464616            0.0877           -1.6174   \n",
       "301056     193.436436    6212.885885            0.9797            0.7120   \n",
       "\n",
       "        Jpsi_ENDVERTEX_Z         L_PX  ...  DTF_FixJPsiLambda_p_PX  \\\n",
       "0               -11.7045 -2907.631194  ...            -1887.310059   \n",
       "1                -0.0969 -1120.822842  ...             -501.783936   \n",
       "2                29.5380   575.017171  ...            25944.191406   \n",
       "3               -28.9808  3718.929704  ...             3195.363281   \n",
       "4               -36.1245  4125.442640  ...             2817.289795   \n",
       "...                  ...          ...  ...                     ...   \n",
       "301052           -9.2289 -4356.159842  ...            -3213.135498   \n",
       "301053          -14.8037   -90.097113  ...              278.848846   \n",
       "301054          -14.8037 -1023.567382  ...             -203.438934   \n",
       "301055          -29.2622  -683.906986  ...             -636.507935   \n",
       "301056           36.4233 -1217.667917  ...             -798.442749   \n",
       "\n",
       "        DTF_FixJPsiLambda_p_PY  DTF_FixJPsiLambda_p_PZ  \\\n",
       "0                  -380.207001            15194.307617   \n",
       "1                  -334.683899            19481.650391   \n",
       "2                335472.093750           -29351.548828   \n",
       "3                 -2206.699219           124287.414062   \n",
       "4                 -4970.541016           106978.703125   \n",
       "...                        ...                     ...   \n",
       "301052             2278.319092            24381.718750   \n",
       "301053             -513.100403             6167.202637   \n",
       "301054              113.273170             9373.682617   \n",
       "301055            -3697.510986            33372.894531   \n",
       "301056             1204.554077            39744.417969   \n",
       "\n",
       "        DTF_FixJPsiLambda_mum_PX  DTF_FixJPsiLambda_mum_PY  \\\n",
       "0                   -1832.290039               2593.689697   \n",
       "1                   -1671.411987               2109.168945   \n",
       "2                    1171.606445                416.795837   \n",
       "3                   -1122.164551               -457.974670   \n",
       "4                    2245.155029               -649.018433   \n",
       "...                          ...                       ...   \n",
       "301052              -7369.694336               -635.517334   \n",
       "301053              -4192.737305              -2763.680420   \n",
       "301054              -4180.285156              -2764.142334   \n",
       "301055              -1241.493530                897.250183   \n",
       "301056               -552.812073               1193.581299   \n",
       "\n",
       "        DTF_FixJPsiLambda_mum_PZ  DTF_FixJPsiLambda_mup_PX  \\\n",
       "0                   15837.026367                105.654060   \n",
       "1                   52271.304688              -3244.415283   \n",
       "2                   35885.710938               1075.763550   \n",
       "3                   19632.806641               2103.298584   \n",
       "4                   46880.835938               -270.196167   \n",
       "...                          ...                       ...   \n",
       "301052              43449.867188              -1201.545898   \n",
       "301053             126089.742188                149.431015   \n",
       "301054             125823.976562                150.138474   \n",
       "301055              22576.585938               -180.677841   \n",
       "301056               9222.383789               2737.883057   \n",
       "\n",
       "        DTF_FixJPsiLambda_mup_PY  DTF_FixJPsiLambda_mup_PZ  polarity  \n",
       "0                     505.930420              18315.517578         1  \n",
       "1                      77.359604             114952.445312         1  \n",
       "2                   -3006.148926              48975.242188         1  \n",
       "3                    -577.603638              41140.000000         1  \n",
       "4                   -2255.452393              64421.699219         1  \n",
       "...                          ...                       ...       ...  \n",
       "301052               1172.940796               7525.177246        -1  \n",
       "301053              -1026.803101              11773.846680        -1  \n",
       "301054              -1027.975708              11765.769531        -1  \n",
       "301055              -1534.416016               8429.802734        -1  \n",
       "301056               2788.415039              56962.519531        -1  \n",
       "\n",
       "[301057 rows x 105 columns]"
      ]
     },
     "execution_count": 7,
     "metadata": {},
     "output_type": "execute_result"
    }
   ],
   "source": [
    "df_MC = pd.concat([df_magup, df_magdown], ignore_index=True)\n",
    "df_MC"
   ]
  },
  {
   "cell_type": "code",
   "execution_count": 8,
   "id": "6ad7221b",
   "metadata": {},
   "outputs": [
    {
     "data": {
      "text/plain": [
       "0"
      ]
     },
     "execution_count": 8,
     "metadata": {},
     "output_type": "execute_result"
    }
   ],
   "source": [
    "## Cleanup\n",
    "try:\n",
    "    del(df_magup)\n",
    "except NameError:\n",
    "    pass\n",
    "\n",
    "try:\n",
    "    del(df_magdown)\n",
    "except NameError:\n",
    "    pass\n",
    "\n",
    "gc.collect()"
   ]
  },
  {
   "cell_type": "code",
   "execution_count": 9,
   "id": "80f19eb1",
   "metadata": {},
   "outputs": [],
   "source": [
    "def MomentumModulus(px, py, pz):\n",
    "    return np.sqrt(px**2 + py**2 + pz**2)\n",
    "\n",
    "def TransverseMomentumModulus(px, py):\n",
    "    return np.sqrt(px**2 + py**2)"
   ]
  },
  {
   "cell_type": "code",
   "execution_count": 10,
   "id": "dd2962a9",
   "metadata": {},
   "outputs": [],
   "source": [
    "if preselectionCuts:\n",
    "    JPsi1SPDGMass = 3096.900\n",
    "\n",
    "    PionPCuts = (MomentumModulus(df_MC['pim_PX'], df_MC['pim_PY'], df_MC['pim_PZ']) > 2000) & (MomentumModulus(df_MC['pim_PX'], df_MC['pim_PY'], df_MC['pim_PZ']) < 5e5)\n",
    "    ProtonPCuts = (MomentumModulus(df_MC['p_PX'], df_MC['p_PY'], df_MC['p_PZ']) > 10000) & (MomentumModulus(df_MC['p_PX'], df_MC['p_PY'], df_MC['p_PZ']) < 5e5)\n",
    "    ProtonPTCuts = TransverseMomentumModulus(df_MC['p_PX'], df_MC['p_PY']) > 400\n",
    "    LambdaMCuts = (df_MC['L_M'] > 600) & (df_MC['L_M'] < 1500)\n",
    "    LambdaMMCuts = df_MC['L_MM'] < 1500\n",
    "    LambdaZCuts = (df_MC['L_ENDVERTEX_Z'] > 5500) & (df_MC['L_ENDVERTEX_Z'] < 8500)\n",
    "    LambdaDiraCuts = (df_MC['L_BPVDIRA'] > 0.9999)\n",
    "    LambdaBPVIPCHI2Cuts = df_MC['L_BPVIPCHI2'] < 200\n",
    "    LambdaBPVVDCHI2Cuts = df_MC['L_BPVVDCHI2'] < 2e7\n",
    "    LambdaChi2Cuts = df_MC['L_VFASPF_CHI2_VDOF'] < 750\n",
    "    JPsiMCuts = abs(df_MC['Jpsi_M'] - JPsi1SPDGMass) < 90\n",
    "    LambdaPTCuts = TransverseMomentumModulus(df_MC['L_PX'], df_MC['L_PY']) > 450\n",
    "    LambdabMCuts = (df_MC['Lb_M'] < 8500)\n",
    "    LambdabDiraCuts = abs(df_MC['Lb_BPVDIRA']) > 0.99\n",
    "    LambdabBPVIPCHI2Cuts = df_MC['Lb_BPVIPCHI2'] < 1750\n",
    "    LambdabChi2Cuts = df_MC['Lb_VFASPF_CHI2_VDOF'] < 150\n",
    "\n",
    "    df_MC = df_MC.loc[\n",
    "        PionPCuts &\n",
    "        ProtonPCuts &\n",
    "        ProtonPTCuts &\n",
    "        LambdaMCuts &\n",
    "        LambdaMMCuts &\n",
    "        LambdaZCuts &\n",
    "        LambdaDiraCuts &\n",
    "        LambdaBPVIPCHI2Cuts &\n",
    "        LambdaBPVVDCHI2Cuts &\n",
    "        LambdaChi2Cuts &\n",
    "        JPsiMCuts &\n",
    "        LambdaPTCuts &\n",
    "        LambdabMCuts &\n",
    "        LambdabDiraCuts &\n",
    "        LambdabBPVIPCHI2Cuts &\n",
    "        LambdabChi2Cuts\n",
    "    ]\n",
    "    \n",
    "    if DTF_FixLambda_success:\n",
    "        DTFCuts = (df_MC['DTF_FixJPsiLambda_status'] == 'Success')\n",
    "        df_MC = df_MC.loc[DTFCuts]"
   ]
  },
  {
   "cell_type": "code",
   "execution_count": 11,
   "id": "c6f5b742",
   "metadata": {},
   "outputs": [
    {
     "data": {
      "text/plain": [
       "['Lb_ENDVERTEX_X',\n",
       " 'Lb_ENDVERTEX_Y',\n",
       " 'Lb_ENDVERTEX_Z',\n",
       " 'L_ENDVERTEX_X',\n",
       " 'L_ENDVERTEX_Y',\n",
       " 'L_ENDVERTEX_Z',\n",
       " 'Jpsi_ENDVERTEX_X',\n",
       " 'Jpsi_ENDVERTEX_Y',\n",
       " 'Jpsi_ENDVERTEX_Z',\n",
       " 'L_PX',\n",
       " 'L_PY',\n",
       " 'L_PZ',\n",
       " 'Lb_PX',\n",
       " 'Lb_PY',\n",
       " 'Lb_PZ',\n",
       " 'Jpsi_PX',\n",
       " 'Jpsi_PY',\n",
       " 'Jpsi_PZ',\n",
       " 'p_PX',\n",
       " 'p_PY',\n",
       " 'p_PZ',\n",
       " 'pim_PX',\n",
       " 'pim_PY',\n",
       " 'pim_PZ',\n",
       " 'mum_PX',\n",
       " 'mum_PY',\n",
       " 'mum_PZ',\n",
       " 'mup_PX',\n",
       " 'mup_PY',\n",
       " 'mup_PZ',\n",
       " 'Lb_ID',\n",
       " 'L_ID',\n",
       " 'Jpsi_ID',\n",
       " 'mum_ID',\n",
       " 'mup_ID',\n",
       " 'p_ID',\n",
       " 'pim_ID',\n",
       " 'L_M',\n",
       " 'L_MM',\n",
       " 'Lb_M',\n",
       " 'Lb_MM',\n",
       " 'Jpsi_M',\n",
       " 'Jpsi_MM',\n",
       " 'Lb_BPVDIRA',\n",
       " 'Lb_BPVIPCHI2',\n",
       " 'Lb_BPVVDCHI2',\n",
       " 'Lb_VFASPF_CHI2_VDOF',\n",
       " 'L_BPVDIRA',\n",
       " 'L_BPVIPCHI2',\n",
       " 'L_BPVVDCHI2',\n",
       " 'L_VFASPF_CHI2_VDOF',\n",
       " 'Lb_OWNPV_X',\n",
       " 'Lb_OWNPV_Y',\n",
       " 'Lb_OWNPV_Z',\n",
       " 'Lb_OWNPV_CHI2',\n",
       " 'Lb_OWNPV_NDOF',\n",
       " 'DTF_FixJPsi_status',\n",
       " 'DTF_FixJPsi_Lb_M',\n",
       " 'DTF_FixJPsi_Lb_P',\n",
       " 'DTF_FixJPsi_chi2',\n",
       " 'DTF_FixJPsi_nDOF',\n",
       " 'DTF_FixJPsi_PV_key',\n",
       " 'DTF_FixJPsi_PV_X',\n",
       " 'DTF_FixJPsi_PV_Y',\n",
       " 'DTF_FixJPsi_PV_Z',\n",
       " 'DTF_FixJPsi_L_M',\n",
       " 'DTF_FixJPsi_L_P',\n",
       " 'DTF_FixJPsi_L_decayLength',\n",
       " 'DTF_FixJPsi_pim_PX',\n",
       " 'DTF_FixJPsi_pim_PY',\n",
       " 'DTF_FixJPsi_pim_PZ',\n",
       " 'DTF_FixJPsi_p_PX',\n",
       " 'DTF_FixJPsi_p_PY',\n",
       " 'DTF_FixJPsi_p_PZ',\n",
       " 'DTF_FixJPsi_mum_PX',\n",
       " 'DTF_FixJPsi_mum_PY',\n",
       " 'DTF_FixJPsi_mum_PZ',\n",
       " 'DTF_FixJPsi_mup_PX',\n",
       " 'DTF_FixJPsi_mup_PY',\n",
       " 'DTF_FixJPsi_mup_PZ',\n",
       " 'DTF_FixJPsiLambda_status',\n",
       " 'DTF_FixJPsiLambda_Lb_M',\n",
       " 'DTF_FixJPsiLambda_Lb_P',\n",
       " 'DTF_FixJPsiLambda_chi2',\n",
       " 'DTF_FixJPsiLambda_nDOF',\n",
       " 'DTF_FixJPsiLambda_PV_key',\n",
       " 'DTF_FixJPsiLambda_PV_X',\n",
       " 'DTF_FixJPsiLambda_PV_Y',\n",
       " 'DTF_FixJPsiLambda_PV_Z',\n",
       " 'DTF_FixJPsiLambda_L_M',\n",
       " 'DTF_FixJPsiLambda_L_P',\n",
       " 'DTF_FixJPsiLambda_L_decayLength',\n",
       " 'DTF_FixJPsiLambda_pim_PX',\n",
       " 'DTF_FixJPsiLambda_pim_PY',\n",
       " 'DTF_FixJPsiLambda_pim_PZ',\n",
       " 'DTF_FixJPsiLambda_p_PX',\n",
       " 'DTF_FixJPsiLambda_p_PY',\n",
       " 'DTF_FixJPsiLambda_p_PZ',\n",
       " 'DTF_FixJPsiLambda_mum_PX',\n",
       " 'DTF_FixJPsiLambda_mum_PY',\n",
       " 'DTF_FixJPsiLambda_mum_PZ',\n",
       " 'DTF_FixJPsiLambda_mup_PX',\n",
       " 'DTF_FixJPsiLambda_mup_PY',\n",
       " 'DTF_FixJPsiLambda_mup_PZ',\n",
       " 'polarity']"
      ]
     },
     "execution_count": 11,
     "metadata": {},
     "output_type": "execute_result"
    }
   ],
   "source": [
    "list(df_MC)"
   ]
  },
  {
   "cell_type": "markdown",
   "id": "fdc9bed6",
   "metadata": {},
   "source": [
    "# Search for asymmetries"
   ]
  },
  {
   "cell_type": "markdown",
   "id": "f8b06d52",
   "metadata": {},
   "source": [
    "## Plot settings"
   ]
  },
  {
   "cell_type": "code",
   "execution_count": 12,
   "id": "386c5335",
   "metadata": {},
   "outputs": [],
   "source": [
    "## Create plots directory, if missing\n",
    "plotsDirectory = str(pathlib.Path.home()) + '/vertex-reconstruction-studies/plots/decay_reconstruction_asymmetry_analysis/'\n",
    "pathlib.Path(plotsDirectory).mkdir(parents=True, exist_ok=True)\n",
    "\n",
    "## Colors\n",
    "fullColor = 'grey'\n",
    "matterColor = 'tab:red'\n",
    "antimatterColor = 'tab:green'"
   ]
  },
  {
   "cell_type": "code",
   "execution_count": 13,
   "id": "a24b4ec5",
   "metadata": {},
   "outputs": [],
   "source": [
    "## series: a pandas.Series to plot, e.g. a column of a data frame\n",
    "## matterCharge: either 'matter', 'antimatter' or 'both'\n",
    "## polarity: either +1 or -1 (up and down respectively) or 'both'\n",
    "## plotTitle: title of the plot (no way)\n",
    "## seriesLabel: the label for the x-axis\n",
    "## seriesFileName: the name of the plot file (after prefixes)\n",
    "## binning: no. of bins.\n",
    "## boundaries: range of the histogram (2-ple)\n",
    "## scale: argument for plt.yscale()\n",
    "## scientificNotation: if True, use scientific notation for x axis\n",
    "def PlotSingleHistogram(\n",
    "    series,\n",
    "    matterCharge,\n",
    "    polarity,\n",
    "    plotTitle,\n",
    "    seriesLabel,\n",
    "    seriesFileName,\n",
    "    binning,\n",
    "    boundaries,\n",
    "    scale='linear',\n",
    "    scientificNotation=False\n",
    "):\n",
    "    \n",
    "    if matterCharge == 'matter':\n",
    "        matterChargeCut = (df_MC['p_ID'] == 2212)\n",
    "        customColor = matterColor\n",
    "        matterSubtitle = \"Only $\\Lambda_b$ decays\"\n",
    "        matterPrefix = 'matter'\n",
    "    elif matterCharge == 'antimatter':\n",
    "        matterChargeCut = (df_MC['p_ID'] == -2212)\n",
    "        customColor = antimatterColor\n",
    "        matterSubtitle = \"Only anti-$\\Lambda_b$ decays\"\n",
    "        matterPrefix = 'antimatter'\n",
    "    elif matterCharge == 'both':\n",
    "        matterChargeCut = (pd.Series(True,index=df_MC.index))\n",
    "        customColor = fullColor\n",
    "        matterSubtitle = \"$\\Lambda_b$ + anti-$\\Lambda_b$ decays\"\n",
    "        matterPrefix = 'allmatter'\n",
    "    else:\n",
    "        raise ValueError(\"Argument matterCharge must be either 'matter', 'antimatter' or 'both'.\")\n",
    "        \n",
    "    if polarity == 'both':\n",
    "        polarityCut = (pd.Series(True,index=df_MC.index))\n",
    "        polaritySubtitle = \"MagUp & MagDown\"\n",
    "        polarityPrefix = 'MagUpDown'\n",
    "    elif polarity in [1,-1]:\n",
    "        polarityCut = (df_MC['polarity'] == polarity)\n",
    "        if polarity == 1:\n",
    "            polaritySubtitle = \"MagUp only\"\n",
    "            polarityPrefix = 'MagUp'\n",
    "        else:\n",
    "            polaritySubtitle = \"MagDown only\"\n",
    "            polarityPrefix = 'MagDown'\n",
    "    else:\n",
    "        raise ValueError(\"Argument polarity must be either +1, -1, or 'both'.\")\n",
    "    \n",
    "    variables = series.loc[matterChargeCut & polarityCut]\n",
    "    \n",
    "    plt.hist(variables,\n",
    "             bins=binning,\n",
    "             range=boundaries,\n",
    "             histtype='stepfilled',\n",
    "             edgecolor=customColor,\n",
    "             color=mcolors.to_rgba(customColor, alpha=0.1)\n",
    "    )\n",
    "    \n",
    "    plt.axvline(x=0,ymin=0,ymax=10000,linestyle='--',color='k')\n",
    "    \n",
    "    plt.grid()\n",
    "    plt.xlabel(seriesLabel)\n",
    "    plt.title(plotTitle + \"\\n\" + \"(\" + matterSubtitle + \", \" + polaritySubtitle + \")\")\n",
    "    plt.yscale(scale)\n",
    "    plt.ylabel(\"Events\")\n",
    "    if scientificNotation:\n",
    "        plt.ticklabel_format(axis=\"x\", style=\"sci\", scilimits=(0,0))\n",
    "    if save_plots:\n",
    "        plt.savefig(plotsDirectory + matterPrefix + \"_\" + polarityPrefix + \"_\" + seriesFileName + '.pdf', bbox_inches='tight')\n",
    "    plt.show()"
   ]
  },
  {
   "cell_type": "markdown",
   "id": "d5b8db17",
   "metadata": {},
   "source": [
    "## Proton momentum"
   ]
  },
  {
   "cell_type": "code",
   "execution_count": 14,
   "id": "6ec41945",
   "metadata": {
    "scrolled": false
   },
   "outputs": [
    {
     "data": {
      "image/png": "[encoded data removed]",
      "text/plain": [
       "<Figure size 432x288 with 1 Axes>"
      ]
     },
     "metadata": {
      "needs_background": "light"
     },
     "output_type": "display_data"
    },
    {
     "data": {
      "image/png": "[encoded data removed]",
      "text/plain": [
       "<Figure size 432x288 with 1 Axes>"
      ]
     },
     "metadata": {
      "needs_background": "light"
     },
     "output_type": "display_data"
    },
    {
     "data": {
      "image/png": "[encoded data removed]",
      "text/plain": [
       "<Figure size 432x288 with 1 Axes>"
      ]
     },
     "metadata": {
      "needs_background": "light"
     },
     "output_type": "display_data"
    },
    {
     "data": {
      "image/png": "[encoded data removed]",
      "text/plain": [
       "<Figure size 432x288 with 1 Axes>"
      ]
     },
     "metadata": {
      "needs_background": "light"
     },
     "output_type": "display_data"
    }
   ],
   "source": [
    "for matterCharge in ['matter', 'antimatter']:\n",
    "    for polarity in [+1, -1]:\n",
    "        plotArgs = {\n",
    "            \"matterCharge\": matterCharge,\n",
    "            \"polarity\": polarity,\n",
    "            \"seriesLabel\": \"$p_x^{DTF}$ [MeV/$c$]\",\n",
    "            \"plotTitle\": \"Proton $p_x$ (from DTF w/ $J/\\psi$ m.c.)\",\n",
    "            \"seriesFileName\": \"p_PX_DTF\",\n",
    "            \"scale\": \"linear\",\n",
    "            \"binning\": 200,\n",
    "            \"boundaries\": (-6000,6000),\n",
    "            \"scientificNotation\": False    \n",
    "        }\n",
    "        \n",
    "        PlotSingleHistogram(df_MC['DTF_FixJPsi_p_PX'], **plotArgs)\n",
    "#PlotOverlappingHistograms(**plotArgs)"
   ]
  },
  {
   "cell_type": "code",
   "execution_count": 15,
   "id": "cf28d734",
   "metadata": {
    "scrolled": false
   },
   "outputs": [
    {
     "data": {
      "image/png": "[encoded data removed]",
      "text/plain": [
       "<Figure size 432x288 with 1 Axes>"
      ]
     },
     "metadata": {
      "needs_background": "light"
     },
     "output_type": "display_data"
    },
    {
     "data": {
      "image/png": "[encoded data removed]",
      "text/plain": [
       "<Figure size 432x288 with 1 Axes>"
      ]
     },
     "metadata": {
      "needs_background": "light"
     },
     "output_type": "display_data"
    },
    {
     "data": {
      "image/png": "[encoded data removed]",
      "text/plain": [
       "<Figure size 432x288 with 1 Axes>"
      ]
     },
     "metadata": {
      "needs_background": "light"
     },
     "output_type": "display_data"
    },
    {
     "data": {
      "image/png": "[encoded data removed]",
      "text/plain": [
       "<Figure size 432x288 with 1 Axes>"
      ]
     },
     "metadata": {
      "needs_background": "light"
     },
     "output_type": "display_data"
    }
   ],
   "source": [
    "for matterCharge in ['matter', 'antimatter']:\n",
    "    for polarity in [+1, -1]:\n",
    "        plotArgs = {\n",
    "            \"matterCharge\": matterCharge,\n",
    "            \"polarity\": polarity,\n",
    "            \"seriesLabel\": \"$p_x^{VF}$ [MeV/$c$]\",\n",
    "            \"plotTitle\": \"Proton $p_x$ (from VF)\",\n",
    "            \"seriesFileName\": \"p_PX_VF\",\n",
    "            \"scale\": \"linear\",\n",
    "            \"binning\": 200,\n",
    "            \"boundaries\": (-6000,6000),\n",
    "            \"scientificNotation\": False    \n",
    "        }\n",
    "        \n",
    "        PlotSingleHistogram(df_MC['p_PX'], **plotArgs)\n",
    "#PlotOverlappingHistograms(**plotArgs)"
   ]
  },
  {
   "cell_type": "markdown",
   "id": "77f0d1d8",
   "metadata": {},
   "source": [
    "## Horizontality"
   ]
  },
  {
   "cell_type": "code",
   "execution_count": 16,
   "id": "48d32af4",
   "metadata": {},
   "outputs": [],
   "source": [
    "def RowAVec(row):\n",
    "    return np.cross(row['p_DTF_pvec'], row['pim_DTF_pvec'])\n",
    "\n",
    "def RowANorm(row):\n",
    "    return np.linalg.norm(row['DTF_FixJpsi_avec'])"
   ]
  },
  {
   "cell_type": "code",
   "execution_count": 17,
   "id": "46cb15b1",
   "metadata": {},
   "outputs": [],
   "source": [
    "df_MC['p_DTF_pvec'] = list(zip(df_MC.DTF_FixJPsi_p_PX, df_MC.DTF_FixJPsi_p_PY, df_MC.DTF_FixJPsi_p_PZ))\n",
    "df_MC['pim_DTF_pvec'] = list(zip(df_MC.DTF_FixJPsi_pim_PX, df_MC.DTF_FixJPsi_pim_PY, df_MC.DTF_FixJPsi_pim_PZ))"
   ]
  },
  {
   "cell_type": "code",
   "execution_count": 18,
   "id": "f88af319",
   "metadata": {},
   "outputs": [],
   "source": [
    "df_MC['DTF_FixJpsi_avec'] = df_MC.apply(lambda row: RowAVec(row), axis=1)\n",
    "df_MC['DTF_FixJpsi_anorm'] = df_MC.apply(lambda row: RowANorm(row), axis=1)"
   ]
  },
  {
   "cell_type": "code",
   "execution_count": 19,
   "id": "afaff0ed",
   "metadata": {},
   "outputs": [],
   "source": [
    "def Feature1DComponent(series, component):\n",
    "    return series.map(lambda x: x[component])"
   ]
  },
  {
   "cell_type": "code",
   "execution_count": 20,
   "id": "d1d40a02",
   "metadata": {},
   "outputs": [],
   "source": [
    "df_MC['DTF_FixJpsi_ahat'] = df_MC['DTF_FixJpsi_avec']/df_MC['DTF_FixJpsi_anorm']\n",
    "df_MC['DTF_FixJpsi_h'] = Feature1DComponent(df_MC['DTF_FixJpsi_ahat'], 1) * df_MC['polarity'] * np.sign(df_MC['L_ID'])"
   ]
  },
  {
   "cell_type": "code",
   "execution_count": 21,
   "id": "c9647971",
   "metadata": {},
   "outputs": [
    {
     "data": {
      "image/png": "[encoded data removed]",
      "text/plain": [
       "<Figure size 432x288 with 1 Axes>"
      ]
     },
     "metadata": {
      "needs_background": "light"
     },
     "output_type": "display_data"
    }
   ],
   "source": [
    "plotArgs = {\n",
    "    \"matterCharge\": 'both',\n",
    "    \"polarity\": 'both',\n",
    "    \"seriesLabel\": \"$h$\",\n",
    "    \"plotTitle\": \"Horizontality\",\n",
    "    \"seriesFileName\": \"horizontality\",\n",
    "    \"scale\": \"log\",\n",
    "    \"binning\": 200,\n",
    "    \"boundaries\": (-1,1),\n",
    "    \"scientificNotation\": False    \n",
    "}\n",
    "       \n",
    "PlotSingleHistogram(df_MC['DTF_FixJpsi_h'], **plotArgs)"
   ]
  }
 ],
 "metadata": {
  "kernelspec": {
   "display_name": "Python 3",
   "language": "python",
   "name": "python3"
  },
  "language_info": {
   "codemirror_mode": {
    "name": "ipython",
    "version": 3
   },
   "file_extension": ".py",
   "mimetype": "text/x-python",
   "name": "python",
   "nbconvert_exporter": "python",
   "pygments_lexer": "ipython3",
   "version": "3.6.8"
  }
 },
 "nbformat": 4,
 "nbformat_minor": 5
}
